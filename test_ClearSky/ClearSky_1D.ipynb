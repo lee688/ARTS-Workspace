{
 "cells": [
  {
   "cell_type": "code",
   "execution_count": 10,
   "metadata": {},
   "outputs": [],
   "source": [
    "import numpy as np\n",
    "from scipy import io as sio\n",
    "from matplotlib import pyplot as plt"
   ]
  },
  {
   "cell_type": "code",
   "execution_count": 11,
   "metadata": {},
   "outputs": [],
   "source": [
    "import typhon as tp"
   ]
  },
  {
   "cell_type": "code",
   "execution_count": 12,
   "metadata": {},
   "outputs": [
    {
     "name": "stderr",
     "output_type": "stream",
     "text": [
      "/home/user/anaconda3/lib/python3.6/site-packages/typhon/arts/utils.py:32: FutureWarning: Conversion of the second argument of issubdtype from `complex` to `np.complexfloating` is deprecated. In future, it will be treated as `np.complex128 == np.dtype(complex).type`.\n",
      "  if np.issubdtype(var.dtype, np.complex):\n",
      "/home/user/anaconda3/lib/python3.6/site-packages/typhon/arts/xml/write.py:185: FutureWarning: Conversion of the second argument of issubdtype from `complex` to `np.complexfloating` is deprecated. In future, it will be treated as `np.complex128 == np.dtype(complex).type`.\n",
      "  if np.issubdtype(var.dtype, np.complex):\n",
      "/home/user/anaconda3/lib/python3.6/site-packages/typhon/arts/xml/write.py:197: FutureWarning: Conversion of the second argument of issubdtype from `complex` to `np.complexfloating` is deprecated. In future, it will be treated as `np.complex128 == np.dtype(complex).type`.\n",
      "  if np.issubdtype(var.dtype, np.complex):\n"
     ]
    }
   ],
   "source": [
    "# Set input frequency values.\n",
    "\n",
    "# Case 1\n",
    "# f_grid = np.array([18.700e9, 22.235e9, 37.000e9, 40.000e9, 50.300e9, 52.300e9, 53.600e9, 54.550e9, 55.750e9, 57.000e9, 58.400e9, 59.800e9])\n",
    "\n",
    "# Case 2\n",
    "f_grid = np.array([ 22.234e9, 22.5e9, 23.034e9, 23.834e9, \n",
    "                    25e9, 26.234e9, 28e9, 30e9, \n",
    "                    51.248e9, 51.76e9, 52.28e9, 52.804e9, \n",
    "                    53.336e9, 53.848e9, 54.4e9, 54.94e9, \n",
    "                    55.5e9, 56.02e9, 56.66e9, 57.288e9, 57.964e9, 58.8e9 ])\n",
    "                   \n",
    "tp.arts.xml.save(f_grid, './ClearSky_1D_f_grid.xml')"
   ]
  },
  {
   "cell_type": "code",
   "execution_count": 13,
   "metadata": {},
   "outputs": [
    {
     "name": "stderr",
     "output_type": "stream",
     "text": [
      "/home/user/anaconda3/lib/python3.6/site-packages/typhon/arts/utils.py:32: FutureWarning: Conversion of the second argument of issubdtype from `complex` to `np.complexfloating` is deprecated. In future, it will be treated as `np.complex128 == np.dtype(complex).type`.\n",
      "  if np.issubdtype(var.dtype, np.complex):\n",
      "/home/user/anaconda3/lib/python3.6/site-packages/typhon/arts/xml/write.py:185: FutureWarning: Conversion of the second argument of issubdtype from `complex` to `np.complexfloating` is deprecated. In future, it will be treated as `np.complex128 == np.dtype(complex).type`.\n",
      "  if np.issubdtype(var.dtype, np.complex):\n",
      "/home/user/anaconda3/lib/python3.6/site-packages/typhon/arts/xml/write.py:214: FutureWarning: Conversion of the second argument of issubdtype from `complex` to `np.complexfloating` is deprecated. In future, it will be treated as `np.complex128 == np.dtype(complex).type`.\n",
      "  if np.issubdtype(var.dtype, np.complex):\n"
     ]
    }
   ],
   "source": [
    "# Set sensor viewing angles and position.\n",
    "\n",
    "# Case 1\n",
    "sensor_los = np.array([[171.030788, 90]]) # Looking down at an angle.\n",
    "sensor_pos = np.array([[5334.194]]) # Sensor altitude\n",
    "sensor_gloc = np.array([34.511312, 127.224312]) # Sensor geolocation. \n",
    "\n",
    "# Case 2\n",
    "# sensor_los = np.array([[0, 0]]) # Looking straight up\n",
    "# sensor_pos = np.array([[0]]) # Sensor geolocation does not matter since it is 1-D calculation. \n",
    "# sensor_gloc = np.array([34.763892, 127.212426]) # Bosung, Korea\n",
    "\n",
    "tp.arts.xml.save(sensor_los, './ClearSky_1D_sensor_los.xml')\n",
    "tp.arts.xml.save(sensor_pos, './ClearSky_1D_sensor_pos.xml')"
   ]
  },
  {
   "cell_type": "code",
   "execution_count": 14,
   "metadata": {},
   "outputs": [],
   "source": [
    "# Load surface and atmosphere datasets from netCDF input files. \n",
    "surface_dataset = sio.netcdf.netcdf_file('./l015v070erlounish000.2017093000.rec.nc',mmap=False)\n",
    "atmosphere_dataset = sio.netcdf.netcdf_file('./l015v070erlopresh000.2017093000.rec.nc',mmap=False)"
   ]
  },
  {
   "cell_type": "code",
   "execution_count": 15,
   "metadata": {},
   "outputs": [],
   "source": [
    "# Find the geolocation of the pixel that is closest to the geolocation of the sensor's line-of-sight (LOS). "
   ]
  },
  {
   "cell_type": "code",
   "execution_count": 16,
   "metadata": {},
   "outputs": [],
   "source": [
    "# Assume WGS 1984 for the reference Ellipsoid.\n",
    "R_eq = 6378137 # Earth's equatorial radius, in meters\n",
    "iFlttn = 298.257223563 # Inverse flattening\n",
    "R_polar = R_eq * (1-1/iFlttn) # Earth's polar radius\n",
    "eccnty = 2/iFlttn - (iFlttn)**2 # Eccentricity of the ellipsoid. "
   ]
  },
  {
   "cell_type": "code",
   "execution_count": 17,
   "metadata": {},
   "outputs": [
    {
     "data": {
      "text/plain": [
       "array([-3182009.45807626,  4188450.98437184,  3604567.46616321])"
      ]
     },
     "execution_count": 17,
     "metadata": {},
     "output_type": "execute_result"
    }
   ],
   "source": [
    "# Convert the sensor's position from polar to Cartesian coordinates.\n",
    "sensor_pos_alt = sensor_pos[0][0]\n",
    "sensor_pos_lat = sensor_gloc[0]\n",
    "sensor_pos_lon = sensor_gloc[1]\n",
    "\n",
    "# Fix!!! What does ARTS use for reference ellipsoid/sphere for 1-D calculations? This affects sensor_pos and z_field_raw. \n",
    "sensor_pos_cart1 = np.array([ (R_eq) * np.cos(sensor_pos_lat * np.pi/180) * np.cos(sensor_pos_lon * np.pi/180), \n",
    "    (R_eq) * np.cos(sensor_pos_lat * np.pi/180) * np.sin(sensor_pos_lon * np.pi/180), \n",
    "    (R_polar) * np.sin(sensor_pos_lat * np.pi/180) ]) # Cartesian coordinates of the sensor's position\n",
    "\n",
    "sensor_pos_hvector = np.array([sensor_pos_cart1[0]/(R_eq**2), sensor_pos_cart1[1]/(R_eq**2), sensor_pos_cart1[2]/(R_polar**2)])\n",
    "ttt = sensor_pos_alt/(sensor_pos_hvector[0]**2 + sensor_pos_hvector[1]**2 + sensor_pos_hvector[2]**2)**.5\n",
    "sensor_pos_h_cart = ttt * sensor_pos_hvector\n",
    "\n",
    "sensor_pos_cart = sensor_pos_cart1 + sensor_pos_h_cart\n",
    "sensor_pos_cart"
   ]
  },
  {
   "cell_type": "code",
   "execution_count": 18,
   "metadata": {},
   "outputs": [
    {
     "data": {
      "text/plain": [
       "array([-3180023.73166059,  4184445.43530778,  3601538.35386836])"
      ]
     },
     "execution_count": 18,
     "metadata": {},
     "output_type": "execute_result"
    }
   ],
   "source": [
    "# If the sensor is on the ground looking above:\n",
    "if (sensor_pos_alt == 0 and sensor_los[0][0] <= 90):\n",
    "    sensor_los_gpos = sensor_pos_cart\n",
    "\n",
    "# If the sensor is above the ground looking down: \n",
    "elif (sensor_pos_alt > 0 and sensor_los[0][0] <= 180):\n",
    "    # Find the local reference vectors for the sensor's zenith and azimuth. \n",
    "    sensor_los_localZ = -np.array([sensor_pos_cart[0]/((R_eq+sensor_pos_alt)**2), \n",
    "                                   sensor_pos_cart[1]/((R_eq+sensor_pos_alt)**2), \n",
    "                                   sensor_pos_cart[2]/((R_polar+sensor_pos_alt)**2)])\n",
    "    sensor_pos2NorthPole = np.array([0, 0, R_polar]) - sensor_pos_cart\n",
    "    sensor_pos2North = sensor_pos2NorthPole - ((np.dot(sensor_pos2NorthPole,sensor_los_localZ) / np.dot(sensor_los_localZ,sensor_los_localZ)) * sensor_los_localZ)\n",
    "    sensor_los_localX = sensor_pos2North\n",
    "    sensor_los_localY = np.cross(sensor_los_localZ,sensor_los_localX)\n",
    "\n",
    "    # Normalize the local axes for sensor_los.\n",
    "    sensor_los_localZ = sensor_los_localZ / np.linalg.norm(sensor_los_localZ)\n",
    "    sensor_los_localY = sensor_los_localY / np.linalg.norm(sensor_los_localY)\n",
    "    sensor_los_localX = sensor_los_localX / np.linalg.norm(sensor_los_localX)\n",
    "\n",
    "    # Calculate the sensor's LOS vector in reference to the Earth.\n",
    "    sensor_los_theta = (sensor_los[0][0] - 90) * np.pi/180\n",
    "    sensor_los_phi = (sensor_los[0][1]) * np.pi/180\n",
    "    sensor_los_vec = np.array([np.cos(sensor_los_theta) * np.cos(sensor_los_phi), \n",
    "                                    np.cos(sensor_los_theta) * np.sin(sensor_los_phi), \n",
    "                                    np.sin(sensor_los_theta) ])\n",
    "    sensor_los_vec_global = (sensor_los_vec[0]*sensor_los_localX + sensor_los_vec[1]*sensor_los_localY + sensor_los_vec[2]*sensor_los_localZ)\n",
    "\n",
    "    # Calculate the intersection between the Earth's ellipsoid and the sensor's LOS. \n",
    "    a = (R_polar**2) * (sensor_los_vec_global[0]**2 + sensor_los_vec_global[1]**2) + (R_eq**2) * (sensor_los_vec_global[2]**2)\n",
    "    b = 2 * ((R_polar**2) * (sensor_los_vec_global[0]*sensor_pos_cart[0] + sensor_los_vec_global[1]*sensor_pos_cart[1]) + (R_eq**2) * sensor_los_vec_global[2]*sensor_pos_cart[2])\n",
    "    c = (R_polar**2) * (sensor_pos_cart[0]**2 + sensor_pos_cart[1]**2) + (R_eq**2) * (sensor_pos_cart[2]**2) - (R_polar**2)*(R_eq**2)\n",
    "    t = np.array([(-b + (b**2 - 4*a*c)**0.5)/(2*a), (-b - (b**2 - 4*a*c)**0.5)/(2*a)])\n",
    "\n",
    "    sensor_los_gpos_cand = sensor_pos_cart + np.matrix(t).T*np.matrix(sensor_los_vec_global)\n",
    "    sensor_los_gpos_cand_dist = np.linalg.norm(sensor_pos_cart - sensor_los_gpos_cand,axis=1)\n",
    "    sensor_los_gpos_cand_dist_which = sensor_los_gpos_cand_dist < np.mean(sensor_los_gpos_cand_dist)\n",
    "    sensor_los_gpos = sensor_los_gpos_cand[sensor_los_gpos_cand_dist_which,:]\n",
    "    sensor_los_gpos = np.array(sensor_los_gpos)[0]\n",
    "    \n",
    "# Throw an error if the sensor position and LOS are not properly defined. \n",
    "else:\n",
    "    raise Exception('Wrong sensor LOS and/or position! \\n')\n",
    "    \n",
    "sensor_los_gpos"
   ]
  },
  {
   "cell_type": "code",
   "execution_count": 19,
   "metadata": {},
   "outputs": [],
   "source": [
    "# Extract variables for latitude and longitude. \n",
    "surface_lat = surface_dataset.variables['lat'][:]\n",
    "surface_lon = surface_dataset.variables['lon'][:]\n",
    "\n",
    "# Variables sizes\n",
    "surface_lat_size = len(surface_lat)\n",
    "surface_lon_size = len(surface_lon)"
   ]
  },
  {
   "cell_type": "code",
   "execution_count": 20,
   "metadata": {},
   "outputs": [],
   "source": [
    "# Calculate the Cartesian coordinates of the surface pixels. \n",
    "surface_lat_ext = np.array(np.tile(np.matrix(surface_lat).T,(1,surface_lon_size)))\n",
    "surface_lon_ext = np.array(np.tile(np.matrix(surface_lon),(surface_lat_size,1)))\n",
    "\n",
    "surface_pixel_cart = np.array([R_eq*np.cos(surface_lat_ext*np.pi/180)*np.cos(surface_lon_ext*np.pi/180),\n",
    "                               R_eq*np.cos(surface_lat_ext*np.pi/180)*np.sin(surface_lon_ext*np.pi/180),\n",
    "                               R_polar*np.sin(surface_lat_ext*np.pi/180)])"
   ]
  },
  {
   "cell_type": "code",
   "execution_count": 21,
   "metadata": {},
   "outputs": [
    {
     "data": {
      "text/plain": [
       "(153, 128)"
      ]
     },
     "execution_count": 21,
     "metadata": {},
     "output_type": "execute_result"
    }
   ],
   "source": [
    "# Find the indices of the pixel closest to the sensor_los ground location. \n",
    "surface_pixel_cart_diff = surface_pixel_cart - np.expand_dims((np.expand_dims(sensor_los_gpos,axis=1)),axis=1)\n",
    "surface_pixel_cart_dist = np.zeros((surface_lat_size,surface_lon_size))\n",
    "\n",
    "for i in range(surface_lat_size):\n",
    "    for j in range(surface_lon_size):\n",
    "        surface_pixel_cart_dist[i,j] = np.linalg.norm(surface_pixel_cart_diff[:,i,j])\n",
    "\n",
    "sensor_los_indices = np.unravel_index(np.argmin(surface_pixel_cart_dist),(surface_lat_size,surface_lon_size))\n",
    "sensor_los_indices"
   ]
  },
  {
   "cell_type": "raw",
   "metadata": {},
   "source": [
    "H2O: \n",
    "T = t\n",
    "P = lev\n",
    "CTEMP = T(i,j,k)-273.15\n",
    "hPa = P(k)/100 \n",
    "SVP = 6.112**(17.62*CTEMP/(243.12+CTEMP))*(1.0016+hPa*3.15*0.000001-0.074/hPa) ! saturation vapor pressure(https://planetcalc.com/2167/) \n",
    "QCF = param194.1.0\n",
    "QCL = r\n",
    "Mix_QCF(i,j,k)= SVP*QCF(i,j,k)/(461.5*T(i,j,k))\n",
    "Mix_QCL(i,j,k)= SVP*QCL(i,j,k)/(461.5*T(i,j,k))\n",
    "VMR = Mix_QCF + Mix_QCL\n",
    "\n",
    "z:\n",
    "H = gh/0.98 ! Geopotential Height -> Dynamic Height\n",
    "It has to be a geometrical altitude, i.e. the difference between its distance from the center of the ellipsoid and its radius. "
   ]
  },
  {
   "cell_type": "code",
   "execution_count": 22,
   "metadata": {},
   "outputs": [],
   "source": [
    "# Load variables from the atmospheric dataset.\n",
    "atm_pressure = atmosphere_dataset.variables['lev'][:]\n",
    "atm_temperature = atmosphere_dataset.variables['t'][:]  \n",
    "atm_geopotentialHeight = atmosphere_dataset.variables['gh'][:]  \n",
    "atm_RH = atmosphere_dataset.variables['r'][:]  \n",
    "# atm_RH_Ice = atmosphere_dataset.variables['param194.1.0'][:]  "
   ]
  },
  {
   "cell_type": "code",
   "execution_count": 23,
   "metadata": {},
   "outputs": [
    {
     "data": {
      "text/plain": [
       "102303.87"
      ]
     },
     "execution_count": 23,
     "metadata": {},
     "output_type": "execute_result"
    }
   ],
   "source": [
    "# Load variables from the surface dataset. \n",
    "sf_pressure = surface_dataset.variables['sp'][:]\n",
    "sf_temperature = surface_dataset.variables['t_2'][:]\n",
    "sf_RH = surface_dataset.variables['r'][:]\n",
    "\n",
    "# Find the surface pressure value in the sensor's LOS. \n",
    "sf_pressure_select = sf_pressure[0,sensor_los_indices[0],sensor_los_indices[1]]\n",
    "sf_pressure_select"
   ]
  },
  {
   "cell_type": "code",
   "execution_count": 24,
   "metadata": {},
   "outputs": [
    {
     "data": {
      "text/plain": [
       "array([102303.8671875, 100000.       ,  97500.       ,  95000.       ,\n",
       "        92500.       ,  90000.       ,  87500.       ,  85000.       ,\n",
       "        80000.       ,  75000.       ,  70000.       ,  65000.       ,\n",
       "        60000.       ,  55000.       ,  50000.       ,  45000.       ,\n",
       "        40000.       ,  35000.       ,  30000.       ,  25000.       ,\n",
       "        20000.       ,  15000.       ,  10000.       ,   7000.       ,\n",
       "         5000.       ])"
      ]
     },
     "execution_count": 24,
     "metadata": {},
     "output_type": "execute_result"
    }
   ],
   "source": [
    "# Create p_grid\n",
    "pressure = np.append(np.array([sf_pressure_select]), atm_pressure)\n",
    "pressure"
   ]
  },
  {
   "cell_type": "code",
   "execution_count": null,
   "metadata": {},
   "outputs": [],
   "source": []
  },
  {
   "cell_type": "code",
   "execution_count": 26,
   "metadata": {},
   "outputs": [
    {
     "data": {
      "text/plain": [
       "127.224312"
      ]
     },
     "execution_count": 26,
     "metadata": {},
     "output_type": "execute_result"
    }
   ],
   "source": [
    "sensor_gloc[1]"
   ]
  },
  {
   "cell_type": "code",
   "execution_count": null,
   "metadata": {},
   "outputs": [],
   "source": [
    "tp.geodesy.ellipsoidmodels()['WGS84']"
   ]
  },
  {
   "cell_type": "code",
   "execution_count": null,
   "metadata": {},
   "outputs": [],
   "source": []
  },
  {
   "cell_type": "code",
   "execution_count": null,
   "metadata": {},
   "outputs": [],
   "source": []
  },
  {
   "cell_type": "code",
   "execution_count": null,
   "metadata": {},
   "outputs": [],
   "source": []
  },
  {
   "cell_type": "code",
   "execution_count": null,
   "metadata": {},
   "outputs": [],
   "source": []
  },
  {
   "cell_type": "code",
   "execution_count": null,
   "metadata": {},
   "outputs": [],
   "source": []
  },
  {
   "cell_type": "code",
   "execution_count": null,
   "metadata": {},
   "outputs": [],
   "source": []
  },
  {
   "cell_type": "code",
   "execution_count": null,
   "metadata": {},
   "outputs": [],
   "source": []
  },
  {
   "cell_type": "code",
   "execution_count": null,
   "metadata": {},
   "outputs": [],
   "source": []
  }
 ],
 "metadata": {
  "kernelspec": {
   "display_name": "Python 3",
   "language": "python",
   "name": "python3"
  },
  "language_info": {
   "codemirror_mode": {
    "name": "ipython",
    "version": 3
   },
   "file_extension": ".py",
   "mimetype": "text/x-python",
   "name": "python",
   "nbconvert_exporter": "python",
   "pygments_lexer": "ipython3",
   "version": "3.6.5"
  }
 },
 "nbformat": 4,
 "nbformat_minor": 2
}
