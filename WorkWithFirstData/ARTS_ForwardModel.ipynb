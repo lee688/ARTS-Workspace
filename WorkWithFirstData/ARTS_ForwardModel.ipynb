{
 "cells": [
  {
   "cell_type": "code",
   "execution_count": 1,
   "metadata": {},
   "outputs": [],
   "source": [
    "import numpy as np\n",
    "from scipy import io as sio\n",
    "from matplotlib import pyplot as plt\n",
    "import inspect "
   ]
  },
  {
   "cell_type": "code",
   "execution_count": 2,
   "metadata": {},
   "outputs": [],
   "source": [
    "# Define a function to see the source code of a function. \n",
    "def showfunc(functiontoshow):\n",
    "    print(inspect.getsource(functiontoshow))"
   ]
  },
  {
   "cell_type": "code",
   "execution_count": 3,
   "metadata": {},
   "outputs": [],
   "source": [
    "import typhon as tp"
   ]
  },
  {
   "cell_type": "code",
   "execution_count": 4,
   "metadata": {},
   "outputs": [],
   "source": [
    "# Set input frequency values.\n",
    "\n",
    "# Case 1\n",
    "# f_grid = np.array([18.700e9, 22.235e9, 37.000e9, 40.000e9, \n",
    "#                    50.300e9, 52.300e9, 53.600e9, 54.550e9, 55.750e9, \n",
    "#                    57.000e9, 58.400e9, 59.800e9])\n",
    "\n",
    "# Case 2\n",
    "f_grid = np.array([ 22.234e9, 22.5e9, 23.034e9, 23.834e9, \n",
    "                    25e9, 26.234e9, 28e9, 30e9, \n",
    "                    51.248e9, 51.76e9, 52.28e9, 52.804e9, \n",
    "                    53.336e9, 53.848e9, 54.4e9, 54.94e9, \n",
    "                    55.5e9, 56.02e9, 56.66e9, 57.288e9, 57.964e9, 58.8e9 ])\n",
    "                   \n",
    "tp.arts.xml.save(f_grid, './ClearSky_1D_f_grid.xml')"
   ]
  },
  {
   "cell_type": "code",
   "execution_count": 5,
   "metadata": {},
   "outputs": [],
   "source": [
    "# Set sensor viewing angles and position.\n",
    "\n",
    "# Case 1\n",
    "# sensor_los = np.array([[171.030788, 90]]) # Looking down at an angle.\n",
    "# sensor_pos = np.array([[5334.194, 34.511312, 127.224312]]) # Sensor altitude and geolocation.\n",
    "\n",
    "# Case 2\n",
    "sensor_los = np.array([[0, 0]]) # Looking straight up\n",
    "sensor_pos = np.array([[0, 34.763892, 127.212426]]) # Bosung, Korea\n",
    "\n",
    "# Sensor LOS azimuth and geolocation do not matter since it is 1-D calculation.\n",
    "tp.arts.xml.save(np.array([[sensor_los[0,0]]]), './ClearSky_1D_sensor_los.xml')\n",
    "tp.arts.xml.save(np.array([[sensor_pos[0,0]]]), './ClearSky_1D_sensor_pos.xml')"
   ]
  },
  {
   "cell_type": "code",
   "execution_count": 6,
   "metadata": {},
   "outputs": [],
   "source": [
    "# Load surface and atmosphere datasets from netCDF input files. \n",
    "surface_dataset = sio.netcdf.netcdf_file('./l015v070erlounish000.2017093000.rec.nc',mmap=False)\n",
    "atmosphere_dataset = sio.netcdf.netcdf_file('./l015v070erlopresh000.2017093000.rec.nc',mmap=False)"
   ]
  },
  {
   "cell_type": "code",
   "execution_count": 7,
   "metadata": {},
   "outputs": [],
   "source": [
    "# Load variables from the surface dataset. \n",
    "surface_lat = surface_dataset.variables['lat'][:]\n",
    "surface_lon = surface_dataset.variables['lon'][:]\n",
    "sf_pressure = surface_dataset.variables['sp'][:]\n",
    "sf_temperature = surface_dataset.variables['t_2'][:]\n",
    "sf_RH = surface_dataset.variables['r'][:]\n",
    "\n",
    "# Variables' sizes\n",
    "surface_lat_size = len(surface_lat)\n",
    "surface_lon_size = len(surface_lon)"
   ]
  },
  {
   "cell_type": "code",
   "execution_count": 8,
   "metadata": {},
   "outputs": [],
   "source": [
    "# Load variables from the atmospheric dataset.\n",
    "atm_pressure = atmosphere_dataset.variables['lev'][:]\n",
    "atm_lat = atmosphere_dataset.variables['lat'][:]\n",
    "atm_lon = atmosphere_dataset.variables['lon'][:]\n",
    "atm_temperature = atmosphere_dataset.variables['t'][0,:]  \n",
    "atm_gH = atmosphere_dataset.variables['gh'][0,:] # Geopotential height\n",
    "atm_RH = atmosphere_dataset.variables['r'][0,:] # Relative humidity \n",
    "# atm_RH_Ice = atmosphere_dataset.variables['param194.1.0'][:]  \n",
    "\n",
    "# Variables' sizes\n",
    "atm_lat_size = len(atm_lat)\n",
    "atm_lon_size = len(atm_lon)\n",
    "atm_pre_size = len(atm_pressure)"
   ]
  },
  {
   "cell_type": "code",
   "execution_count": 9,
   "metadata": {},
   "outputs": [],
   "source": [
    "# Find the geolocation of the pixel that is closest to the geolocation of the sensor's line-of-sight (LOS). "
   ]
  },
  {
   "cell_type": "code",
   "execution_count": 10,
   "metadata": {},
   "outputs": [],
   "source": [
    "# Assume WGS 1984 for the reference Ellipsoid.\n",
    "R_eq = 6378137 # Earth's equatorial radius, in meters\n",
    "iFlttn = 298.257223563 # Inverse flattening\n",
    "R_polar = R_eq * (1-1/iFlttn) # Earth's polar radius\n",
    "eccnty = (2/iFlttn - (1/iFlttn)**2)**0.5 # Eccentricity of the ellipsoid "
   ]
  },
  {
   "cell_type": "code",
   "execution_count": 11,
   "metadata": {},
   "outputs": [],
   "source": [
    "# Sensor LOS and position\n",
    "sensor_pos_alt = sensor_pos[0,0]\n",
    "sensor_pos_lat = sensor_pos[0,1]\n",
    "sensor_pos_lon = sensor_pos[0,2]\n",
    "\n",
    "sensor_los_zen = sensor_los[0,0]\n",
    "sensor_los_azi = sensor_los[0,1]\n",
    "\n",
    "# Convert the sensor's position from polar to Cartesian coordinates.\n",
    "# 국지예보모델 is based on the Unified Model from UK Met Office, which uses rotated spherical coordinates system. \n",
    "# For now, assume that it is corresponding to geodetic coordinates system on WGS84.\n",
    "N_radius = R_eq/((1-(eccnty**2)*(np.sin(sensor_pos_lat * np.pi/180)**2))**0.5)\n",
    "sensor_pos_cart = np.array([ (N_radius+sensor_pos_alt) * np.cos(sensor_pos_lat * np.pi/180) * np.cos(sensor_pos_lon * np.pi/180), \n",
    "    (N_radius+sensor_pos_alt) * np.cos(sensor_pos_lat * np.pi/180) * np.sin(sensor_pos_lon * np.pi/180), \n",
    "    ((1-eccnty**2)*N_radius+sensor_pos_alt) * np.sin(sensor_pos_lat * np.pi/180) ]) # Cartesian coordinates of the sensor's position"
   ]
  },
  {
   "cell_type": "code",
   "execution_count": 12,
   "metadata": {},
   "outputs": [],
   "source": [
    "# Find the sensor LOS' equation. \n",
    "# Find the local reference vectors for the sensor's zenith and azimuth. \n",
    "if (sensor_pos_alt == 0):\n",
    "    sensor_los_localZ = -np.array([sensor_pos_cart[0]/((R_eq)**2), \n",
    "                                    sensor_pos_cart[1]/((R_eq)**2), \n",
    "                                    sensor_pos_cart[2]/((R_polar)**2)])\n",
    "elif (sensor_pos_alt > 0):\n",
    "    sensor_pos_ground = np.array([(N_radius) * np.cos(sensor_pos_lat * np.pi/180) * np.cos(sensor_pos_lon * np.pi/180), \n",
    "                                  (N_radius) * np.cos(sensor_pos_lat * np.pi/180) * np.sin(sensor_pos_lon * np.pi/180), \n",
    "                                  ((1-eccnty**2)*N_radius) * np.sin(sensor_pos_lat * np.pi/180) ])     \n",
    "    sensor_los_localZ = sensor_pos_ground - sensor_pos_cart\n",
    "# Throw an error if the sensor altitude is not properly defined. \n",
    "else:\n",
    "    raise Exception('Wrong sensor altitude! \\n')\n",
    "\n",
    "sensor_pos2NorthPole = np.array([0, 0, R_polar]) - sensor_pos_cart\n",
    "sensor_pos2North = sensor_pos2NorthPole - ((np.dot(sensor_pos2NorthPole,sensor_los_localZ) / np.dot(sensor_los_localZ,sensor_los_localZ)) * sensor_los_localZ)\n",
    "sensor_los_localX = sensor_pos2North\n",
    "sensor_los_localY = np.cross(sensor_los_localZ,sensor_los_localX)\n",
    "    \n",
    "# Normalize the local axes for sensor_los.\n",
    "sensor_los_localZ = sensor_los_localZ / np.linalg.norm(sensor_los_localZ)\n",
    "sensor_los_localY = sensor_los_localY / np.linalg.norm(sensor_los_localY)\n",
    "sensor_los_localX = sensor_los_localX / np.linalg.norm(sensor_los_localX)\n",
    "    \n",
    "# Calculate the sensor's LOS vector in reference to the Earth.\n",
    "sensor_los_theta = (sensor_los_zen - 90) * np.pi/180\n",
    "sensor_los_phi = (sensor_los_azi) * np.pi/180\n",
    "sensor_los_vec = np.array([np.cos(sensor_los_theta) * np.cos(sensor_los_phi), \n",
    "                           np.cos(sensor_los_theta) * np.sin(sensor_los_phi), \n",
    "                           np.sin(sensor_los_theta) ])\n",
    "sensor_los_vec_global = (sensor_los_vec[0]*sensor_los_localX + sensor_los_vec[1]*sensor_los_localY + sensor_los_vec[2]*sensor_los_localZ)"
   ]
  },
  {
   "cell_type": "code",
   "execution_count": 13,
   "metadata": {},
   "outputs": [],
   "source": [
    "# Find the sensor LOS' ground location. \n",
    "# If the sensor is on the ground: \n",
    "if (sensor_pos_alt == 0):\n",
    "    sensor_los_gpos = sensor_pos_cart\n",
    "\n",
    "# If the sensor is above the ground looking down: \n",
    "elif (sensor_pos_alt > 0):\n",
    "    # Calculate the intersection between the Earth's ellipsoid and the sensor's LOS, using the quadratic formula. \n",
    "    a = (R_polar**2) * (sensor_los_vec_global[0]**2 + sensor_los_vec_global[1]**2) + (R_eq**2) * (sensor_los_vec_global[2]**2)\n",
    "    b = 2 * ((R_polar**2) * (sensor_los_vec_global[0]*sensor_pos_cart[0] + sensor_los_vec_global[1]*sensor_pos_cart[1]) + (R_eq**2) * sensor_los_vec_global[2]*sensor_pos_cart[2])\n",
    "    c = (R_polar**2) * (sensor_pos_cart[0]**2 + sensor_pos_cart[1]**2) + (R_eq**2) * (sensor_pos_cart[2]**2) - (R_polar**2)*(R_eq**2)\n",
    "    t = np.array([(-b + (b**2 - 4*a*c)**0.5)/(2*a), (-b - (b**2 - 4*a*c)**0.5)/(2*a)])\n",
    "\n",
    "    sensor_los_gpos_cand = sensor_pos_cart + np.matrix(t).T*np.matrix(sensor_los_vec_global)\n",
    "    sensor_los_gpos_cand_dist = np.linalg.norm(sensor_pos_cart - sensor_los_gpos_cand,axis=1)\n",
    "    sensor_los_gpos_cand_dist_which = sensor_los_gpos_cand_dist < np.mean(sensor_los_gpos_cand_dist)\n",
    "    sensor_los_gpos = sensor_los_gpos_cand[sensor_los_gpos_cand_dist_which,:]\n",
    "    sensor_los_gpos = np.array(sensor_los_gpos)[0]"
   ]
  },
  {
   "cell_type": "code",
   "execution_count": 14,
   "metadata": {},
   "outputs": [],
   "source": [
    "# Extend the variables' dimensions to 2-D for vectorization. \n",
    "surface_lat_ext = np.tile(surface_lat.reshape(surface_lat_size,1),(1,surface_lon_size))\n",
    "surface_lon_ext = np.tile(surface_lon.reshape(1,surface_lon_size),(surface_lat_size,1))"
   ]
  },
  {
   "cell_type": "code",
   "execution_count": 15,
   "metadata": {},
   "outputs": [],
   "source": [
    "# Calculate the Cartesian coordinates of the surface pixels. \n",
    "# 국지예보모델 is based on the Unified Model from UK Met Office, which uses rotated spherical coordinates system. \n",
    "# For now, assume that it is corresponding to geodetic coordinates system on WGS84.\n",
    "N_radius = R_eq/((1-(eccnty**2)*(np.sin(surface_lat_ext * np.pi/180)**2))**0.5)\n",
    "surface_pixel_cart = np.array([ (N_radius) * np.cos(surface_lat_ext * np.pi/180) * np.cos(surface_lon_ext * np.pi/180), \n",
    "    (N_radius) * np.cos(surface_lat_ext * np.pi/180) * np.sin(surface_lon_ext * np.pi/180), \n",
    "    ((1-eccnty**2)*N_radius) * np.sin(surface_lat_ext * np.pi/180) ]) "
   ]
  },
  {
   "cell_type": "code",
   "execution_count": 16,
   "metadata": {},
   "outputs": [
    {
     "data": {
      "text/plain": [
       "(171, 127)"
      ]
     },
     "execution_count": 16,
     "metadata": {},
     "output_type": "execute_result"
    }
   ],
   "source": [
    "# Find the indices of the pixel closest to the sensor_los ground location. \n",
    "surface_pixel_cart_diff = surface_pixel_cart - np.expand_dims((np.expand_dims(sensor_los_gpos,axis=1)),axis=1)\n",
    "surface_pixel_cart_dist = np.zeros((surface_lat_size,surface_lon_size))\n",
    "\n",
    "for i in range(surface_lat_size):\n",
    "    for j in range(surface_lon_size):\n",
    "        surface_pixel_cart_dist[i,j] = np.linalg.norm(surface_pixel_cart_diff[:,i,j])\n",
    "\n",
    "sensor_los_sf_indices = np.unravel_index(np.argmin(surface_pixel_cart_dist),(surface_lat_size,surface_lon_size))\n",
    "sensor_los_sf_indices"
   ]
  },
  {
   "cell_type": "code",
   "execution_count": 17,
   "metadata": {},
   "outputs": [],
   "source": [
    "# Create p_grid and save as xml. \n",
    "# Find the surface pressure value at the sensor's LOS, by nearest neighbor interpolation. \n",
    "sf_pressure_select = sf_pressure[0,sensor_los_sf_indices[0],sensor_los_sf_indices[1]]\n",
    "pressure = np.append(sf_pressure_select, atm_pressure)\n",
    "tp.arts.xml.save(pressure, './ClearSky_1D_p_grid.xml')"
   ]
  },
  {
   "cell_type": "code",
   "execution_count": 18,
   "metadata": {},
   "outputs": [],
   "source": [
    "# Extend the variables' dimensions to 3-D for vectorization. \n",
    "atm_lat_ext = np.array(np.tile(atm_lat.reshape(1,atm_lat_size,1),(atm_pre_size,1,atm_lon_size)))\n",
    "atm_lon_ext = np.array(np.tile(atm_lon.reshape(1,1,atm_lon_size),(atm_pre_size,atm_lat_size,1)))"
   ]
  },
  {
   "cell_type": "code",
   "execution_count": 19,
   "metadata": {},
   "outputs": [],
   "source": [
    "# Create z_field and save as xml. \n",
    "# Reference (accessed 2018-07-02): \n",
    "# http://glossary.ametsoc.org/wiki/Geopotential_height\n",
    "# http://glossary.ametsoc.org/wiki/Acceleration_of_gravity \n",
    "g0 = 9.80665 # Standard gravity at sea level \n",
    "g_lat = 0.01*(980.6160*(1 - 0.0026373*np.cos(np.pi/180 * 2*atm_lat_ext) + 0.0000059*(np.cos(np.pi/180 * 2*atm_lat_ext)**2))) # Sea-level gravity at given latitude\n",
    "Cg = 0.01*(3.085462*(10**-4) + 2.27*(10**-7)*np.cos(np.pi/180*2*atm_lat_ext)) # The coefficient in the gravity equation. \n",
    "\n",
    "# Solve for geometric height, using the quadratic formula.\n",
    "a = Cg/2\n",
    "b = -g_lat\n",
    "c = g0*atm_gH\n",
    "atm_z = (-b - (b**2 - 4*a*c)**0.5)/(2*a)\n",
    "# Here, the geopotential height is given based on 국지예보모델, so the calculated z field may be based on a spherical coordinates system.\n",
    "# ARTS requires z field that is defined in terms of the geometrical altitude, \n",
    "# which is the distance between the ellipsoid's surface and the point along the line passing through the Earth's center and the point. \n",
    "# For now, assume that the difference between the two systems in this regard is negligible. "
   ]
  },
  {
   "cell_type": "code",
   "execution_count": 20,
   "metadata": {},
   "outputs": [
    {
     "data": {
      "text/plain": [
       "array([[171, 127],\n",
       "       [171, 127],\n",
       "       [171, 127],\n",
       "       [171, 127],\n",
       "       [171, 127],\n",
       "       [171, 127],\n",
       "       [171, 127],\n",
       "       [171, 127],\n",
       "       [171, 127],\n",
       "       [171, 127],\n",
       "       [171, 127],\n",
       "       [171, 127],\n",
       "       [171, 127],\n",
       "       [171, 127],\n",
       "       [171, 127],\n",
       "       [171, 127],\n",
       "       [171, 127],\n",
       "       [171, 127],\n",
       "       [171, 127],\n",
       "       [171, 127],\n",
       "       [171, 127],\n",
       "       [171, 127],\n",
       "       [171, 127],\n",
       "       [171, 127]])"
      ]
     },
     "execution_count": 20,
     "metadata": {},
     "output_type": "execute_result"
    }
   ],
   "source": [
    "# Calculate the Cartesian coordinates of the atmospheric voxels. \n",
    "# 국지예보모델 is based on the Unified Model from UK Met Office, which uses rotated spherical coordinates system. \n",
    "# For now, assume that it is corresponding to geodetic coordinates system on WGS84.\n",
    "N_radius = R_eq/((1-(eccnty**2)*(np.sin(atm_lat_ext * np.pi/180)**2))**0.5)\n",
    "atm_voxel_cart = np.array([ (N_radius + atm_z) * np.cos(atm_lat_ext * np.pi/180) * np.cos(atm_lon_ext * np.pi/180), \n",
    "                            (N_radius + atm_z) * np.cos(atm_lat_ext * np.pi/180) * np.sin(atm_lon_ext * np.pi/180), \n",
    "                            ((1-eccnty**2)*N_radius + atm_z) * np.sin(atm_lat_ext * np.pi/180) ]) \n",
    "\n",
    "if (sensor_los_zen == 0 or sensor_los_zen == 180):\n",
    "    # If the sensor is looking straight up or down: \n",
    "    atm_z_field = atm_z[:,sensor_los_sf_indices[0],sensor_los_sf_indices[1]]\n",
    "    sensor_los_atm_indices = np.zeros((atm_pre_size,2),dtype=int)\n",
    "    sensor_los_atm_indices[:,0] = sensor_los_sf_indices[0]\n",
    "    sensor_los_atm_indices[:,1] = sensor_los_sf_indices[1]\n",
    "else:\n",
    "    atm_z_field = np.zeros(atm_pre_size)\n",
    "    sensor_los_atm_indices = np.zeros((atm_pre_size,2),dtype=int)\n",
    "    # Compare the Cartesian distance between the sensor LOS line and the atmospheric voxels.\n",
    "    for i in range(atm_pre_size):\n",
    "        atm_voxel_cart_slice = atm_voxel_cart[:,i,:,:]\n",
    "        t = (sensor_pos_cart[0]*sensor_los_vec_global[0] - atm_voxel_cart_slice[0,:,:]*sensor_los_vec_global[0] \n",
    "             + sensor_pos_cart[1]*sensor_los_vec_global[1] - atm_voxel_cart_slice[1,:,:]*sensor_los_vec_global[1] \n",
    "             + sensor_pos_cart[2]*sensor_los_vec_global[2] - atm_voxel_cart_slice[2,:,:]*sensor_los_vec_global[2]) /(-(np.linalg.norm(sensor_los_vec_global)**2))\n",
    "        dist = np.linalg.norm( np.tile(t,(3,1,1))*np.tile(np.reshape(sensor_los_vec_global,(3,1,1)),(1,atm_lat_size,atm_lon_size)) \n",
    "               + np.tile(np.reshape(sensor_pos_cart,(3,1,1)),(1,atm_lat_size,atm_lon_size)) - atm_voxel_cart_slice, axis=0)\n",
    "        sensor_los_atm_indices[i,] = np.unravel_index(np.argmin(dist),(atm_lat_size,atm_lon_size))\n",
    "        atm_z_field[i] = atm_z[i,sensor_los_atm_indices[i,0],sensor_los_atm_indices[i,1]]\n",
    "\n",
    "z_field = np.append(0, atm_z_field)\n",
    "# Save z_field as GriddedField3 xml file. \n",
    "z_field_GF3 = tp.arts.griddedfield.GriddedField3()\n",
    "z_field_GF3.data = np.reshape(z_field,(atm_pre_size+1,1,1))\n",
    "z_field_GF3.grids = [pressure, np.array([0]), np.array([0])]\n",
    "z_field_GF3.gridnames = ['Pressure', 'Latitude', 'Longitude']\n",
    "tp.arts.xml.save(z_field_GF3, './ClearSky_1D.z.xml')\n",
    "sensor_los_atm_indices"
   ]
  },
  {
   "cell_type": "code",
   "execution_count": 21,
   "metadata": {},
   "outputs": [],
   "source": [
    "# Create temperature and save as xml. \n",
    "# Find the surface temperature value at the sensor's LOS, by nearest neighbor interpolation. \n",
    "sf_temperature_select = sf_temperature[0,sensor_los_sf_indices[0],sensor_los_sf_indices[1]]\n",
    "\n",
    "# Find atmospheric voxels nearest to the sensor LOS. \n",
    "atm_temperature_LOS = np.zeros(atm_pre_size)\n",
    "for i in range(atm_pre_size):\n",
    "    atm_temperature_LOS[i] = atm_temperature[i,sensor_los_atm_indices[i,0],sensor_los_atm_indices[i,1]]\n",
    "\n",
    "t_field = np.append(sf_temperature_select, atm_temperature_LOS)\n",
    "\n",
    "# Save t_field as GriddedField3 xml file. \n",
    "t_field_GF3 = tp.arts.griddedfield.GriddedField3()\n",
    "t_field_GF3.data = np.reshape(t_field,(atm_pre_size+1,1,1))\n",
    "t_field_GF3.grids = [pressure, np.array([0]), np.array([0])]\n",
    "t_field_GF3.gridnames = ['Pressure', 'Latitude', 'Longitude']\n",
    "tp.arts.xml.save(t_field_GF3, './ClearSky_1D.t.xml')"
   ]
  },
  {
   "cell_type": "raw",
   "metadata": {},
   "source": [
    "H2O VMR derivation by DK: \n",
    "T = t\n",
    "P = lev\n",
    "CTEMP = T(i,j,k)-273.15\n",
    "hPa = P(k)/100 \n",
    "SVP = 6.112**(17.62*CTEMP/(243.12+CTEMP))*(1.0016+hPa*3.15*0.000001-0.074/hPa) ! saturation vapor pressure(https://planetcalc.com/2167/) \n",
    "QCF = param194.1.0\n",
    "QCL = r\n",
    "Mix_QCF(i,j,k)= SVP*QCF(i,j,k)/(461.5*T(i,j,k))\n",
    "Mix_QCL(i,j,k)= SVP*QCL(i,j,k)/(461.5*T(i,j,k))\n",
    "VMR = Mix_QCF + Mix_QCL\n",
    "\n",
    "I instead use the converter function build in Typhon.physics, where \n",
    "VMR = RH * SVP(T) / P"
   ]
  },
  {
   "cell_type": "code",
   "execution_count": 22,
   "metadata": {},
   "outputs": [],
   "source": [
    "# Create H2O VMR and save as xml.\n",
    "# Find the surface relative humidity value at the sensor's LOS, by nearest neighbor interpolation. \n",
    "sf_RH_select = sf_RH[0,0,sensor_los_sf_indices[0],sensor_los_sf_indices[1]]\n",
    "\n",
    "# Find atmospheric voxels nearest to the sensor LOS. \n",
    "atm_RH_LOS = np.zeros(atm_pre_size)\n",
    "for i in range(atm_pre_size):\n",
    "    atm_RH_LOS[i] = atm_RH[i,sensor_los_atm_indices[i,0],sensor_los_atm_indices[i,1]]\n",
    "\n",
    "RH = np.append(sf_RH_select, atm_RH_LOS) * 0.01\n",
    "\n",
    "# Convert the water RH to VMR. \n",
    "VMR_H2O = tp.physics.relative_humidity2vmr(RH, pressure, t_field)\n",
    "\n",
    "# Save Water VMR as GriddedField3 xml file. \n",
    "VMR_H2O_GF3 = tp.arts.griddedfield.GriddedField3()\n",
    "VMR_H2O_GF3.data = np.reshape(VMR_H2O,(atm_pre_size+1,1,1))\n",
    "VMR_H2O_GF3.grids = [pressure, np.array([0]), np.array([0])]\n",
    "VMR_H2O_GF3.gridnames = ['Pressure', 'Latitude', 'Longitude']\n",
    "tp.arts.xml.save(VMR_H2O_GF3, './ClearSky_1D.H2O.xml')"
   ]
  },
  {
   "cell_type": "code",
   "execution_count": 58,
   "metadata": {},
   "outputs": [
    {
     "data": {
      "text/plain": [
       "ARTS_output(stdout='Executing ARTS.\\nCommand line:\\narts ./ClearSky_1D_ARTSvdev.arts \\nVersion: arts-2.3.1139\\nExecuting Arts\\n{\\n- verbosityInit\\n- scat_speciesSet\\n- MatrixSet\\n- Tensor4SetConstant\\n- ArrayOfStringSet\\n- Touch\\n- Tensor3SetConstant\\n- ArrayOfStringSet\\n- MatrixSet\\n- NumericSet\\n- ArrayOfStringSet\\n- Tensor3SetConstant\\n- Tensor3SetConstant\\n- Tensor3SetConstant\\n- Tensor3SetConstant\\n- Tensor3SetConstant\\n- Tensor3SetConstant\\n- IndexSet\\n- IndexSet\\n- IndexSet\\n- IndexSet\\n- FlagOff\\n- output_file_formatSetAscii\\n- StringSet\\n- IndexSet\\n- abs_lineshapeDefine\\n- NumericSet\\n- NumericSet\\n- VectorSet\\n- VectorSet\\n- AgendaSet\\n- IndexSet\\n- IndexSet\\n- NumericSet\\n- NumericSet\\n- nlteOff\\n- partition_functionsInitFromBuiltin\\n- AgendaSet\\n- IndexSet\\n- abs_cont_descriptionInit\\n- abs_cont_descriptionAppend\\n- abs_cont_descriptionAppend\\n- abs_cont_descriptionAppend\\n- abs_cont_descriptionAppend\\n- abs_cont_descriptionAppend\\n- abs_cont_descriptionAppend\\n- abs_cont_descriptionAppend\\n- abs_cont_descriptionAppend\\n- abs_cont_descriptionAppend\\n- abs_cont_descriptionAppend\\n- abs_cont_descriptionAppend\\n- abs_cont_descriptionAppend\\n- abs_cont_descriptionAppend\\n- abs_cont_descriptionAppend\\n- abs_cont_descriptionAppend\\n- abs_cont_descriptionAppend\\n- abs_cont_descriptionAppend\\n- abs_cont_descriptionAppend\\n- abs_cont_descriptionAppend\\n- abs_cont_descriptionAppend\\n- abs_cont_descriptionAppend\\n- abs_cont_descriptionAppend\\n- abs_cont_descriptionAppend\\n- abs_cont_descriptionAppend\\n- abs_cont_descriptionAppend\\n- abs_cont_descriptionAppend\\n- abs_cont_descriptionAppend\\n- abs_cont_descriptionAppend\\n- abs_cont_descriptionAppend\\n- abs_cont_descriptionAppend\\n- abs_cont_descriptionAppend\\n- abs_cont_descriptionAppend\\n- abs_cont_descriptionAppend\\n- abs_cont_descriptionAppend\\n- abs_cont_descriptionAppend\\n- abs_cont_descriptionAppend\\n- abs_cont_descriptionAppend\\n- abs_cont_descriptionAppend\\n- abs_cont_descriptionAppend\\n- abs_cont_descriptionAppend\\n- abs_cont_descriptionAppend\\n- abs_cont_descriptionAppend\\n- abs_cont_descriptionAppend\\n- abs_cont_descriptionAppend\\n- abs_cont_descriptionAppend\\n- abs_cont_descriptionAppend\\n- abs_cont_descriptionAppend\\n- abs_cont_descriptionAppend\\n- abs_cont_descriptionAppend\\n- abs_cont_descriptionAppend\\n- abs_cont_descriptionAppend\\n- abs_cont_descriptionAppend\\n- abs_cont_descriptionAppend\\n- abs_cont_descriptionAppend\\n- abs_cont_descriptionAppend\\n- abs_cont_descriptionAppend\\n- AgendaCreate\\n- AgendaSet\\n- AgendaCreate\\n- AgendaSet\\n- AgendaCreate\\n- AgendaSet\\n- AgendaCreate\\n- AgendaSet\\n- AgendaCreate\\n- AgendaSet\\n- AgendaCreate\\n- AgendaSet\\n- AgendaCreate\\n- AgendaSet\\n- AgendaCreate\\n- AgendaSet\\n- AgendaCreate\\n- AgendaSet\\n- AgendaCreate\\n- AgendaSet\\n- AgendaCreate\\n- AgendaSet\\n- AgendaCreate\\n- AgendaSet\\n- AgendaCreate\\n- AgendaSet\\n- AgendaCreate\\n- AgendaSet\\n- AgendaCreate\\n- AgendaSet\\n- AgendaCreate\\n- AgendaSet\\n- AgendaCreate\\n- AgendaSet\\n- AgendaCreate\\n- AgendaSet\\n- FlagOff\\n- AgendaCreate\\n- AgendaSet\\n- AgendaCreate\\n- AgendaSet\\n- AgendaCreate\\n- AgendaSet\\n- AgendaCreate\\n- AgendaSet\\n- AgendaCreate\\n- AgendaSet\\n- FlagOff\\n- AgendaCreate\\n- AgendaSet\\n- AgendaCreate\\n- AgendaSet\\n- AgendaCreate\\n- AgendaSet\\n- AgendaCreate\\n- AgendaSet\\n- AgendaCreate\\n- AgendaSet\\n- AgendaCreate\\n- AgendaSet\\n- AgendaCreate\\n- AgendaSet\\n- AgendaCreate\\n- AgendaSet\\n- AgendaCreate\\n- AgendaSet\\n- AgendaCreate\\n- AgendaSet\\n- AgendaCreate\\n- AgendaSet\\n- AgendaCreate\\n- AgendaSet\\n- AgendaCreate\\n- AgendaSet\\n- AgendaCreate\\n- AgendaSet\\n- AgendaCreate\\n- AgendaSet\\n- AgendaCreate\\n- AgendaSet\\n- AgendaCreate\\n- AgendaSet\\n- isotopologue_ratiosInitFromBuiltin\\n- refellipsoidEarth\\n- NumericSet\\n- AgendaSet\\n- NumericSet\\n- Copy\\n- Copy\\n- Copy\\n- Copy\\n- Copy\\n- Copy\\n- Copy\\n- IndexSet\\n- ReadXML\\n- ReadXML\\n- abs_speciesSet\\n- abs_lines_per_speciesCreateFromLines\\n- AtmRawRead\\n- VectorSetConstant\\n- Copy\\n- StringSet\\n- AtmosphereSet1D\\n- AtmFieldsCalc\\n- Extract\\n- Extract\\n- ReadXML\\n- ReadXML\\n- ReadXML\\n- sensorOff\\n- jacobianInit\\n- VectorCreate\\n- VectorCreate\\n- VectorCreate\\n- Copy\\n- Copy\\n- Copy\\n- jacobianAddTemperature\\n- jacobianAddAbsSpecies\\n- jacobianClose\\n- cloudboxOff\\n- abs_xsec_agenda_checkedCalc\\n- propmat_clearsky_agenda_checkedCalc\\n- atmfields_checkedCalc\\n- atmgeom_checkedCalc\\n- cloudbox_checkedCalc\\n- sensor_checkedCalc\\n- yCalc\\n- WriteXML\\n- WriteXML\\n- WriteXML\\n- WriteXML\\n- WriteXML\\n}\\nThis run took 0.24s (0.20s CPU time)\\nEverything seems fine. Goodbye.\\n', stderr='', retcode=0)"
      ]
     },
     "execution_count": 58,
     "metadata": {},
     "output_type": "execute_result"
    }
   ],
   "source": [
    "# ARTS forward model: \n",
    "tp.arts.run_arts(controlfile='./ClearSky_1D_ARTSvdev.arts')"
   ]
  },
  {
   "cell_type": "code",
   "execution_count": 59,
   "metadata": {},
   "outputs": [],
   "source": [
    "# ARTS forward model results. \n",
    "Tb_ARTS_ClearSky = tp.arts.xml.load(\"./ClearSky_1D_Tb.xml\")\n",
    "\n",
    "# Bosung observations, 20170930\n",
    "Tb_BosungObs = np.array([26.193, 23.754, 22.435, 18.510, \n",
    "                         15.617, 12.566, 12.388, 11.472, \n",
    "                         107.09, 123.677, 147.536, 178.933, \n",
    "                         216.787, 250.225, 273.193, 282.353, \n",
    "                         286.576, 288.430, 289.69, 290.449, \n",
    "                         291.361, 291.436]) \n",
    "tp.arts.xml.save(Tb_BosungObs, './BosungObservations.xml')"
   ]
  },
  {
   "cell_type": "code",
   "execution_count": 60,
   "metadata": {},
   "outputs": [
    {
     "data": {
      "image/png": "[encoded data removed]",
      "text/plain": [
       "<Figure size 1080x360 with 1 Axes>"
      ]
     },
     "metadata": {
      "needs_background": "light"
     },
     "output_type": "display_data"
    }
   ],
   "source": [
    "# Compare brightness temperatures from the simulation with the observations. \n",
    "plt.plot(f_grid, Tb_BosungObs, 'ro', f_grid, Tb_ARTS_ClearSky, 'bs')\n",
    "plt.xlabel('Frequency (Hz)')\n",
    "plt.ylabel('Brightness Temperature (K)')\n",
    "plt.legend(['Bosung Observations', 'Simulated'])\n",
    "plt.gcf().set_size_inches(15,5)"
   ]
  },
  {
   "cell_type": "code",
   "execution_count": 61,
   "metadata": {},
   "outputs": [
    {
     "data": {
      "image/png": "[encoded data removed]",
      "text/plain": [
       "<Figure size 1080x360 with 1 Axes>"
      ]
     },
     "metadata": {
      "needs_background": "light"
     },
     "output_type": "display_data"
    }
   ],
   "source": [
    "# Plot the difference between the two. \n",
    "plt.plot(f_grid, Tb_ARTS_ClearSky - Tb_BosungObs, 'gd', f_grid, np.zeros(f_grid.shape),'k--')\n",
    "plt.xlabel('Frequency (Hz)')\n",
    "plt.ylabel('Brightness Temperature (K)')\n",
    "plt.legend(['Simulated minus Observations'])\n",
    "plt.gcf().set_size_inches(15,5)"
   ]
  },
  {
   "cell_type": "code",
   "execution_count": null,
   "metadata": {},
   "outputs": [],
   "source": []
  },
  {
   "cell_type": "code",
   "execution_count": null,
   "metadata": {},
   "outputs": [],
   "source": []
  },
  {
   "cell_type": "code",
   "execution_count": null,
   "metadata": {},
   "outputs": [],
   "source": []
  },
  {
   "cell_type": "code",
   "execution_count": null,
   "metadata": {},
   "outputs": [],
   "source": [
    "# Check test tropical input data for AtmRawRead. \n",
    "tropical_H2O = tp.arts.xml.load('testdata_tropical.H2O.xml').data\n",
    "tropical_N2 = tp.arts.xml.load('testdata_tropical.N2.xml').data\n",
    "tropical_O2 = tp.arts.xml.load('testdata_tropical.O2.xml').data\n",
    "tropical_O3 = tp.arts.xml.load('testdata_tropical.O3.xml').data\n",
    "\n",
    "tropical_totalVMR =  tropical_H2O + tropical_N2 + tropical_O2 + tropical_O3\n",
    "tropical_totalVMR"
   ]
  },
  {
   "cell_type": "code",
   "execution_count": null,
   "metadata": {},
   "outputs": [],
   "source": []
  },
  {
   "cell_type": "code",
   "execution_count": null,
   "metadata": {},
   "outputs": [],
   "source": []
  },
  {
   "cell_type": "code",
   "execution_count": null,
   "metadata": {},
   "outputs": [],
   "source": []
  },
  {
   "cell_type": "code",
   "execution_count": null,
   "metadata": {},
   "outputs": [],
   "source": []
  }
 ],
 "metadata": {
  "kernelspec": {
   "display_name": "Python 3",
   "language": "python",
   "name": "python3"
  },
  "language_info": {
   "codemirror_mode": {
    "name": "ipython",
    "version": 3
   },
   "file_extension": ".py",
   "mimetype": "text/x-python",
   "name": "python",
   "nbconvert_exporter": "python",
   "pygments_lexer": "ipython3",
   "version": "3.6.6"
  }
 },
 "nbformat": 4,
 "nbformat_minor": 2
}
