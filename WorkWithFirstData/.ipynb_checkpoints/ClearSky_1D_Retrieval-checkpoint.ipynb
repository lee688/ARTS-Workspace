{
 "cells": [
  {
   "cell_type": "code",
   "execution_count": 1,
   "metadata": {},
   "outputs": [],
   "source": [
    "import os\n",
    "import numpy as np\n",
    "from scipy import io as sio\n",
    "from matplotlib import pyplot as plt\n",
    "import inspect"
   ]
  },
  {
   "cell_type": "code",
   "execution_count": 2,
   "metadata": {},
   "outputs": [],
   "source": [
    "# Define a function to see the source code of a function. \n",
    "def showfunc(functiontoshow):\n",
    "    print(inspect.getsource(functiontoshow))"
   ]
  },
  {
   "cell_type": "code",
   "execution_count": 3,
   "metadata": {},
   "outputs": [
    {
     "name": "stderr",
     "output_type": "stream",
     "text": [
      "/home/user/anaconda3/lib/python3.6/site-packages/h5py/__init__.py:36: FutureWarning: Conversion of the second argument of issubdtype from `float` to `np.floating` is deprecated. In future, it will be treated as `np.float64 == np.dtype(float).type`.\n",
      "  from ._conv import register_converters as _register_converters\n"
     ]
    }
   ],
   "source": [
    "import typhon as tp"
   ]
  },
  {
   "cell_type": "code",
   "execution_count": 4,
   "metadata": {},
   "outputs": [],
   "source": [
    "# Set environmental variables. The ARTS path differ between my macbook and the company computer. \n",
    "if os.getcwd()[0:5] == '/User':\n",
    "    tp.environ['ARTS_BUILD_PATH'] = '../../../../ARTS/arts-dev/build/'\n",
    "    tp.environ['ARTS_INCLUDE_PATH'] = '../../../../ARTS/arts-dev/controlfiles/'\n",
    "elif os.getcwd()[0:5] == '/home':\n",
    "    tp.environ['ARTS_BUILD_PATH'] = '../../arts-dev/build/'\n",
    "    tp.environ['ARTS_INCLUDE_PATH'] = '../../arts-dev/controlfiles/'"
   ]
  },
  {
   "cell_type": "code",
   "execution_count": 5,
   "metadata": {},
   "outputs": [
    {
     "name": "stdout",
     "output_type": "stream",
     "text": [
      "Loading ARTS API from: ../../arts-dev/build/src/libarts_api.so\n"
     ]
    },
    {
     "name": "stderr",
     "output_type": "stream",
     "text": [
      "Using TensorFlow backend.\n"
     ]
    }
   ],
   "source": [
    "# Import Typhon retrieval packages. \n",
    "import typhon.retrieval.bmci as tprb\n",
    "import typhon.retrieval.mcmc as tprm\n",
    "import typhon.retrieval.qrnn as tprq"
   ]
  },
  {
   "cell_type": "code",
   "execution_count": null,
   "metadata": {},
   "outputs": [],
   "source": []
  },
  {
   "cell_type": "code",
   "execution_count": null,
   "metadata": {},
   "outputs": [],
   "source": []
  },
  {
   "cell_type": "code",
   "execution_count": null,
   "metadata": {},
   "outputs": [],
   "source": []
  },
  {
   "cell_type": "code",
   "execution_count": null,
   "metadata": {},
   "outputs": [],
   "source": []
  },
  {
   "cell_type": "code",
   "execution_count": null,
   "metadata": {},
   "outputs": [],
   "source": []
  },
  {
   "cell_type": "code",
   "execution_count": 61,
   "metadata": {},
   "outputs": [
    {
     "data": {
      "text/plain": [
       "ARTS_output(stdout='Executing ARTS.\\nCommand line:\\n../../arts-dev/build/src/arts ./TestOEM.arts \\nVersion: arts-2.3.1088 (compiled Fri Jul 20 17:21:46 2018)\\nExecuting Arts\\n{\\n- verbosityInit\\n- scat_speciesSet\\n- MatrixSet\\n- Tensor4SetConstant\\n- ArrayOfStringSet\\n- Touch\\n- Tensor3SetConstant\\n- ArrayOfStringSet\\n- MatrixSet\\n- NumericSet\\n- ArrayOfStringSet\\n- Tensor3SetConstant\\n- Tensor3SetConstant\\n- Tensor3SetConstant\\n- Tensor3SetConstant\\n- Tensor3SetConstant\\n- Tensor3SetConstant\\n- IndexSet\\n- IndexSet\\n- IndexSet\\n- IndexSet\\n- FlagOff\\n- output_file_formatSetAscii\\n- StringSet\\n- IndexSet\\n- abs_lineshapeDefine\\n- NumericSet\\n- NumericSet\\n- AgendaSet\\n- IndexSet\\n- IndexSet\\n- NumericSet\\n- NumericSet\\n- nlteOff\\n- partition_functionsInitFromBuiltin\\n- AgendaSet\\n- IndexSet\\n- abs_cont_descriptionInit\\n- abs_cont_descriptionAppend\\n- abs_cont_descriptionAppend\\n- abs_cont_descriptionAppend\\n- abs_cont_descriptionAppend\\n- abs_cont_descriptionAppend\\n- abs_cont_descriptionAppend\\n- abs_cont_descriptionAppend\\n- abs_cont_descriptionAppend\\n- abs_cont_descriptionAppend\\n- abs_cont_descriptionAppend\\n- abs_cont_descriptionAppend\\n- abs_cont_descriptionAppend\\n- abs_cont_descriptionAppend\\n- abs_cont_descriptionAppend\\n- abs_cont_descriptionAppend\\n- abs_cont_descriptionAppend\\n- abs_cont_descriptionAppend\\n- abs_cont_descriptionAppend\\n- abs_cont_descriptionAppend\\n- abs_cont_descriptionAppend\\n- abs_cont_descriptionAppend\\n- abs_cont_descriptionAppend\\n- abs_cont_descriptionAppend\\n- abs_cont_descriptionAppend\\n- abs_cont_descriptionAppend\\n- abs_cont_descriptionAppend\\n- abs_cont_descriptionAppend\\n- abs_cont_descriptionAppend\\n- abs_cont_descriptionAppend\\n- abs_cont_descriptionAppend\\n- abs_cont_descriptionAppend\\n- abs_cont_descriptionAppend\\n- abs_cont_descriptionAppend\\n- abs_cont_descriptionAppend\\n- abs_cont_descriptionAppend\\n- abs_cont_descriptionAppend\\n- abs_cont_descriptionAppend\\n- abs_cont_descriptionAppend\\n- abs_cont_descriptionAppend\\n- abs_cont_descriptionAppend\\n- abs_cont_descriptionAppend\\n- abs_cont_descriptionAppend\\n- abs_cont_descriptionAppend\\n- abs_cont_descriptionAppend\\n- abs_cont_descriptionAppend\\n- abs_cont_descriptionAppend\\n- abs_cont_descriptionAppend\\n- abs_cont_descriptionAppend\\n- abs_cont_descriptionAppend\\n- abs_cont_descriptionAppend\\n- abs_cont_descriptionAppend\\n- abs_cont_descriptionAppend\\n- abs_cont_descriptionAppend\\n- abs_cont_descriptionAppend\\n- abs_cont_descriptionAppend\\n- abs_cont_descriptionAppend\\n- AgendaCreate\\n- AgendaSet\\n- AgendaCreate\\n- AgendaSet\\n- AgendaCreate\\n- AgendaSet\\n- AgendaCreate\\n- AgendaSet\\n- AgendaCreate\\n- AgendaSet\\n- AgendaCreate\\n- AgendaSet\\n- AgendaCreate\\n- AgendaSet\\n- AgendaCreate\\n- AgendaSet\\n- AgendaCreate\\n- AgendaSet\\n- AgendaCreate\\n- AgendaSet\\n- AgendaCreate\\n- AgendaSet\\n- AgendaCreate\\n- AgendaSet\\n- AgendaCreate\\n- AgendaSet\\n- AgendaCreate\\n- AgendaSet\\n- AgendaCreate\\n- AgendaSet\\n- AgendaCreate\\n- AgendaSet\\n- AgendaCreate\\n- AgendaSet\\n- AgendaCreate\\n- AgendaSet\\n- FlagOff\\n- AgendaCreate\\n- AgendaSet\\n- AgendaCreate\\n- AgendaSet\\n- AgendaCreate\\n- AgendaSet\\n- AgendaCreate\\n- AgendaSet\\n- AgendaCreate\\n- AgendaSet\\n- FlagOff\\n- AgendaCreate\\n- AgendaSet\\n- AgendaCreate\\n- AgendaSet\\n- AgendaCreate\\n- AgendaSet\\n- AgendaCreate\\n- AgendaSet\\n- AgendaCreate\\n- AgendaSet\\n- AgendaCreate\\n- AgendaSet\\n- AgendaCreate\\n- AgendaSet\\n- AgendaCreate\\n- AgendaSet\\n- AgendaCreate\\n- AgendaSet\\n- AgendaCreate\\n- AgendaSet\\n- AgendaCreate\\n- AgendaSet\\n- AgendaCreate\\n- AgendaSet\\n- AgendaCreate\\n- AgendaSet\\n- AgendaCreate\\n- AgendaSet\\n- AgendaCreate\\n- AgendaSet\\n- AgendaCreate\\n- AgendaSet\\n- AgendaCreate\\n- AgendaSet\\n- isotopologue_ratiosInitFromBuiltin\\n- refellipsoidEarth\\n- NumericSet\\n- AgendaSet\\n- NumericSet\\n- Copy\\n- Copy\\n- Copy\\n- Copy\\n- Copy\\n- Copy\\n- Copy\\n- AtmosphereSet1D\\n- IndexSet\\n- NumericCreate\\n- NumericCreate\\n- IndexCreate\\n- VectorCreate\\n- IndexCreate\\n- NumericSet\\n- NumericSet\\n- IndexSet\\n- IndexSet\\n- VectorNLinSpace\\n- VectorNLogSpace\\n- VectorNLogSpace\\n- abs_speciesSet\\n- ArrayOfLineshapeSpecCreate\\n- abs_lineshapeDefine\\n- ReadXML\\n- abs_lines_per_speciesCreateFromLines\\n- AtmRawRead\\n- AtmFieldsCalc\\n- MatrixSetConstant\\n- VectorSet\\n- VectorSet\\n- atmfields_checkedCalc\\n- NumericSet\\n- NumericSet\\n- z_fieldFromHSE\\nNo water vapour tag group in *abs_species*.\\nBe aware that this leads to significant variations in atmospheres\\nthat contain considerable amounts of water vapour (e.g. Earth)!\\n- NumericSet\\n- StringSet\\n- MatrixSetConstant\\n- MatrixSetConstant\\n- VectorSetConstant\\n- jacobianOff\\n- cloudboxOff\\n- sensorOff\\n- abs_xsec_agenda_checkedCalc\\n- propmat_clearsky_agenda_checkedCalc\\n- atmgeom_checkedCalc\\n- sensor_checkedCalc\\n- retrievalDefInit\\n- VectorCreate\\n- nelemGet\\n- retrievalAddAbsSpecies\\n- SparseCreate\\n- VectorSetConstant\\n- DiagonalMatrix\\n- covmat_sxAddBlock\\n- VectorSetConstant\\n- DiagonalMatrix\\n- covmat_seAddBlock\\n- MatrixCreate\\n- VectorSetConstant\\n- DiagonalMatrix\\n- covmat_seAddInverseBlock\\n- retrievalDefClose\\n- cloudbox_checkedCalc\\n- yCalc\\n- AgendaSet\\n- Tensor4AddScalar\\n- xaStandard\\n- VectorSet\\n- VectorSet\\n- MatrixSet\\n- OEM\\n\\n                                MAP Computation                                \\nFormulation: Standard\\nMethod:      Gauss-Newton\\n\\n Step     Total Cost         x-Cost         y-Cost    Conv. Crit.               \\n--------------------------------------------------------------------------------\\n    0        113.519              0        113.519               \\n    1      0.0816035      0.0782946     0.00330891        1121.78\\n    2      0.0778899       0.076066     0.00182389      0.0367189\\n    3      0.0778899      0.0760643     0.00182558    4.43516e-09\\n--------------------------------------------------------------------------------\\n\\nTotal number of steps:            3\\nFinal scaled cost function value: 0.0778899\\nOEM computation converged.\\n\\nElapsed Time for Retrieval:                       1.52335\\nTime in inversion_iterate Agenda (No Jacobian):   0.242099\\nTime in inversion_iterate Agenda (With Jacobian): 1.18369\\n\\n                                      ----                                      \\n\\n- Print\\n- avkCalc\\n- covmat_ssCalc\\n- covmat_soCalc\\n- retrievalErrorsExtract\\n}\\nThis run took 2.82s (9.47s CPU time)\\nEverything seems fine. Goodbye.\\n', stderr='\\n', retcode=0)"
      ]
     },
     "execution_count": 61,
     "metadata": {},
     "output_type": "execute_result"
    }
   ],
   "source": [
    "tp.arts.run_arts(controlfile='./TestOEM.arts')"
   ]
  },
  {
   "cell_type": "code",
   "execution_count": null,
   "metadata": {},
   "outputs": [],
   "source": []
  },
  {
   "cell_type": "code",
   "execution_count": null,
   "metadata": {},
   "outputs": [],
   "source": []
  },
  {
   "cell_type": "code",
   "execution_count": null,
   "metadata": {},
   "outputs": [],
   "source": []
  },
  {
   "cell_type": "code",
   "execution_count": null,
   "metadata": {},
   "outputs": [],
   "source": []
  },
  {
   "cell_type": "code",
   "execution_count": null,
   "metadata": {},
   "outputs": [],
   "source": []
  },
  {
   "cell_type": "code",
   "execution_count": 55,
   "metadata": {},
   "outputs": [
    {
     "ename": "Exception",
     "evalue": "ARTS run failed:\narts: /home/user/Desktop/ARTS/arts-dev/src/matpackI.h:470: Numeric &VectorView::operator[](Index): Assertion `n<mrange.mextent' failed.\n",
     "output_type": "error",
     "traceback": [
      "\u001b[0;31m---------------------------------------------------------------------------\u001b[0m",
      "\u001b[0;31mException\u001b[0m                                 Traceback (most recent call last)",
      "\u001b[0;32m<ipython-input-55-9e6816434a19>\u001b[0m in \u001b[0;36m<module>\u001b[0;34m()\u001b[0m\n\u001b[1;32m      1\u001b[0m \u001b[0;31m# ARTS forward model and retrieval with OEM in development version:\u001b[0m\u001b[0;34m\u001b[0m\u001b[0;34m\u001b[0m\u001b[0m\n\u001b[0;32m----> 2\u001b[0;31m \u001b[0mtp\u001b[0m\u001b[0;34m.\u001b[0m\u001b[0marts\u001b[0m\u001b[0;34m.\u001b[0m\u001b[0mrun_arts\u001b[0m\u001b[0;34m(\u001b[0m\u001b[0mcontrolfile\u001b[0m\u001b[0;34m=\u001b[0m\u001b[0;34m'./ClearSky_1D_OEM_ARTSvdev.arts'\u001b[0m\u001b[0;34m)\u001b[0m\u001b[0;34m;\u001b[0m\u001b[0;34m\u001b[0m\u001b[0m\n\u001b[0m",
      "\u001b[0;32m~/anaconda3/lib/python3.6/site-packages/typhon/arts/common.py\u001b[0m in \u001b[0;36mrun_arts\u001b[0;34m(controlfile, arts, writetxt, ignore_error, **kwargs)\u001b[0m\n\u001b[1;32m    107\u001b[0m     \u001b[0;31m# Throw exception if ARTS run failed.\u001b[0m\u001b[0;34m\u001b[0m\u001b[0;34m\u001b[0m\u001b[0m\n\u001b[1;32m    108\u001b[0m     \u001b[0;32mif\u001b[0m \u001b[0mp\u001b[0m\u001b[0;34m.\u001b[0m\u001b[0mreturncode\u001b[0m \u001b[0;34m!=\u001b[0m \u001b[0;36m0\u001b[0m \u001b[0;32mand\u001b[0m \u001b[0mignore_error\u001b[0m \u001b[0;32mis\u001b[0m \u001b[0;32mnot\u001b[0m \u001b[0;32mTrue\u001b[0m\u001b[0;34m:\u001b[0m\u001b[0;34m\u001b[0m\u001b[0m\n\u001b[0;32m--> 109\u001b[0;31m         \u001b[0;32mraise\u001b[0m \u001b[0mException\u001b[0m\u001b[0;34m(\u001b[0m\u001b[0;34m'ARTS run failed:\\n{}'\u001b[0m\u001b[0;34m.\u001b[0m\u001b[0mformat\u001b[0m\u001b[0;34m(\u001b[0m\u001b[0mp\u001b[0m\u001b[0;34m.\u001b[0m\u001b[0mstderr\u001b[0m\u001b[0;34m)\u001b[0m\u001b[0;34m)\u001b[0m\u001b[0;34m\u001b[0m\u001b[0m\n\u001b[0m\u001b[1;32m    110\u001b[0m \u001b[0;34m\u001b[0m\u001b[0m\n\u001b[1;32m    111\u001b[0m     \u001b[0;31m# Store ARTS output in namedtuple.\u001b[0m\u001b[0;34m\u001b[0m\u001b[0;34m\u001b[0m\u001b[0m\n",
      "\u001b[0;31mException\u001b[0m: ARTS run failed:\narts: /home/user/Desktop/ARTS/arts-dev/src/matpackI.h:470: Numeric &VectorView::operator[](Index): Assertion `n<mrange.mextent' failed.\n"
     ]
    }
   ],
   "source": [
    "# ARTS forward model and retrieval with OEM in development version: \n",
    "tp.arts.run_arts(controlfile='./ClearSky_1D_OEM_ARTSvdev.arts');"
   ]
  },
  {
   "cell_type": "code",
   "execution_count": 48,
   "metadata": {},
   "outputs": [],
   "source": [
    "# ARTS forward model results. \n",
    "Tb_ARTS_ClearSky = tp.arts.xml.load(\"./ClearSky_1D_OEM_Tb.xml\")\n",
    "\n",
    "# Bosung observations, 20170930\n",
    "Tb_BosungObs = tp.arts.xml.load('./BosungObservations.xml')\n",
    "\n",
    "# Frequency\n",
    "f_grid = tp.arts.xml.load('./ClearSky_1D_f_grid.xml')"
   ]
  },
  {
   "cell_type": "code",
   "execution_count": 46,
   "metadata": {},
   "outputs": [
    {
     "data": {
      "image/png": "[encoded data removed]",
      "text/plain": [
       "<Figure size 1080x360 with 1 Axes>"
      ]
     },
     "metadata": {},
     "output_type": "display_data"
    }
   ],
   "source": [
    "# Compare brightness temperatures from the simulation with the observations. \n",
    "plt.plot(f_grid, Tb_ARTS_ClearSky, 'ro', f_grid, Tb_BosungObs, 'bs')\n",
    "plt.xlabel('Frequency (Hz)')\n",
    "plt.ylabel('Brightness Temperature (K)')\n",
    "plt.legend(['Simulated','Bosung Observations'])\n",
    "plt.gcf().set_size_inches(15,5)"
   ]
  },
  {
   "cell_type": "code",
   "execution_count": 26,
   "metadata": {},
   "outputs": [],
   "source": [
    "# Retrieval results\n",
    "Retrieval = tp.arts.xml.load(\"./ClearSky_1D_OEM_retrieval_results.xml\")\n",
    "# Pressure grid for retrieval\n",
    "p_ret_grid = tp.arts.xml.load('./ClearSky_1D_OEM_retrieval_p_grid.xml')\n",
    "nRet = p_ret_grid.shape[0]\n",
    "\n",
    "# Water VMR from 국지예보모델\n",
    "VMR_H2O_GF3 = tp.arts.xml.load('./ClearSky_1D.H2O.xml')\n",
    "# Temperature from 국지예보모델\n",
    "t_field_GF3 = tp.arts.xml.load('./ClearSky_1D.t.xml')"
   ]
  },
  {
   "cell_type": "code",
   "execution_count": 27,
   "metadata": {},
   "outputs": [
    {
     "ename": "ValueError",
     "evalue": "x and y must have same first dimension, but have shapes (0,) and (25,)",
     "output_type": "error",
     "traceback": [
      "\u001b[0;31m---------------------------------------------------------------------------\u001b[0m",
      "\u001b[0;31mValueError\u001b[0m                                Traceback (most recent call last)",
      "\u001b[0;32m<ipython-input-27-48addb2f289b>\u001b[0m in \u001b[0;36m<module>\u001b[0;34m()\u001b[0m\n\u001b[1;32m     12\u001b[0m \u001b[0;31m# Compare retrieved temperatures with the temperatures from Korea LDAPS\u001b[0m\u001b[0;34m\u001b[0m\u001b[0;34m\u001b[0m\u001b[0m\n\u001b[1;32m     13\u001b[0m \u001b[0mplt\u001b[0m\u001b[0;34m.\u001b[0m\u001b[0msubplot\u001b[0m\u001b[0;34m(\u001b[0m\u001b[0;36m1\u001b[0m\u001b[0;34m,\u001b[0m\u001b[0;36m2\u001b[0m\u001b[0;34m,\u001b[0m\u001b[0;36m2\u001b[0m\u001b[0;34m)\u001b[0m\u001b[0;34m\u001b[0m\u001b[0m\n\u001b[0;32m---> 14\u001b[0;31m \u001b[0mplt\u001b[0m\u001b[0;34m.\u001b[0m\u001b[0mplot\u001b[0m\u001b[0;34m(\u001b[0m\u001b[0mRetrieval\u001b[0m\u001b[0;34m[\u001b[0m\u001b[0mnRet\u001b[0m\u001b[0;34m:\u001b[0m\u001b[0;34m]\u001b[0m\u001b[0;34m,\u001b[0m \u001b[0mp_ret_grid\u001b[0m\u001b[0;34m,\u001b[0m \u001b[0;34m'ro'\u001b[0m\u001b[0;34m,\u001b[0m \u001b[0mnp\u001b[0m\u001b[0;34m.\u001b[0m\u001b[0msqueeze\u001b[0m\u001b[0;34m(\u001b[0m\u001b[0mt_field_GF3\u001b[0m\u001b[0;34m.\u001b[0m\u001b[0mdata\u001b[0m\u001b[0;34m)\u001b[0m\u001b[0;34m,\u001b[0m \u001b[0mVMR_H2O_GF3\u001b[0m\u001b[0;34m.\u001b[0m\u001b[0mgrids\u001b[0m\u001b[0;34m[\u001b[0m\u001b[0;36m0\u001b[0m\u001b[0;34m]\u001b[0m\u001b[0;34m,\u001b[0m \u001b[0;34m'bs'\u001b[0m\u001b[0;34m)\u001b[0m\u001b[0;34m\u001b[0m\u001b[0m\n\u001b[0m\u001b[1;32m     15\u001b[0m \u001b[0mplt\u001b[0m\u001b[0;34m.\u001b[0m\u001b[0mgca\u001b[0m\u001b[0;34m(\u001b[0m\u001b[0;34m)\u001b[0m\u001b[0;34m.\u001b[0m\u001b[0minvert_yaxis\u001b[0m\u001b[0;34m(\u001b[0m\u001b[0;34m)\u001b[0m\u001b[0;34m\u001b[0m\u001b[0m\n\u001b[1;32m     16\u001b[0m \u001b[0mplt\u001b[0m\u001b[0;34m.\u001b[0m\u001b[0mxlabel\u001b[0m\u001b[0;34m(\u001b[0m\u001b[0;34m'Temperature (K)'\u001b[0m\u001b[0;34m)\u001b[0m\u001b[0;34m\u001b[0m\u001b[0m\n",
      "\u001b[0;32m~/anaconda3/lib/python3.6/site-packages/matplotlib/pyplot.py\u001b[0m in \u001b[0;36mplot\u001b[0;34m(*args, **kwargs)\u001b[0m\n\u001b[1;32m   3356\u001b[0m                       mplDeprecation)\n\u001b[1;32m   3357\u001b[0m     \u001b[0;32mtry\u001b[0m\u001b[0;34m:\u001b[0m\u001b[0;34m\u001b[0m\u001b[0m\n\u001b[0;32m-> 3358\u001b[0;31m         \u001b[0mret\u001b[0m \u001b[0;34m=\u001b[0m \u001b[0max\u001b[0m\u001b[0;34m.\u001b[0m\u001b[0mplot\u001b[0m\u001b[0;34m(\u001b[0m\u001b[0;34m*\u001b[0m\u001b[0margs\u001b[0m\u001b[0;34m,\u001b[0m \u001b[0;34m**\u001b[0m\u001b[0mkwargs\u001b[0m\u001b[0;34m)\u001b[0m\u001b[0;34m\u001b[0m\u001b[0m\n\u001b[0m\u001b[1;32m   3359\u001b[0m     \u001b[0;32mfinally\u001b[0m\u001b[0;34m:\u001b[0m\u001b[0;34m\u001b[0m\u001b[0m\n\u001b[1;32m   3360\u001b[0m         \u001b[0max\u001b[0m\u001b[0;34m.\u001b[0m\u001b[0m_hold\u001b[0m \u001b[0;34m=\u001b[0m \u001b[0mwashold\u001b[0m\u001b[0;34m\u001b[0m\u001b[0m\n",
      "\u001b[0;32m~/anaconda3/lib/python3.6/site-packages/matplotlib/__init__.py\u001b[0m in \u001b[0;36minner\u001b[0;34m(ax, *args, **kwargs)\u001b[0m\n\u001b[1;32m   1853\u001b[0m                         \u001b[0;34m\"the Matplotlib list!)\"\u001b[0m \u001b[0;34m%\u001b[0m \u001b[0;34m(\u001b[0m\u001b[0mlabel_namer\u001b[0m\u001b[0;34m,\u001b[0m \u001b[0mfunc\u001b[0m\u001b[0;34m.\u001b[0m\u001b[0m__name__\u001b[0m\u001b[0;34m)\u001b[0m\u001b[0;34m,\u001b[0m\u001b[0;34m\u001b[0m\u001b[0m\n\u001b[1;32m   1854\u001b[0m                         RuntimeWarning, stacklevel=2)\n\u001b[0;32m-> 1855\u001b[0;31m             \u001b[0;32mreturn\u001b[0m \u001b[0mfunc\u001b[0m\u001b[0;34m(\u001b[0m\u001b[0max\u001b[0m\u001b[0;34m,\u001b[0m \u001b[0;34m*\u001b[0m\u001b[0margs\u001b[0m\u001b[0;34m,\u001b[0m \u001b[0;34m**\u001b[0m\u001b[0mkwargs\u001b[0m\u001b[0;34m)\u001b[0m\u001b[0;34m\u001b[0m\u001b[0m\n\u001b[0m\u001b[1;32m   1856\u001b[0m \u001b[0;34m\u001b[0m\u001b[0m\n\u001b[1;32m   1857\u001b[0m         inner.__doc__ = _add_data_doc(inner.__doc__,\n",
      "\u001b[0;32m~/anaconda3/lib/python3.6/site-packages/matplotlib/axes/_axes.py\u001b[0m in \u001b[0;36mplot\u001b[0;34m(self, *args, **kwargs)\u001b[0m\n\u001b[1;32m   1525\u001b[0m         \u001b[0mkwargs\u001b[0m \u001b[0;34m=\u001b[0m \u001b[0mcbook\u001b[0m\u001b[0;34m.\u001b[0m\u001b[0mnormalize_kwargs\u001b[0m\u001b[0;34m(\u001b[0m\u001b[0mkwargs\u001b[0m\u001b[0;34m,\u001b[0m \u001b[0m_alias_map\u001b[0m\u001b[0;34m)\u001b[0m\u001b[0;34m\u001b[0m\u001b[0m\n\u001b[1;32m   1526\u001b[0m \u001b[0;34m\u001b[0m\u001b[0m\n\u001b[0;32m-> 1527\u001b[0;31m         \u001b[0;32mfor\u001b[0m \u001b[0mline\u001b[0m \u001b[0;32min\u001b[0m \u001b[0mself\u001b[0m\u001b[0;34m.\u001b[0m\u001b[0m_get_lines\u001b[0m\u001b[0;34m(\u001b[0m\u001b[0;34m*\u001b[0m\u001b[0margs\u001b[0m\u001b[0;34m,\u001b[0m \u001b[0;34m**\u001b[0m\u001b[0mkwargs\u001b[0m\u001b[0;34m)\u001b[0m\u001b[0;34m:\u001b[0m\u001b[0;34m\u001b[0m\u001b[0m\n\u001b[0m\u001b[1;32m   1528\u001b[0m             \u001b[0mself\u001b[0m\u001b[0;34m.\u001b[0m\u001b[0madd_line\u001b[0m\u001b[0;34m(\u001b[0m\u001b[0mline\u001b[0m\u001b[0;34m)\u001b[0m\u001b[0;34m\u001b[0m\u001b[0m\n\u001b[1;32m   1529\u001b[0m             \u001b[0mlines\u001b[0m\u001b[0;34m.\u001b[0m\u001b[0mappend\u001b[0m\u001b[0;34m(\u001b[0m\u001b[0mline\u001b[0m\u001b[0;34m)\u001b[0m\u001b[0;34m\u001b[0m\u001b[0m\n",
      "\u001b[0;32m~/anaconda3/lib/python3.6/site-packages/matplotlib/axes/_base.py\u001b[0m in \u001b[0;36m_grab_next_args\u001b[0;34m(self, *args, **kwargs)\u001b[0m\n\u001b[1;32m    404\u001b[0m                 \u001b[0mthis\u001b[0m \u001b[0;34m+=\u001b[0m \u001b[0margs\u001b[0m\u001b[0;34m[\u001b[0m\u001b[0;36m0\u001b[0m\u001b[0;34m]\u001b[0m\u001b[0;34m,\u001b[0m\u001b[0;34m\u001b[0m\u001b[0m\n\u001b[1;32m    405\u001b[0m                 \u001b[0margs\u001b[0m \u001b[0;34m=\u001b[0m \u001b[0margs\u001b[0m\u001b[0;34m[\u001b[0m\u001b[0;36m1\u001b[0m\u001b[0;34m:\u001b[0m\u001b[0;34m]\u001b[0m\u001b[0;34m\u001b[0m\u001b[0m\n\u001b[0;32m--> 406\u001b[0;31m             \u001b[0;32mfor\u001b[0m \u001b[0mseg\u001b[0m \u001b[0;32min\u001b[0m \u001b[0mself\u001b[0m\u001b[0;34m.\u001b[0m\u001b[0m_plot_args\u001b[0m\u001b[0;34m(\u001b[0m\u001b[0mthis\u001b[0m\u001b[0;34m,\u001b[0m \u001b[0mkwargs\u001b[0m\u001b[0;34m)\u001b[0m\u001b[0;34m:\u001b[0m\u001b[0;34m\u001b[0m\u001b[0m\n\u001b[0m\u001b[1;32m    407\u001b[0m                 \u001b[0;32myield\u001b[0m \u001b[0mseg\u001b[0m\u001b[0;34m\u001b[0m\u001b[0m\n\u001b[1;32m    408\u001b[0m \u001b[0;34m\u001b[0m\u001b[0m\n",
      "\u001b[0;32m~/anaconda3/lib/python3.6/site-packages/matplotlib/axes/_base.py\u001b[0m in \u001b[0;36m_plot_args\u001b[0;34m(self, tup, kwargs)\u001b[0m\n\u001b[1;32m    381\u001b[0m             \u001b[0mx\u001b[0m\u001b[0;34m,\u001b[0m \u001b[0my\u001b[0m \u001b[0;34m=\u001b[0m \u001b[0mindex_of\u001b[0m\u001b[0;34m(\u001b[0m\u001b[0mtup\u001b[0m\u001b[0;34m[\u001b[0m\u001b[0;34m-\u001b[0m\u001b[0;36m1\u001b[0m\u001b[0;34m]\u001b[0m\u001b[0;34m)\u001b[0m\u001b[0;34m\u001b[0m\u001b[0m\n\u001b[1;32m    382\u001b[0m \u001b[0;34m\u001b[0m\u001b[0m\n\u001b[0;32m--> 383\u001b[0;31m         \u001b[0mx\u001b[0m\u001b[0;34m,\u001b[0m \u001b[0my\u001b[0m \u001b[0;34m=\u001b[0m \u001b[0mself\u001b[0m\u001b[0;34m.\u001b[0m\u001b[0m_xy_from_xy\u001b[0m\u001b[0;34m(\u001b[0m\u001b[0mx\u001b[0m\u001b[0;34m,\u001b[0m \u001b[0my\u001b[0m\u001b[0;34m)\u001b[0m\u001b[0;34m\u001b[0m\u001b[0m\n\u001b[0m\u001b[1;32m    384\u001b[0m \u001b[0;34m\u001b[0m\u001b[0m\n\u001b[1;32m    385\u001b[0m         \u001b[0;32mif\u001b[0m \u001b[0mself\u001b[0m\u001b[0;34m.\u001b[0m\u001b[0mcommand\u001b[0m \u001b[0;34m==\u001b[0m \u001b[0;34m'plot'\u001b[0m\u001b[0;34m:\u001b[0m\u001b[0;34m\u001b[0m\u001b[0m\n",
      "\u001b[0;32m~/anaconda3/lib/python3.6/site-packages/matplotlib/axes/_base.py\u001b[0m in \u001b[0;36m_xy_from_xy\u001b[0;34m(self, x, y)\u001b[0m\n\u001b[1;32m    240\u001b[0m         \u001b[0;32mif\u001b[0m \u001b[0mx\u001b[0m\u001b[0;34m.\u001b[0m\u001b[0mshape\u001b[0m\u001b[0;34m[\u001b[0m\u001b[0;36m0\u001b[0m\u001b[0;34m]\u001b[0m \u001b[0;34m!=\u001b[0m \u001b[0my\u001b[0m\u001b[0;34m.\u001b[0m\u001b[0mshape\u001b[0m\u001b[0;34m[\u001b[0m\u001b[0;36m0\u001b[0m\u001b[0;34m]\u001b[0m\u001b[0;34m:\u001b[0m\u001b[0;34m\u001b[0m\u001b[0m\n\u001b[1;32m    241\u001b[0m             raise ValueError(\"x and y must have same first dimension, but \"\n\u001b[0;32m--> 242\u001b[0;31m                              \"have shapes {} and {}\".format(x.shape, y.shape))\n\u001b[0m\u001b[1;32m    243\u001b[0m         \u001b[0;32mif\u001b[0m \u001b[0mx\u001b[0m\u001b[0;34m.\u001b[0m\u001b[0mndim\u001b[0m \u001b[0;34m>\u001b[0m \u001b[0;36m2\u001b[0m \u001b[0;32mor\u001b[0m \u001b[0my\u001b[0m\u001b[0;34m.\u001b[0m\u001b[0mndim\u001b[0m \u001b[0;34m>\u001b[0m \u001b[0;36m2\u001b[0m\u001b[0;34m:\u001b[0m\u001b[0;34m\u001b[0m\u001b[0m\n\u001b[1;32m    244\u001b[0m             raise ValueError(\"x and y can be no greater than 2-D, but have \"\n",
      "\u001b[0;31mValueError\u001b[0m: x and y must have same first dimension, but have shapes (0,) and (25,)"
     ]
    },
    {
     "data": {
      "image/png": "[encoded data removed]",
      "text/plain": [
       "<Figure size 432x288 with 2 Axes>"
      ]
     },
     "metadata": {},
     "output_type": "display_data"
    }
   ],
   "source": [
    "# Compare retrieved water VMR with the water VMR from Korean LDAPS. \n",
    "plt.figure()\n",
    "\n",
    "plt.subplot(1,2,1)\n",
    "plt.plot(Retrieval[0:nRet], p_ret_grid, 'ro', np.squeeze(VMR_H2O_GF3.data), VMR_H2O_GF3.grids[0], 'bs')\n",
    "plt.gca().invert_yaxis()\n",
    "plt.xlabel('Volume mixing ratio')\n",
    "plt.ylabel('Pressure (Pa)')\n",
    "plt.legend(['OEM Retrieval', 'Korean LDAPS'])\n",
    "# plt.gcf().set_size_inches(5,10)\n",
    "\n",
    "# Compare retrieved temperatures with the temperatures from Korea LDAPS\n",
    "plt.subplot(1,2,2)\n",
    "plt.plot(Retrieval[nRet:], p_ret_grid, 'ro', np.squeeze(t_field_GF3.data), VMR_H2O_GF3.grids[0], 'bs')\n",
    "plt.gca().invert_yaxis()\n",
    "plt.xlabel('Temperature (K)')\n",
    "plt.ylabel('Pressure (Pa)')\n",
    "plt.legend(['OEM Retrieval', 'Korean LDAPS'])\n",
    "\n",
    "plt.tight_layout()\n",
    "plt.gcf().set_size_inches(15,8)"
   ]
  },
  {
   "cell_type": "code",
   "execution_count": null,
   "metadata": {},
   "outputs": [],
   "source": []
  },
  {
   "cell_type": "code",
   "execution_count": null,
   "metadata": {},
   "outputs": [],
   "source": []
  },
  {
   "cell_type": "code",
   "execution_count": null,
   "metadata": {},
   "outputs": [],
   "source": []
  },
  {
   "cell_type": "code",
   "execution_count": null,
   "metadata": {},
   "outputs": [],
   "source": []
  },
  {
   "cell_type": "code",
   "execution_count": null,
   "metadata": {},
   "outputs": [],
   "source": []
  },
  {
   "cell_type": "code",
   "execution_count": null,
   "metadata": {},
   "outputs": [],
   "source": [
    "# Create an ARTS workspace variable. \n",
    "ws = tp.arts.workspace.Workspace()"
   ]
  },
  {
   "cell_type": "code",
   "execution_count": null,
   "metadata": {},
   "outputs": [],
   "source": [
    "%%capture\n",
    "# ARTS INCLUDE files\n",
    "ws.execute_controlfile(\"general/general.arts\");\n",
    "ws.execute_controlfile(\"general/continua.arts\");\n",
    "ws.execute_controlfile(\"general/agendas.arts\");\n",
    "ws.execute_controlfile(\"general/planet_earth.arts\");"
   ]
  },
  {
   "cell_type": "code",
   "execution_count": null,
   "metadata": {},
   "outputs": [],
   "source": []
  },
  {
   "cell_type": "code",
   "execution_count": null,
   "metadata": {},
   "outputs": [],
   "source": []
  },
  {
   "cell_type": "code",
   "execution_count": null,
   "metadata": {},
   "outputs": [],
   "source": []
  },
  {
   "cell_type": "code",
   "execution_count": null,
   "metadata": {},
   "outputs": [],
   "source": [
    "# Load the jacobian calculated from the forward model. \n",
    "J = tp.arts.xml.load(\"./ClearSky_1D_jacobian.xml\")\n",
    "J.shape"
   ]
  },
  {
   "cell_type": "code",
   "execution_count": null,
   "metadata": {},
   "outputs": [],
   "source": []
  },
  {
   "cell_type": "code",
   "execution_count": null,
   "metadata": {},
   "outputs": [],
   "source": []
  },
  {
   "cell_type": "code",
   "execution_count": null,
   "metadata": {},
   "outputs": [],
   "source": []
  }
 ],
 "metadata": {
  "kernelspec": {
   "display_name": "Python 3",
   "language": "python",
   "name": "python3"
  },
  "language_info": {
   "codemirror_mode": {
    "name": "ipython",
    "version": 3
   },
   "file_extension": ".py",
   "mimetype": "text/x-python",
   "name": "python",
   "nbconvert_exporter": "python",
   "pygments_lexer": "ipython3",
   "version": "3.6.5"
  }
 },
 "nbformat": 4,
 "nbformat_minor": 2
}
