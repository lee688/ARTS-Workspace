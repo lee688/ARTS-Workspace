{
 "cells": [
  {
   "cell_type": "code",
   "execution_count": 1,
   "metadata": {},
   "outputs": [],
   "source": [
    "import os\n",
    "import numpy as np\n",
    "from scipy import io as sio\n",
    "from matplotlib import pyplot as plt\n",
    "import inspect"
   ]
  },
  {
   "cell_type": "code",
   "execution_count": 2,
   "metadata": {},
   "outputs": [],
   "source": [
    "# Define a function to see the source code of a function. \n",
    "def showfunc(functiontoshow):\n",
    "    print(inspect.getsource(functiontoshow))"
   ]
  },
  {
   "cell_type": "code",
   "execution_count": 3,
   "metadata": {},
   "outputs": [
    {
     "name": "stderr",
     "output_type": "stream",
     "text": [
      "/home/user/anaconda3/lib/python3.6/site-packages/h5py/__init__.py:36: FutureWarning: Conversion of the second argument of issubdtype from `float` to `np.floating` is deprecated. In future, it will be treated as `np.float64 == np.dtype(float).type`.\n",
      "  from ._conv import register_converters as _register_converters\n"
     ]
    }
   ],
   "source": [
    "import typhon as tp"
   ]
  },
  {
   "cell_type": "code",
   "execution_count": 4,
   "metadata": {},
   "outputs": [],
   "source": [
    "# Set environmental variables. The ARTS path differ between my macbook and the company computer. \n",
    "if os.getcwd()[0:5] == '/User':\n",
    "    tp.environ['ARTS_BUILD_PATH'] = '../../../../ARTS/arts-dev/build/'\n",
    "    tp.environ['ARTS_INCLUDE_PATH'] = '../../../../ARTS/arts-dev/controlfiles/'\n",
    "elif os.getcwd()[0:5] == '/home':\n",
    "    tp.environ['ARTS_BUILD_PATH'] = '../../arts-dev/build/'\n",
    "    tp.environ['ARTS_INCLUDE_PATH'] = '../../arts-dev/controlfiles/'"
   ]
  },
  {
   "cell_type": "code",
   "execution_count": 5,
   "metadata": {},
   "outputs": [
    {
     "name": "stdout",
     "output_type": "stream",
     "text": [
      "Loading ARTS API from: ../../arts-dev/build/src/libarts_api.so\n"
     ]
    },
    {
     "name": "stderr",
     "output_type": "stream",
     "text": [
      "Using TensorFlow backend.\n"
     ]
    }
   ],
   "source": [
    "# Import Typhon retrieval packages. \n",
    "from typhon.retrieval.bmci import BMCI\n",
    "from typhon.retrieval.mcmc import MCMC\n",
    "from typhon.retrieval.qrnn import QRNN"
   ]
  },
  {
   "cell_type": "code",
   "execution_count": null,
   "metadata": {},
   "outputs": [],
   "source": []
  },
  {
   "cell_type": "code",
   "execution_count": null,
   "metadata": {},
   "outputs": [],
   "source": []
  },
  {
   "cell_type": "code",
   "execution_count": null,
   "metadata": {},
   "outputs": [],
   "source": []
  },
  {
   "cell_type": "code",
   "execution_count": null,
   "metadata": {},
   "outputs": [],
   "source": []
  },
  {
   "cell_type": "code",
   "execution_count": null,
   "metadata": {},
   "outputs": [],
   "source": []
  },
  {
   "cell_type": "code",
   "execution_count": 6,
   "metadata": {},
   "outputs": [
    {
     "data": {
      "text/plain": [
       "'QRNNmodels/qrnn_4_64_ensemble_5_at_5'"
      ]
     },
     "execution_count": 6,
     "metadata": {},
     "output_type": "execute_result"
    }
   ],
   "source": [
    "# Quantile regression neural networks\n",
    "\n",
    "adversarial_training = True\n",
    "delta_at             = 0.05\n",
    "ensemble_size        = 5\n",
    "depth                = 4\n",
    "width                = 64\n",
    "\n",
    "filename = \"QRNNmodels/qrnn_\"\n",
    "filename += str(depth) + \"_\" + str(width) + \"_ensemble_\" + str(ensemble_size)\n",
    "if adversarial_training:\n",
    "    filename += \"_at_\" + str(int(delta_at * 100))\n",
    "filename    "
   ]
  },
  {
   "cell_type": "code",
   "execution_count": null,
   "metadata": {},
   "outputs": [],
   "source": [
    "n_input = x_train.shape[1]\n",
    "quantiles = np.array([0.05, 0.15, 0.25, 0.35, 0.45, 0.5, 0.55, 0.65, 0.75, 0.85, 0.95])\n",
    "\n",
    "qrnn_simple = QRNN(n_input, quantiles, depth = depth, width = width, ensemble_size = ensemble_size)\n",
    "qrnn_simple.fit(x_train, y_train.reshape(-1, 1), sigma_noise = None,\n",
    "                adversarial_training = adversarial_training,\n",
    "                delta_at = delta_at,\n",
    "                x_val = x_val,\n",
    "                y_val = y_val,\n",
    "                initial_learning_rate = 0.001,\n",
    "                batch_size = 128,\n",
    "                learning_rate_minimum = 1e-4,\n",
    "                learning_rate_decay = 2,\n",
    "                maximum_epochs = 500,\n",
    "                convergence_epochs = 0)\n",
    "qrnn_simple.save(filename)"
   ]
  },
  {
   "cell_type": "code",
   "execution_count": null,
   "metadata": {},
   "outputs": [],
   "source": []
  },
  {
   "cell_type": "code",
   "execution_count": null,
   "metadata": {},
   "outputs": [],
   "source": []
  },
  {
   "cell_type": "code",
   "execution_count": null,
   "metadata": {},
   "outputs": [],
   "source": []
  },
  {
   "cell_type": "code",
   "execution_count": null,
   "metadata": {},
   "outputs": [],
   "source": []
  },
  {
   "cell_type": "code",
   "execution_count": null,
   "metadata": {},
   "outputs": [],
   "source": []
  },
  {
   "cell_type": "code",
   "execution_count": null,
   "metadata": {},
   "outputs": [],
   "source": [
    "tp.arts.run_arts(controlfile='./TestOEM0.arts');"
   ]
  },
  {
   "cell_type": "code",
   "execution_count": null,
   "metadata": {},
   "outputs": [],
   "source": []
  },
  {
   "cell_type": "code",
   "execution_count": null,
   "metadata": {},
   "outputs": [],
   "source": []
  },
  {
   "cell_type": "code",
   "execution_count": null,
   "metadata": {},
   "outputs": [],
   "source": []
  },
  {
   "cell_type": "code",
   "execution_count": null,
   "metadata": {},
   "outputs": [],
   "source": []
  },
  {
   "cell_type": "code",
   "execution_count": null,
   "metadata": {},
   "outputs": [],
   "source": []
  },
  {
   "cell_type": "code",
   "execution_count": null,
   "metadata": {},
   "outputs": [],
   "source": [
    "# ARTS forward model and retrieval with OEM in development version: \n",
    "tp.arts.run_arts(controlfile='./ClearSky_1D_OEM_ARTSvdev.arts')"
   ]
  },
  {
   "cell_type": "code",
   "execution_count": null,
   "metadata": {},
   "outputs": [],
   "source": [
    "# ARTS forward model results. \n",
    "Tb_ARTS_ClearSky = tp.arts.xml.load(\"./ClearSky_1D_OEM_Tb.xml\")\n",
    "\n",
    "# Bosung observations, 20170930\n",
    "Tb_BosungObs = tp.arts.xml.load('./BosungObservations.xml')\n",
    "\n",
    "# Frequency\n",
    "f_grid = tp.arts.xml.load('./ClearSky_1D_f_grid.xml')"
   ]
  },
  {
   "cell_type": "code",
   "execution_count": null,
   "metadata": {},
   "outputs": [],
   "source": [
    "# Compare brightness temperatures from the simulation with the observations. \n",
    "plt.plot(f_grid, Tb_ARTS_ClearSky, 'ro', f_grid, Tb_BosungObs, 'bs')\n",
    "plt.xlabel('Frequency (Hz)')\n",
    "plt.ylabel('Brightness Temperature (K)')\n",
    "plt.legend(['Simulated','Bosung Observations'])\n",
    "plt.gcf().set_size_inches(15,5)"
   ]
  },
  {
   "cell_type": "code",
   "execution_count": null,
   "metadata": {},
   "outputs": [],
   "source": [
    "# Retrieval results\n",
    "Retrieval = tp.arts.xml.load(\"./ClearSky_1D_OEM_retrieval_results.xml\")\n",
    "# Pressure grid for retrieval\n",
    "p_ret_grid = tp.arts.xml.load('./ClearSky_1D_OEM_retrieval_p_grid.xml')\n",
    "nRet = p_ret_grid.shape[0]\n",
    "\n",
    "# Water VMR from 국지예보모델\n",
    "VMR_H2O_GF3 = tp.arts.xml.load('./ClearSky_1D.H2O.xml')\n",
    "# Temperature from 국지예보모델\n",
    "t_field_GF3 = tp.arts.xml.load('./ClearSky_1D.t.xml')"
   ]
  },
  {
   "cell_type": "code",
   "execution_count": null,
   "metadata": {},
   "outputs": [],
   "source": [
    "# Compare retrieved water VMR with the water VMR from Korean LDAPS. \n",
    "plt.figure()\n",
    "\n",
    "plt.subplot(1,2,1)\n",
    "plt.plot(Retrieval[0:nRet], p_ret_grid, 'ro', np.squeeze(VMR_H2O_GF3.data), VMR_H2O_GF3.grids[0], 'bs')\n",
    "plt.gca().invert_yaxis()\n",
    "plt.xlabel('Volume mixing ratio')\n",
    "plt.ylabel('Pressure (Pa)')\n",
    "plt.legend(['OEM Retrieval', 'Korean LDAPS'])\n",
    "# plt.gcf().set_size_inches(5,10)\n",
    "\n",
    "# Compare retrieved temperatures with the temperatures from Korea LDAPS\n",
    "plt.subplot(1,2,2)\n",
    "plt.plot(Retrieval[nRet:], p_ret_grid, 'ro', np.squeeze(t_field_GF3.data), VMR_H2O_GF3.grids[0], 'bs')\n",
    "plt.gca().invert_yaxis()\n",
    "plt.xlabel('Temperature (K)')\n",
    "plt.ylabel('Pressure (Pa)')\n",
    "plt.legend(['OEM Retrieval', 'Korean LDAPS'])\n",
    "\n",
    "plt.tight_layout()\n",
    "plt.gcf().set_size_inches(15,8)"
   ]
  },
  {
   "cell_type": "code",
   "execution_count": null,
   "metadata": {},
   "outputs": [],
   "source": []
  },
  {
   "cell_type": "code",
   "execution_count": null,
   "metadata": {},
   "outputs": [],
   "source": []
  },
  {
   "cell_type": "code",
   "execution_count": null,
   "metadata": {},
   "outputs": [],
   "source": []
  },
  {
   "cell_type": "code",
   "execution_count": null,
   "metadata": {},
   "outputs": [],
   "source": []
  },
  {
   "cell_type": "code",
   "execution_count": null,
   "metadata": {},
   "outputs": [],
   "source": []
  },
  {
   "cell_type": "code",
   "execution_count": null,
   "metadata": {},
   "outputs": [],
   "source": [
    "# Create an ARTS workspace variable. \n",
    "ws = tp.arts.workspace.Workspace()"
   ]
  },
  {
   "cell_type": "code",
   "execution_count": null,
   "metadata": {},
   "outputs": [],
   "source": [
    "%%capture\n",
    "# ARTS INCLUDE files\n",
    "ws.execute_controlfile(\"general/general.arts\");\n",
    "ws.execute_controlfile(\"general/continua.arts\");\n",
    "ws.execute_controlfile(\"general/agendas.arts\");\n",
    "ws.execute_controlfile(\"general/planet_earth.arts\");"
   ]
  },
  {
   "cell_type": "code",
   "execution_count": null,
   "metadata": {},
   "outputs": [],
   "source": []
  },
  {
   "cell_type": "code",
   "execution_count": null,
   "metadata": {},
   "outputs": [],
   "source": []
  },
  {
   "cell_type": "code",
   "execution_count": null,
   "metadata": {},
   "outputs": [],
   "source": []
  },
  {
   "cell_type": "code",
   "execution_count": null,
   "metadata": {},
   "outputs": [],
   "source": []
  },
  {
   "cell_type": "code",
   "execution_count": null,
   "metadata": {},
   "outputs": [],
   "source": []
  }
 ],
 "metadata": {
  "kernelspec": {
   "display_name": "Python 3",
   "language": "python",
   "name": "python3"
  },
  "language_info": {
   "codemirror_mode": {
    "name": "ipython",
    "version": 3
   },
   "file_extension": ".py",
   "mimetype": "text/x-python",
   "name": "python",
   "nbconvert_exporter": "python",
   "pygments_lexer": "ipython3",
   "version": "3.6.5"
  }
 },
 "nbformat": 4,
 "nbformat_minor": 2
}
