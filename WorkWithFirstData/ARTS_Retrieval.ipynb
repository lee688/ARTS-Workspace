{
 "cells": [
  {
   "cell_type": "code",
   "execution_count": 1,
   "metadata": {},
   "outputs": [],
   "source": [
    "import os\n",
    "import numpy as np\n",
    "from scipy import io as sio\n",
    "from matplotlib import pyplot as plt\n",
    "import inspect"
   ]
  },
  {
   "cell_type": "code",
   "execution_count": 2,
   "metadata": {},
   "outputs": [],
   "source": [
    "# Define a function to see the source code of a function. \n",
    "def showfunc(functiontoshow):\n",
    "    print(inspect.getsource(functiontoshow))"
   ]
  },
  {
   "cell_type": "code",
   "execution_count": 3,
   "metadata": {},
   "outputs": [],
   "source": [
    "import typhon as tp"
   ]
  },
  {
   "cell_type": "code",
   "execution_count": 4,
   "metadata": {},
   "outputs": [],
   "source": [
    "# Set environmental variables. The ARTS path differ between my macbook and the company computer. \n",
    "if os.getcwd()[0:5] == '/User':\n",
    "    tp.environ['ARTS_BUILD_PATH'] = '../../../../ARTS/arts-dev/build/'\n",
    "    tp.environ['ARTS_INCLUDE_PATH'] = '../../../../ARTS/arts-dev/controlfiles/'\n",
    "elif os.getcwd()[0:5] == '/home':\n",
    "    tp.environ['ARTS_BUILD_PATH'] = '../../arts-dev/build/'\n",
    "    tp.environ['ARTS_INCLUDE_PATH'] = '../../arts-dev/controlfiles/'"
   ]
  },
  {
   "cell_type": "code",
   "execution_count": 5,
   "metadata": {},
   "outputs": [
    {
     "name": "stdout",
     "output_type": "stream",
     "text": [
      "Loading ARTS API from: ../../../../ARTS/arts-dev/build/src/libarts_api.so\n"
     ]
    },
    {
     "name": "stderr",
     "output_type": "stream",
     "text": [
      "Using TensorFlow backend.\n"
     ]
    }
   ],
   "source": [
    "# Import Typhon retrieval packages. \n",
    "from typhon.retrieval.bmci import BMCI\n",
    "from typhon.retrieval.mcmc import MCMC\n",
    "from typhon.retrieval.qrnn import QRNN"
   ]
  },
  {
   "cell_type": "code",
   "execution_count": null,
   "metadata": {},
   "outputs": [],
   "source": []
  },
  {
   "cell_type": "code",
   "execution_count": null,
   "metadata": {},
   "outputs": [],
   "source": []
  },
  {
   "cell_type": "code",
   "execution_count": null,
   "metadata": {},
   "outputs": [],
   "source": []
  },
  {
   "cell_type": "code",
   "execution_count": null,
   "metadata": {},
   "outputs": [],
   "source": []
  },
  {
   "cell_type": "code",
   "execution_count": null,
   "metadata": {},
   "outputs": [],
   "source": []
  },
  {
   "cell_type": "code",
   "execution_count": null,
   "metadata": {},
   "outputs": [],
   "source": [
    "# ARTS forward model and retrieval with OEM in development version: \n",
    "tp.arts.run_arts(controlfile='./ClearSky_1D_OEM_ARTSvdev.arts');\n",
    "\n",
    "# Works sometimes and doesn't others. "
   ]
  },
  {
   "cell_type": "code",
   "execution_count": null,
   "metadata": {},
   "outputs": [],
   "source": [
    "# ARTS forward model results. \n",
    "Tb_ARTS_ClearSky = tp.arts.xml.load(\"./ClearSky_1D_OEM_Tb.xml\")\n",
    "\n",
    "# Bosung observations, 20170930\n",
    "Tb_BosungObs = tp.arts.xml.load('./BosungObservations.xml')\n",
    "\n",
    "# Frequency\n",
    "f_grid = tp.arts.xml.load('./ClearSky_1D_f_grid.xml')"
   ]
  },
  {
   "cell_type": "code",
   "execution_count": null,
   "metadata": {},
   "outputs": [],
   "source": [
    "# Compare brightness temperatures from the simulation with the observations. \n",
    "plt.figure()\n",
    "\n",
    "plt.subplot(2,1,1)\n",
    "plt.plot(f_grid, Tb_BosungObs, 'ro', f_grid, Tb_ARTS_ClearSky, 'bs')\n",
    "plt.xlabel('Frequency (Hz)')\n",
    "plt.ylabel('Brightness Temperature (K)')\n",
    "plt.legend(['Bosung radiometer observations', 'LDAPS simulations'])\n",
    "\n",
    "plt.subplot(2,1,2)\n",
    "plt.plot(f_grid, np.zeros(f_grid.shape),'k--',\n",
    "         f_grid, Tb_ARTS_ClearSky - Tb_BosungObs, 'gd')\n",
    "plt.xlabel('Frequency (Hz)')\n",
    "plt.ylabel('Brightness Temperature (K)')\n",
    "plt.legend(['Zero line','LDAPS simulations minus radiometer observations'])\n",
    "\n",
    "plt.gcf().set_size_inches(15,10)"
   ]
  },
  {
   "cell_type": "code",
   "execution_count": null,
   "metadata": {},
   "outputs": [],
   "source": [
    "# Retrieval results\n",
    "Retrieval = tp.arts.xml.load(\"./ClearSky_1D_OEM_retrieval_results.xml\")\n",
    "# Pressure grid for retrieval\n",
    "p_ret_grid = tp.arts.xml.load('./ClearSky_1D_OEM_retrieval_p_grid.xml')\n",
    "nRet = p_ret_grid.shape[0]\n",
    "\n",
    "# Water VMR from 국지예보모델\n",
    "VMR_H2O_GF3 = tp.arts.xml.load('./ClearSky_1D.H2O.xml')\n",
    "# Temperature from 국지예보모델\n",
    "t_field_GF3 = tp.arts.xml.load('./ClearSky_1D.t.xml')"
   ]
  },
  {
   "cell_type": "code",
   "execution_count": null,
   "metadata": {},
   "outputs": [],
   "source": [
    "# Compare retrieved water VMR with the water VMR from Korean LDAPS. \n",
    "plt.figure()\n",
    "\n",
    "plt.subplot(1,2,1)\n",
    "plt.plot(Retrieval[0:nRet], p_ret_grid, 'ro', np.squeeze(VMR_H2O_GF3.data), VMR_H2O_GF3.grids[0], 'bs')\n",
    "plt.gca().invert_yaxis()\n",
    "plt.xlabel('Volume mixing ratio')\n",
    "plt.ylabel('Pressure (Pa)')\n",
    "plt.legend(['OEM Retrieval', 'Korean LDAPS'])\n",
    "# plt.gcf().set_size_inches(5,10)\n",
    "\n",
    "# Compare retrieved temperatures with the temperatures from Korea LDAPS\n",
    "plt.subplot(1,2,2)\n",
    "plt.plot(Retrieval[nRet:], p_ret_grid, 'ro', np.squeeze(t_field_GF3.data), VMR_H2O_GF3.grids[0], 'bs')\n",
    "plt.gca().invert_yaxis()\n",
    "plt.xlabel('Temperature (K)')\n",
    "plt.ylabel('Pressure (Pa)')\n",
    "plt.legend(['OEM Retrieval', 'Korean LDAPS'])\n",
    "\n",
    "plt.tight_layout()\n",
    "plt.gcf().set_size_inches(15,8)"
   ]
  },
  {
   "cell_type": "code",
   "execution_count": null,
   "metadata": {},
   "outputs": [],
   "source": []
  },
  {
   "cell_type": "code",
   "execution_count": null,
   "metadata": {},
   "outputs": [],
   "source": []
  },
  {
   "cell_type": "code",
   "execution_count": null,
   "metadata": {},
   "outputs": [],
   "source": []
  },
  {
   "cell_type": "code",
   "execution_count": null,
   "metadata": {},
   "outputs": [],
   "source": []
  },
  {
   "cell_type": "code",
   "execution_count": null,
   "metadata": {},
   "outputs": [],
   "source": []
  },
  {
   "cell_type": "code",
   "execution_count": null,
   "metadata": {},
   "outputs": [],
   "source": [
    "# Quantile regression neural networks\n",
    "\n",
    "adversarial_training = True\n",
    "delta_at             = 0.05\n",
    "ensemble_size        = 5\n",
    "depth                = 4\n",
    "width                = 64\n",
    "\n",
    "filename = \"QRNNmodels/qrnn_\"\n",
    "filename += str(depth) + \"_\" + str(width) + \"_ensemble_\" + str(ensemble_size)\n",
    "if adversarial_training:\n",
    "    filename += \"_at_\" + str(int(delta_at * 100))\n",
    "filename    "
   ]
  },
  {
   "cell_type": "code",
   "execution_count": null,
   "metadata": {},
   "outputs": [],
   "source": [
    "n_input = x_train.shape[1]\n",
    "quantiles = np.array([0.05, 0.15, 0.25, 0.35, 0.45, 0.5, 0.55, 0.65, 0.75, 0.85, 0.95])\n",
    "\n",
    "qrnn_simple = QRNN(n_input, quantiles, depth = depth, width = width, ensemble_size = ensemble_size)\n",
    "qrnn_simple.fit(x_train, y_train.reshape(-1, 1), sigma_noise = None,\n",
    "                adversarial_training = adversarial_training,\n",
    "                delta_at = delta_at,\n",
    "                x_val = x_val,\n",
    "                y_val = y_val,\n",
    "                initial_learning_rate = 0.001,\n",
    "                batch_size = 128,\n",
    "                learning_rate_minimum = 1e-4,\n",
    "                learning_rate_decay = 2,\n",
    "                maximum_epochs = 500,\n",
    "                convergence_epochs = 0)\n",
    "qrnn_simple.save(filename)"
   ]
  },
  {
   "cell_type": "code",
   "execution_count": null,
   "metadata": {},
   "outputs": [],
   "source": []
  },
  {
   "cell_type": "code",
   "execution_count": null,
   "metadata": {},
   "outputs": [],
   "source": []
  },
  {
   "cell_type": "code",
   "execution_count": null,
   "metadata": {},
   "outputs": [],
   "source": []
  },
  {
   "cell_type": "code",
   "execution_count": null,
   "metadata": {},
   "outputs": [],
   "source": []
  },
  {
   "cell_type": "code",
   "execution_count": null,
   "metadata": {},
   "outputs": [],
   "source": []
  },
  {
   "cell_type": "code",
   "execution_count": 40,
   "metadata": {},
   "outputs": [],
   "source": [
    "from typhon.arts.workspace import Workspace"
   ]
  },
  {
   "cell_type": "code",
   "execution_count": 9,
   "metadata": {},
   "outputs": [],
   "source": [
    "# Create an ARTS workspace variable. \n",
    "ws = Workspace() "
   ]
  },
  {
   "cell_type": "code",
   "execution_count": null,
   "metadata": {},
   "outputs": [],
   "source": [
    "%%capture\n",
    "# ARTS INCLUDE files\n",
    "ws.execute_controlfile(\"general/general.arts\");\n",
    "ws.execute_controlfile(\"general/continua.arts\");\n",
    "ws.execute_controlfile(\"general/agendas.arts\");\n",
    "ws.execute_controlfile(\"general/planet_earth.arts\");"
   ]
  },
  {
   "cell_type": "code",
   "execution_count": 14,
   "metadata": {},
   "outputs": [],
   "source": [
    "%%capture\n",
    "ws.execute_controlfile(\"TestOEM.arts\");"
   ]
  },
  {
   "cell_type": "code",
   "execution_count": null,
   "metadata": {},
   "outputs": [],
   "source": []
  },
  {
   "cell_type": "code",
   "execution_count": null,
   "metadata": {},
   "outputs": [],
   "source": []
  },
  {
   "cell_type": "code",
   "execution_count": null,
   "metadata": {},
   "outputs": [],
   "source": []
  },
  {
   "cell_type": "code",
   "execution_count": null,
   "metadata": {},
   "outputs": [],
   "source": []
  },
  {
   "cell_type": "code",
   "execution_count": null,
   "metadata": {},
   "outputs": [],
   "source": []
  },
  {
   "cell_type": "code",
   "execution_count": 67,
   "metadata": {},
   "outputs": [],
   "source": [
    "# Markov Chain Monte Carlo\n",
    "variables = [[np.array([1, 2, 3]), MCMC.eval_l, MCMC.step]]\n",
    "y = np.array([295, 290, 185])\n",
    "ly = MCMC.eval_l\n",
    "\n",
    "asdf = MCMC(variables,y,ly)"
   ]
  },
  {
   "cell_type": "code",
   "execution_count": 69,
   "metadata": {},
   "outputs": [
    {
     "ename": "AttributeError",
     "evalue": "'MCMC' object has no attribute 'ly_old'",
     "output_type": "error",
     "traceback": [
      "\u001b[0;31m---------------------------------------------------------------------------\u001b[0m",
      "\u001b[0;31mAttributeError\u001b[0m                            Traceback (most recent call last)",
      "\u001b[0;32m<ipython-input-69-63f5bde98908>\u001b[0m in \u001b[0;36m<module>\u001b[0;34m()\u001b[0m\n\u001b[0;32m----> 1\u001b[0;31m \u001b[0masdf\u001b[0m\u001b[0;34m.\u001b[0m\u001b[0mrun\u001b[0m\u001b[0;34m(\u001b[0m\u001b[0mws\u001b[0m\u001b[0;34m,\u001b[0m\u001b[0;36m5\u001b[0m\u001b[0;34m)\u001b[0m\u001b[0;34m\u001b[0m\u001b[0m\n\u001b[0m",
      "\u001b[0;32m~/anaconda3/lib/python3.6/site-packages/typhon/retrieval/mcmc/mcmc.py\u001b[0m in \u001b[0;36mrun\u001b[0;34m(self, ws, n_steps)\u001b[0m\n\u001b[1;32m    312\u001b[0m         \u001b[0macceptance\u001b[0m \u001b[0;34m=\u001b[0m \u001b[0mnp\u001b[0m\u001b[0;34m.\u001b[0m\u001b[0mzeros\u001b[0m\u001b[0;34m(\u001b[0m\u001b[0;34m(\u001b[0m\u001b[0mn_steps\u001b[0m\u001b[0;34m,\u001b[0m \u001b[0mlen\u001b[0m\u001b[0;34m(\u001b[0m\u001b[0mself\u001b[0m\u001b[0;34m.\u001b[0m\u001b[0mvars\u001b[0m\u001b[0;34m)\u001b[0m\u001b[0;34m)\u001b[0m\u001b[0;34m,\u001b[0m \u001b[0mdtype\u001b[0m\u001b[0;34m=\u001b[0m\u001b[0mbool\u001b[0m\u001b[0;34m)\u001b[0m\u001b[0;34m\u001b[0m\u001b[0m\n\u001b[1;32m    313\u001b[0m \u001b[0;34m\u001b[0m\u001b[0m\n\u001b[0;32m--> 314\u001b[0;31m         \u001b[0mly\u001b[0m  \u001b[0;34m=\u001b[0m \u001b[0mself\u001b[0m\u001b[0;34m.\u001b[0m\u001b[0mly_old\u001b[0m\u001b[0;34m\u001b[0m\u001b[0m\n\u001b[0m\u001b[1;32m    315\u001b[0m         \u001b[0mlxs\u001b[0m \u001b[0;34m=\u001b[0m \u001b[0mself\u001b[0m\u001b[0;34m.\u001b[0m\u001b[0mlxs_old\u001b[0m\u001b[0;34m\u001b[0m\u001b[0m\n\u001b[1;32m    316\u001b[0m \u001b[0;34m\u001b[0m\u001b[0m\n",
      "\u001b[0;31mAttributeError\u001b[0m: 'MCMC' object has no attribute 'ly_old'"
     ]
    }
   ],
   "source": [
    "asdf.run(ws,5)"
   ]
  },
  {
   "cell_type": "code",
   "execution_count": null,
   "metadata": {},
   "outputs": [],
   "source": []
  },
  {
   "cell_type": "code",
   "execution_count": null,
   "metadata": {},
   "outputs": [],
   "source": []
  },
  {
   "cell_type": "code",
   "execution_count": null,
   "metadata": {},
   "outputs": [],
   "source": []
  },
  {
   "cell_type": "code",
   "execution_count": null,
   "metadata": {},
   "outputs": [],
   "source": []
  }
 ],
 "metadata": {
  "kernelspec": {
   "display_name": "Python 3",
   "language": "python",
   "name": "python3"
  },
  "language_info": {
   "codemirror_mode": {
    "name": "ipython",
    "version": 3
   },
   "file_extension": ".py",
   "mimetype": "text/x-python",
   "name": "python",
   "nbconvert_exporter": "python",
   "pygments_lexer": "ipython3",
   "version": "3.6.6"
  }
 },
 "nbformat": 4,
 "nbformat_minor": 2
}
