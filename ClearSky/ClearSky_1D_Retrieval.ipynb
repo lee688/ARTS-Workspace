{
 "cells": [
  {
   "cell_type": "code",
   "execution_count": 12,
   "metadata": {},
   "outputs": [],
   "source": [
    "import numpy as np\n",
    "from scipy import io as sio\n",
    "from matplotlib import pyplot as plt\n",
    "import inspect"
   ]
  },
  {
   "cell_type": "code",
   "execution_count": 16,
   "metadata": {},
   "outputs": [],
   "source": [
    "import typhon as tp\n",
    "import typhon.retrieval.bmci as tprb"
   ]
  },
  {
   "cell_type": "code",
   "execution_count": 23,
   "metadata": {},
   "outputs": [],
   "source": [
    "# Define a function to easily see the source code of a function. \n",
    "def showfunc(functiontoshow):\n",
    "    print(inspect.getsource(functiontoshow))"
   ]
  },
  {
   "cell_type": "code",
   "execution_count": 34,
   "metadata": {},
   "outputs": [
    {
     "name": "stdout",
     "output_type": "stream",
     "text": [
      "def error_covariance_matrix(K, S_a, S_y):\n",
      "    \"\"\"Calculate the error covariance matrix.\n",
      "\n",
      "    Parameters:\n",
      "        K (np.array): Simulated Jacobians.\n",
      "        S_a (np.array): A priori error covariance matrix.\n",
      "        S_y (np.array): Measurement covariance matrix.\n",
      "\n",
      "    Returns:\n",
      "        np.array: Measurement error covariance matrix.\n",
      "    \"\"\"\n",
      "    return inv(K.T @ inv(S_y) @ K + inv(S_a))\n",
      "\n"
     ]
    }
   ],
   "source": [
    "showfunc(tp.oem.error_covariance_matrix)"
   ]
  },
  {
   "cell_type": "code",
   "execution_count": 36,
   "metadata": {},
   "outputs": [
    {
     "data": {
      "text/plain": [
       "(22, 50)"
      ]
     },
     "execution_count": 36,
     "metadata": {},
     "output_type": "execute_result"
    }
   ],
   "source": [
    "J = tp.arts.xml.load(\"./ClearSky_1D_jacobian.xml\")\n",
    "J.shape"
   ]
  },
  {
   "cell_type": "code",
   "execution_count": null,
   "metadata": {},
   "outputs": [],
   "source": [
    "tp.oem."
   ]
  },
  {
   "cell_type": "code",
   "execution_count": null,
   "metadata": {},
   "outputs": [],
   "source": []
  },
  {
   "cell_type": "code",
   "execution_count": null,
   "metadata": {},
   "outputs": [],
   "source": []
  },
  {
   "cell_type": "code",
   "execution_count": null,
   "metadata": {},
   "outputs": [],
   "source": []
  },
  {
   "cell_type": "code",
   "execution_count": null,
   "metadata": {},
   "outputs": [],
   "source": []
  },
  {
   "cell_type": "code",
   "execution_count": 18,
   "metadata": {},
   "outputs": [],
   "source": [
    "Tb_simulated = tp.arts.xml.load(\"./ClearSky_1D_Tb.xml\")\n",
    "Tb_BosungObs = np.array([26.193, 23.754, 22.435, 18.510, 15.617, 12.566, 12.388, 11.472, \n",
    "                         107.09, 123.677, 147.536, 178.933, 216.787, 250.225, 273.193, 282.353, \n",
    "                         286.576, 288.430, 289.69, 290.449, 291.361, 291.436])"
   ]
  },
  {
   "cell_type": "code",
   "execution_count": null,
   "metadata": {},
   "outputs": [],
   "source": []
  },
  {
   "cell_type": "code",
   "execution_count": null,
   "metadata": {},
   "outputs": [],
   "source": []
  },
  {
   "cell_type": "code",
   "execution_count": null,
   "metadata": {},
   "outputs": [],
   "source": []
  },
  {
   "cell_type": "code",
   "execution_count": null,
   "metadata": {},
   "outputs": [],
   "source": []
  },
  {
   "cell_type": "code",
   "execution_count": null,
   "metadata": {},
   "outputs": [],
   "source": []
  },
  {
   "cell_type": "code",
   "execution_count": null,
   "metadata": {},
   "outputs": [],
   "source": []
  }
 ],
 "metadata": {
  "kernelspec": {
   "display_name": "Python 3",
   "language": "python",
   "name": "python3"
  },
  "language_info": {
   "codemirror_mode": {
    "name": "ipython",
    "version": 3
   },
   "file_extension": ".py",
   "mimetype": "text/x-python",
   "name": "python",
   "nbconvert_exporter": "python",
   "pygments_lexer": "ipython3",
   "version": "3.6.5"
  }
 },
 "nbformat": 4,
 "nbformat_minor": 2
}
