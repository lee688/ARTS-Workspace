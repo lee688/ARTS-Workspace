{
 "cells": [
  {
   "cell_type": "code",
   "execution_count": 1,
   "metadata": {},
   "outputs": [],
   "source": [
    "import numpy as np\n",
    "from scipy import io as sio\n",
    "from matplotlib import pyplot as plt\n",
    "import inspect"
   ]
  },
  {
   "cell_type": "code",
   "execution_count": 2,
   "metadata": {},
   "outputs": [],
   "source": [
    "# Define a function to see the source code of a function. \n",
    "def showfunc(functiontoshow):\n",
    "    print(inspect.getsource(functiontoshow))"
   ]
  },
  {
   "cell_type": "code",
   "execution_count": 3,
   "metadata": {},
   "outputs": [
    {
     "name": "stderr",
     "output_type": "stream",
     "text": [
      "/home/user/anaconda3/lib/python3.6/site-packages/h5py/__init__.py:36: FutureWarning: Conversion of the second argument of issubdtype from `float` to `np.floating` is deprecated. In future, it will be treated as `np.float64 == np.dtype(float).type`.\n",
      "  from ._conv import register_converters as _register_converters\n"
     ]
    }
   ],
   "source": [
    "import typhon as tp"
   ]
  },
  {
   "cell_type": "code",
   "execution_count": 4,
   "metadata": {},
   "outputs": [],
   "source": [
    "# Set environmental variables. \n",
    "tp.environ['ARTS_BUILD_PATH'] = '../../arts-dev/build/'\n",
    "tp.environ['ARTS_INCLUDE_PATH'] = '../../arts-dev/controlfiles/'"
   ]
  },
  {
   "cell_type": "code",
   "execution_count": 5,
   "metadata": {},
   "outputs": [
    {
     "name": "stdout",
     "output_type": "stream",
     "text": [
      "Loading ARTS API from: ../../arts-dev/build/src/libarts_api.so\n"
     ]
    },
    {
     "name": "stderr",
     "output_type": "stream",
     "text": [
      "Using TensorFlow backend.\n"
     ]
    }
   ],
   "source": [
    "# Import Typhon retrieval packages. \n",
    "import typhon.retrieval.bmci as tprb\n",
    "import typhon.retrieval.mcmc as tprm\n",
    "import typhon.retrieval.qrnn as tprq"
   ]
  },
  {
   "cell_type": "code",
   "execution_count": 6,
   "metadata": {},
   "outputs": [],
   "source": [
    "# Create an ARTS workspace variable. \n",
    "ws = tp.arts.workspace.Workspace()"
   ]
  },
  {
   "cell_type": "code",
   "execution_count": 7,
   "metadata": {},
   "outputs": [
    {
     "name": "stdout",
     "output_type": "stream",
     "text": [
      "ARTS[94335154131872]: Executing ../../arts-dev/controlfiles/general/general.arts\n",
      "ARTS[94335154131872]: {\n",
      "ARTS[94335154131872]: - verbosityInit\n",
      "ARTS[94335154131872]: - scat_speciesSet\n",
      "ARTS[94335154131872]: - MatrixSet\n",
      "ARTS[94335154131872]: - Tensor4SetConstant\n",
      "ARTS[94335154131872]: - ArrayOfStringSet\n",
      "ARTS[94335154131872]: - Touch\n",
      "ARTS[94335154131872]: - Tensor3SetConstant\n",
      "ARTS[94335154131872]: - ArrayOfStringSet\n",
      "ARTS[94335154131872]: - MatrixSet\n",
      "ARTS[94335154131872]: - NumericSet\n",
      "ARTS[94335154131872]: - ArrayOfStringSet\n",
      "ARTS[94335154131872]: - Tensor3SetConstant\n",
      "ARTS[94335154131872]: - Tensor3SetConstant\n",
      "ARTS[94335154131872]: - Tensor3SetConstant\n",
      "ARTS[94335154131872]: - Tensor3SetConstant\n",
      "ARTS[94335154131872]: - Tensor3SetConstant\n",
      "ARTS[94335154131872]: - Tensor3SetConstant\n",
      "ARTS[94335154131872]: - IndexSet\n",
      "ARTS[94335154131872]: - IndexSet\n",
      "ARTS[94335154131872]: - IndexSet\n",
      "ARTS[94335154131872]: - IndexSet\n",
      "ARTS[94335154131872]: - FlagOff\n",
      "ARTS[94335154131872]: - output_file_formatSetAscii\n",
      "ARTS[94335154131872]: - StringSet\n",
      "ARTS[94335154131872]: - IndexSet\n",
      "ARTS[94335154131872]: - abs_lineshapeDefine\n",
      "ARTS[94335154131872]: - NumericSet\n",
      "ARTS[94335154131872]: - NumericSet\n",
      "ARTS[94335154131872]: - AgendaSet\n",
      "ARTS[94335154131872]: - IndexSet\n",
      "ARTS[94335154131872]: - IndexSet\n",
      "ARTS[94335154131872]: - NumericSet\n",
      "ARTS[94335154131872]: - NumericSet\n",
      "ARTS[94335154131872]: - nlteOff\n",
      "ARTS[94335154131872]: - partition_functionsInitFromBuiltin\n",
      "ARTS[94335154131872]: - AgendaSet\n",
      "ARTS[94335154131872]: - IndexSet\n",
      "ARTS[94335154131872]: }\n",
      "\n"
     ]
    },
    {
     "data": {
      "text/plain": [
       "<typhon.arts.workspace.agendas.Agenda at 0x7ff40e510f60>"
      ]
     },
     "execution_count": 7,
     "metadata": {},
     "output_type": "execute_result"
    }
   ],
   "source": [
    "ws.execute_controlfile(\"general/general.arts\")"
   ]
  },
  {
   "cell_type": "code",
   "execution_count": null,
   "metadata": {},
   "outputs": [],
   "source": []
  },
  {
   "cell_type": "code",
   "execution_count": null,
   "metadata": {},
   "outputs": [],
   "source": [
    "# Load the jacobian calculated from the forward model. \n",
    "J = tp.arts.xml.load(\"./ClearSky_1D_jacobian.xml\")\n",
    "J.shape"
   ]
  },
  {
   "cell_type": "code",
   "execution_count": null,
   "metadata": {},
   "outputs": [],
   "source": []
  },
  {
   "cell_type": "code",
   "execution_count": null,
   "metadata": {},
   "outputs": [],
   "source": []
  },
  {
   "cell_type": "code",
   "execution_count": null,
   "metadata": {},
   "outputs": [],
   "source": []
  },
  {
   "cell_type": "code",
   "execution_count": null,
   "metadata": {},
   "outputs": [],
   "source": []
  },
  {
   "cell_type": "code",
   "execution_count": null,
   "metadata": {},
   "outputs": [],
   "source": []
  },
  {
   "cell_type": "code",
   "execution_count": null,
   "metadata": {},
   "outputs": [],
   "source": [
    "Tb_simulated = tp.arts.xml.load(\"./ClearSky_1D_Tb.xml\")\n",
    "Tb_BosungObs = np.array([26.193, 23.754, 22.435, 18.510, 15.617, 12.566, 12.388, 11.472, \n",
    "                         107.09, 123.677, 147.536, 178.933, 216.787, 250.225, 273.193, 282.353, \n",
    "                         286.576, 288.430, 289.69, 290.449, 291.361, 291.436])"
   ]
  },
  {
   "cell_type": "code",
   "execution_count": null,
   "metadata": {},
   "outputs": [],
   "source": []
  },
  {
   "cell_type": "code",
   "execution_count": null,
   "metadata": {},
   "outputs": [],
   "source": []
  },
  {
   "cell_type": "code",
   "execution_count": null,
   "metadata": {},
   "outputs": [],
   "source": []
  },
  {
   "cell_type": "code",
   "execution_count": null,
   "metadata": {},
   "outputs": [],
   "source": []
  },
  {
   "cell_type": "code",
   "execution_count": null,
   "metadata": {},
   "outputs": [],
   "source": []
  },
  {
   "cell_type": "code",
   "execution_count": null,
   "metadata": {},
   "outputs": [],
   "source": []
  }
 ],
 "metadata": {
  "kernelspec": {
   "display_name": "Python 3",
   "language": "python",
   "name": "python3"
  },
  "language_info": {
   "codemirror_mode": {
    "name": "ipython",
    "version": 3
   },
   "file_extension": ".py",
   "mimetype": "text/x-python",
   "name": "python",
   "nbconvert_exporter": "python",
   "pygments_lexer": "ipython3",
   "version": "3.6.5"
  }
 },
 "nbformat": 4,
 "nbformat_minor": 2
}
