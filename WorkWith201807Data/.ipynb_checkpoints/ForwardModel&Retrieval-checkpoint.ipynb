{
 "cells": [
  {
   "cell_type": "code",
   "execution_count": 1,
   "metadata": {},
   "outputs": [],
   "source": [
    "import os, glob\n",
    "import pandas as pd\n",
    "import numpy as np\n",
    "import scipy as sp\n",
    "from matplotlib import pyplot as plt"
   ]
  },
  {
   "cell_type": "code",
   "execution_count": 2,
   "metadata": {},
   "outputs": [],
   "source": [
    "import typhon as tp\n",
    "import AdditionalFunctions as af"
   ]
  },
  {
   "cell_type": "code",
   "execution_count": 3,
   "metadata": {},
   "outputs": [],
   "source": [
    "# Set environmental variables. The ARTS path differ between my macbook and the company computer. \n",
    "if os.getcwd()[0:5] == '/User':\n",
    "    tp.environ['ARTS_BUILD_PATH'] = '../../../../ARTS/arts-dev/build/'\n",
    "    tp.environ['ARTS_INCLUDE_PATH'] = '../../../../ARTS/arts-dev/controlfiles/'\n",
    "elif os.getcwd()[0:5] == '/home':\n",
    "    tp.environ['ARTS_BUILD_PATH'] = '../../arts-dev/build/'\n",
    "    tp.environ['ARTS_INCLUDE_PATH'] = '../../arts-dev/controlfiles/'"
   ]
  },
  {
   "cell_type": "code",
   "execution_count": 4,
   "metadata": {},
   "outputs": [
    {
     "name": "stdout",
     "output_type": "stream",
     "text": [
      "Loading ARTS API from: ../../../../ARTS/arts-dev/build/src/libarts_api.so\n"
     ]
    },
    {
     "name": "stderr",
     "output_type": "stream",
     "text": [
      "Using TensorFlow backend.\n"
     ]
    }
   ],
   "source": [
    "# Import Typhon retrieval packages. \n",
    "from typhon.retrieval.bmci import BMCI\n",
    "from typhon.retrieval.mcmc import MCMC\n",
    "from typhon.retrieval.qrnn import QRNN"
   ]
  },
  {
   "cell_type": "code",
   "execution_count": null,
   "metadata": {},
   "outputs": [],
   "source": []
  },
  {
   "cell_type": "code",
   "execution_count": null,
   "metadata": {},
   "outputs": [],
   "source": []
  },
  {
   "cell_type": "code",
   "execution_count": null,
   "metadata": {},
   "outputs": [],
   "source": []
  },
  {
   "cell_type": "code",
   "execution_count": null,
   "metadata": {},
   "outputs": [],
   "source": []
  },
  {
   "cell_type": "code",
   "execution_count": null,
   "metadata": {},
   "outputs": [],
   "source": []
  },
  {
   "cell_type": "code",
   "execution_count": 5,
   "metadata": {},
   "outputs": [],
   "source": [
    "# Assume WGS 1984 for the reference Ellipsoid.\n",
    "R_eq = 6378137 # Earth's equatorial radius, in meters\n",
    "iFlttn = 298.257223563 # Inverse flattening\n",
    "R_polar = R_eq * (1-1/iFlttn) # Earth's polar radius\n",
    "eccnty = (2/iFlttn - (1/iFlttn)**2)**0.5 # Eccentricity of the ellipsoid "
   ]
  },
  {
   "cell_type": "code",
   "execution_count": 6,
   "metadata": {},
   "outputs": [],
   "source": [
    "# DaysToSee = ['03', '04', '05', '06', '07', '08', '09', '10', '11', '12', '13', '14', '15', '16']\n",
    "# HoursToSee = ['00', '03', '06', '09', '12', '15', '18', '21']\n",
    "\n",
    "# Data month \n",
    "damo = '07'\n",
    "\n",
    "# Data day\n",
    "dada = '04'\n",
    "\n",
    "# Data hour of day\n",
    "daho = '00'\n",
    "\n",
    "# Files location\n",
    "dain = os.path.join(os.getcwd(),dada)\n",
    "\n",
    "# Observation/simulation time\n",
    "TimeOfInterest = pd.Timestamp('2018-' + damo + '-' + dada + ' ' + daho + ':00:00+0000',tz='UTC')"
   ]
  },
  {
   "cell_type": "code",
   "execution_count": null,
   "metadata": {},
   "outputs": [],
   "source": []
  },
  {
   "cell_type": "code",
   "execution_count": null,
   "metadata": {},
   "outputs": [],
   "source": []
  },
  {
   "cell_type": "code",
   "execution_count": null,
   "metadata": {},
   "outputs": [],
   "source": []
  },
  {
   "cell_type": "code",
   "execution_count": null,
   "metadata": {},
   "outputs": [],
   "source": []
  },
  {
   "cell_type": "code",
   "execution_count": null,
   "metadata": {},
   "outputs": [],
   "source": []
  },
  {
   "cell_type": "code",
   "execution_count": 7,
   "metadata": {},
   "outputs": [
    {
     "name": "stdout",
     "output_type": "stream",
     "text": [
      "True\n"
     ]
    }
   ],
   "source": [
    "# Read in radimeters data.\n",
    "\n",
    "# Read in brightness temperature data, contained in Level1 data.\n",
    "f_radmtr_lv1 = glob.glob('Data_Radiometer/2018-' + damo + '-' + dada + '*lv1.csv')[0]\n",
    "df_radmtr_lv1 = af.radiometrics()\n",
    "df_radmtr_lv1.read_lv1_data(f_radmtr_lv1)\n",
    "\n",
    "# Radiometer channels\n",
    "radmtr_channels = df_radmtr_lv1.df.loc[:,'Ch22.000':'Ch58.800'].dropna(axis=1).columns.str.replace('Ch','')\n",
    "radmtr_channels = radmtr_channels.values.astype(np.float64) * 1e9\n",
    "# Save as .xml files. \n",
    "tp.arts.xml.save(radmtr_channels, './f_grid.xml')"
   ]
  },
  {
   "cell_type": "code",
   "execution_count": 8,
   "metadata": {},
   "outputs": [],
   "source": [
    "# Radiometer observations (brightness temperatures) for the specific time \n",
    "# Tb_radmtr = df_radmtr_lv1.df.loc[(df_radmtr_lv1.df.DateTime - TimeOfInterest).abs().idxmin()] # Use the closest time.\n",
    "# Take average 20 minutes or less before and after:\n",
    "Tb_radmtr = df_radmtr_lv1.df.loc[(df_radmtr_lv1.df.DateTime - TimeOfInterest).abs() <= pd.Timedelta('20 minutes')]\n",
    "Tb_radmtr = Tb_radmtr.loc[:,'Ch22.000':'Ch58.800'].dropna(axis=1).mean(axis=0).values.flatten()"
   ]
  },
  {
   "cell_type": "code",
   "execution_count": 9,
   "metadata": {},
   "outputs": [
    {
     "name": "stdout",
     "output_type": "stream",
     "text": [
      "True\n"
     ]
    }
   ],
   "source": [
    "# Read in radiometer's retrievals of atmospheric profiles, contained in Level2 data. \n",
    "f_radmtr_lv2 = glob.glob('Data_radiometer/2018-' + damo + '-' + dada + '*lv2.csv')[0]\n",
    "df_radmtr_lv2 = af.radiometrics()\n",
    "df_radmtr_lv2.read_lv2_data(f_radmtr_lv2)\n",
    "\n",
    "# Retrieval altitudes\n",
    "radmtr_retrievedAlt = df_radmtr_lv2.df.loc[:,'0.00':'10.00'].columns.values.astype(np.float64) * 1000\n",
    "\n",
    "# Retrieved temperatures\n",
    "df_radmtr_lv2_T = df_radmtr_lv2.df.iloc[0::4]\n",
    "\n",
    "# Retrieved RH\n",
    "df_radmtr_lv2_RH = df_radmtr_lv2.df.iloc[3::4]"
   ]
  },
  {
   "cell_type": "code",
   "execution_count": 10,
   "metadata": {},
   "outputs": [],
   "source": [
    "# Retrievals at the specific time \n",
    "\n",
    "# Retrieved temperatures\n",
    "radmtr_retrievedT = df_radmtr_lv2_T.loc[(df_radmtr_lv2_T.DateTime - TimeOfInterest).abs() <= pd.Timedelta('20 minutes')]\n",
    "radmtr_retrievedT = radmtr_retrievedT.loc[:,'0.00':'10.00'].dropna(axis=1).mean(axis=0).values.flatten()\n",
    "\n",
    "# Retrieved RH\n",
    "radmtr_retrievedRH = df_radmtr_lv2_RH.loc[(df_radmtr_lv2_RH.DateTime - TimeOfInterest).abs() <= pd.Timedelta('20 minutes')]\n",
    "radmtr_retrievedRH = radmtr_retrievedRH.loc[:,'0.00':'10.00'].dropna(axis=1).mean(axis=0).values.flatten()"
   ]
  },
  {
   "cell_type": "code",
   "execution_count": 11,
   "metadata": {},
   "outputs": [],
   "source": [
    "# Bosung radiometer's Gaussian optical antenna characteristics. \n",
    "\n",
    "# Full width at half maximum:\n",
    "FWHM_22GHz = 6.3 ;\n",
    "FWHM_30GHz = 4.9 ;\n",
    "FWHM_51GHz = 2.5 ;\n",
    "FWHM_59GHz = 2.4 ;\n",
    "# Linear interpolation\n",
    "FWHM_22to30GHz = np.interp(radmtr_channels[0:8], np.array([22, 30])*1e9, [FWHM_22GHz, FWHM_30GHz]) ;\n",
    "FWHM_51to59GHz = np.interp(radmtr_channels[8:22], np.array([51, 59])*1e9, [FWHM_51GHz, FWHM_59GHz]) ;\n",
    "FWHM = np.append(FWHM_22to30GHz, FWHM_51to59GHz)\n",
    "\n",
    "# Antenna response\n",
    "xwidth_si = 3; # Default value in ARTS. See \"antenna_responseGaussian\".\n",
    "dx_si = 0.1; # Default values in ARTS. See \"antenna_responseGaussian\".\n",
    "Zenith_angle = np.arange(-xwidth_si, xwidth_si + dx_si, dx_si) * FWHM_22GHz / (2*(2*np.log(2))**0.5)\n",
    "anthenna_response = np.zeros((1, len(radmtr_channels), len(Zenith_angle), 1))\n",
    "for i in range(len(radmtr_channels)):\n",
    "    std_FWHM = FWHM[i]/(2*(2*np.log(2))**0.5)\n",
    "    anthenna_response[0,i,:,0] = 1/(std_FWHM*(2*np.pi)**0.5)*np.exp(-4*np.log(2)*Zenith_angle**2/(FWHM[i]**2))\n",
    "\n",
    "# Define ARTS variable \"mblock_dlos_grid\". \n",
    "mblock_dlos_grid = np.array([np.linspace(Zenith_angle[0],Zenith_angle[len(Zenith_angle)-1],20)]).T"
   ]
  },
  {
   "cell_type": "code",
   "execution_count": 12,
   "metadata": {},
   "outputs": [],
   "source": [
    "# Save antenna_response as GriddedField4 .xml file. \n",
    "antenna_response_GF4 = tp.arts.griddedfield.GriddedField4()\n",
    "antenna_response_GF4.name = 'Antenna response'\n",
    "antenna_response_GF4.data = anthenna_response\n",
    "antenna_response_GF4.grids = [['NaN'], radmtr_channels, Zenith_angle, np.array([0])]\n",
    "antenna_response_GF4.gridnames = ['Polarisation', 'Frequency', 'Zenith angle', 'Azimuth angle']\n",
    "tp.arts.xml.save(antenna_response_GF4, './antenna_response.xml')\n",
    "\n",
    "# Save mblock_dlos_grid as .xml file. \n",
    "tp.arts.xml.save(mblock_dlos_grid, './mblock_dlos_grid.xml')"
   ]
  },
  {
   "cell_type": "code",
   "execution_count": 13,
   "metadata": {},
   "outputs": [],
   "source": [
    "# Sensor LOS and geolocation \n",
    "tp.arts.xml.save(np.array([[0]]), './1D_sensor_los.xml')\n",
    "tp.arts.xml.save(np.array([[0]]), './1D_sensor_pos.xml')"
   ]
  },
  {
   "cell_type": "code",
   "execution_count": null,
   "metadata": {},
   "outputs": [],
   "source": []
  },
  {
   "cell_type": "code",
   "execution_count": null,
   "metadata": {},
   "outputs": [],
   "source": []
  },
  {
   "cell_type": "code",
   "execution_count": null,
   "metadata": {},
   "outputs": [],
   "source": []
  },
  {
   "cell_type": "code",
   "execution_count": null,
   "metadata": {},
   "outputs": [],
   "source": []
  },
  {
   "cell_type": "code",
   "execution_count": null,
   "metadata": {},
   "outputs": [],
   "source": []
  },
  {
   "cell_type": "code",
   "execution_count": 14,
   "metadata": {},
   "outputs": [],
   "source": [
    "# Read in radiosondes data. \n",
    "\n",
    "fn_radsnd = \"UPP_LV2_RS92-SGP_47258_\" + TimeOfInterest.strftime('%Y%m%d%H%M') + \".txt\"\n",
    "f_radsnd = os.path.join('Data_Radiosonde',fn_radsnd)\n",
    "df_radsnd = pd.read_csv(f_radsnd, sep=\",\")\n",
    "#print(*df_radsnd.time.values, sep='\\n') # Print all values.\n",
    "#print(df_radsnd.columns) % Data types. \n",
    "#print(df_radsnd.loc[1865:1868]) # Pressure duplicates\n",
    "\n",
    "# Solicit useful variables. \n",
    "df_radsnd_useful = df_radsnd[['HGT', 'time', 'P', 'Temp', 'RH', 'MixR', 'Lon', 'Lat', 'Alt']]\n",
    "df_radsnd_useful = df_radsnd_useful.dropna().reset_index().drop('index',axis=1)\n",
    "df_radsnd_useful.loc[1:,] = df_radsnd_useful.loc[1:,].astype(float).values \n",
    "df_radsnd_useful_size = len(df_radsnd_useful.loc[:,'P'])"
   ]
  },
  {
   "cell_type": "code",
   "execution_count": 15,
   "metadata": {},
   "outputs": [
    {
     "data": {
      "text/plain": [
       "Index(['HGT', 'time', 'P', 'Pm', 'Pc', 'Temp', 'PotTemp', 'PEPT', 'Dewp',\n",
       "       'VirT', 'RH', 'SatVapP', 'VapP', 'SpHum', 'MixR', 'Den', 'RI', 'MRI',\n",
       "       'Speed', 'Dir', 'Ecomp', 'Ncomp', 'Lon', 'Lat', 'Alt', 'MSL', 'GPSALT',\n",
       "       'GPSMSL', 'Geop', 'AscRate', 'Azimuth', 'Elev', 'Range'],\n",
       "      dtype='object')"
      ]
     },
     "execution_count": 15,
     "metadata": {},
     "output_type": "execute_result"
    }
   ],
   "source": [
    "df_radsnd.columns"
   ]
  },
  {
   "cell_type": "code",
   "execution_count": 16,
   "metadata": {},
   "outputs": [],
   "source": [
    "# Interpolate the data to fewer vertical grids. Use the nearest neighbor interpolation.\n",
    "df_radsnd_useful_interp_size = 50;\n",
    "df_radsnd_useful_interp = pd.DataFrame( \n",
    "    {'P' : \n",
    "     np.linspace(df_radsnd_useful.loc[1,'P'], df_radsnd_useful.loc[df_radsnd_useful_size-1,'P'], df_radsnd_useful_interp_size)} )\n",
    "df_radsnd_useful_interp = df_radsnd_useful_interp.reindex(df_radsnd_useful.columns, axis=1)\n",
    "\n",
    "# Interpolation\n",
    "for i in range(df_radsnd_useful_interp_size):\n",
    "    nearneigindex = (df_radsnd_useful.loc[1:,'P'] - df_radsnd_useful_interp.loc[i,'P']).astype(float).abs().idxmin()\n",
    "    df_radsnd_useful_interp.loc[i,] = df_radsnd_useful.loc[nearneigindex,].astype('float')\n",
    "\n",
    "# Unit conversions\n",
    "df_radsnd_useful_interp.loc[:,'P'] = df_radsnd_useful_interp.loc[:,'P'] * 100\n",
    "df_radsnd_useful_interp.loc[:,'Temp'] = df_radsnd_useful_interp.loc[:,'Temp'] + 273.15"
   ]
  },
  {
   "cell_type": "code",
   "execution_count": 17,
   "metadata": {},
   "outputs": [],
   "source": [
    "# Necessary variables for ARTS simulations \n",
    "radsnd_P = df_radsnd_useful_interp.loc[:,'P'].values\n",
    "radsnd_T = df_radsnd_useful_interp.loc[:,'Temp'].values\n",
    "radsnd_RH = df_radsnd_useful_interp.loc[:,'RH'].values\n",
    "radsnd_WaterVMR = tp.physics.relative_humidity2vmr(radsnd_RH * 0.01, radsnd_P, radsnd_T)\n",
    "radsnd_HGT = df_radsnd_useful_interp.loc[:,'HGT'].values"
   ]
  },
  {
   "cell_type": "code",
   "execution_count": null,
   "metadata": {},
   "outputs": [],
   "source": []
  },
  {
   "cell_type": "code",
   "execution_count": null,
   "metadata": {},
   "outputs": [],
   "source": []
  },
  {
   "cell_type": "code",
   "execution_count": null,
   "metadata": {},
   "outputs": [],
   "source": []
  },
  {
   "cell_type": "code",
   "execution_count": null,
   "metadata": {},
   "outputs": [],
   "source": []
  },
  {
   "cell_type": "code",
   "execution_count": null,
   "metadata": {},
   "outputs": [],
   "source": []
  },
  {
   "cell_type": "code",
   "execution_count": 118,
   "metadata": {},
   "outputs": [],
   "source": [
    "# Read in LDAPS data. \n",
    "\n",
    "# Pressure (pres) data\n",
    "fn_pres = \"ldps_v070_erlo_pres_BSWO_h000.\" + TimeOfInterest.strftime('%Y%m%d%H') + \".txt\"\n",
    "f_pres = os.path.join('Data_LDAPS/pres',fn_pres)\n",
    "df_pres = pd.read_csv(f_pres, skiprows=0, \n",
    "                 names=['Index', '?(GridPosition)', 'Type', 'Pressure', 'Longitude', 'Latitude', 'Value'], \n",
    "                 sep=' mb:lon=|,lat=|,val=|:', \n",
    "                 engine='python')\n",
    "pres_P = df_pres.loc[df_pres.Type=='HGT'].Pressure.values * 100\n",
    "pres_GH = df_pres.loc[df_pres.Type=='HGT'].Value.values\n",
    "pres_T = df_pres.loc[df_pres.Type=='TMP'].Value.values\n",
    "pres_RH = df_pres.loc[df_pres.Type=='RH'].Value.values\n",
    "pres_Lat = df_pres.Latitude[0]\n",
    "\n",
    "# Surface (unis) data\n",
    "fn_unis = \"ldps_v070_erlo_unis_BSWO_h000.\" + TimeOfInterest.strftime('%Y%m%d%H') + \".txt\"\n",
    "f_unis = os.path.join('Data_LDAPS/unis',fn_unis)\n",
    "df_unis = pd.read_csv(f_unis, skiprows=0, \n",
    "                 names=['Index', '?(GridPosition)', 'Type', 'Altitude', 'Longitude', 'Latitude', 'Value'], \n",
    "                 sep=':lon=|,lat=|,val=|:',\n",
    "                 engine='python')\n",
    "unis_P = df_unis.loc[df_unis.Type=='PRMSL'].Value.values # df_unis.loc[df_unis.Type=='PRES'].Value.values\n",
    "unis_T = df_unis.loc[(df_unis.Type=='TMP') & (df_unis.Altitude=='surface')].Value.values\n",
    "unis_RH = df_unis.loc[df_unis.Type=='RH'].Value.values\n",
    "unis_Alt = 0 # df_unis.loc[df_unis.Type=='DIST'].Value.values\n",
    "\n",
    "# Model (etas) data\n",
    "fn_etas = \"ldps_v070_erlo_etas_BSWO_h000.\" + TimeOfInterest.strftime('%Y%m%d%H') + \".txt\"\n",
    "f_etas = os.path.join('Data_LDAPS/etas',fn_etas)\n",
    "df_etas = pd.read_csv(f_etas, skiprows=0, \n",
    "                 names=['Index', '?(GridPosition)', 'Type', 'Altitude', 'Longitude', 'Latitude', 'Value'], \n",
    "                 sep=' m above ground:lon=|,lat=|,val=|:', \n",
    "                 engine='python')\n",
    "etas_Alt = df_etas.loc[df_etas.Type=='QCL'].Altitude.values\n",
    "etas_DEN = df_etas.loc[df_etas.Type=='DEN'].Value.values\n",
    "etas_QCL = df_etas.loc[df_etas.Type=='QCL'].Value.values\n",
    "etas_QCF = df_etas.loc[df_etas.Type=='QCF'].Value.values\n",
    "etas_RAIN = df_etas.loc[df_etas.Type=='RAIN'].Value.values\n",
    "etas_GRUPL = df_etas.loc[df_etas.Type=='GRUPL'].Value.values\n",
    "etas_EXNPR = df_etas.loc[df_etas.Type=='EXNPR'].Value.values"
   ]
  },
  {
   "cell_type": "code",
   "execution_count": 84,
   "metadata": {},
   "outputs": [],
   "source": [
    "# Prevent RH value = 0 by adding 0.01. Otherwise, retrievals produce errors. \n",
    "pres_RH[pres_RH == 0] = pres_RH[pres_RH == 0] + 0.0001"
   ]
  },
  {
   "cell_type": "code",
   "execution_count": 85,
   "metadata": {},
   "outputs": [],
   "source": [
    "# Pressure\n",
    "\n",
    "# Combine the unis and pres variables. \n",
    "LDAPS_P = np.append(unis_P, pres_P)"
   ]
  },
  {
   "cell_type": "code",
   "execution_count": 86,
   "metadata": {},
   "outputs": [],
   "source": [
    "# Altitude\n",
    "\n",
    "# Convert geopotential height to geometric height. \n",
    "# Reference (accessed 2018-07-02): \n",
    "# http://glossary.ametsoc.org/wiki/Geopotential_height\n",
    "# http://glossary.ametsoc.org/wiki/Acceleration_of_gravity \n",
    "g0 = 9.80665 # Standard gravity at sea level \n",
    "g_lat = 0.01*(980.6160*(\n",
    "    1 - 0.0026373*np.cos(np.pi/180 * 2*pres_Lat) + 0.0000059*(\n",
    "        np.cos(np.pi/180 * 2*pres_Lat)**2))) # Sea-level gravity at given latitude\n",
    "Cg = 0.01*(3.085462*(10**-4) + 2.27*(10**-7)*np.cos(np.pi/180*2*pres_Lat)) # The coefficient in the gravity equation. \n",
    "\n",
    "# Solve for geometric height, using the quadratic formula.\n",
    "a = Cg/2\n",
    "b = -g_lat\n",
    "c = g0*pres_GH\n",
    "pres_Alt = (-b - (b**2 - 4*a*c)**0.5)/(2*a)\n",
    "# Here, the geopotential height is given based on 국지예보모델, so the calculated z field may be based on a spherical coordinates system.\n",
    "# ARTS requires z field that is defined in terms of the geometrical altitude, \n",
    "# which is the distance between the ellipsoid's surface and the point along the line passing through the Earth's center and the point. \n",
    "# For now, assume that the difference between the two systems in this regard is negligible. \n",
    "\n",
    "# Combine the unis and pres variables. \n",
    "LDAPS_Z = np.append(unis_Alt, pres_Alt)"
   ]
  },
  {
   "cell_type": "code",
   "execution_count": 87,
   "metadata": {},
   "outputs": [],
   "source": [
    "# Temperature\n",
    "\n",
    "# Combine the unis and pres variables.\n",
    "LDAPS_T = np.append(unis_T, pres_T)"
   ]
  },
  {
   "cell_type": "code",
   "execution_count": 88,
   "metadata": {},
   "outputs": [],
   "source": [
    "# Water VMR\n",
    "\n",
    "# Combine the unis and pres variables.\n",
    "LDAPS_RH = np.append(unis_RH, pres_RH)\n",
    "\n",
    "# Convert RH to VMR. \n",
    "LDAPS_WaterVMR = tp.physics.relative_humidity2vmr(LDAPS_RH * 0.01, LDAPS_P, LDAPS_T)"
   ]
  },
  {
   "cell_type": "code",
   "execution_count": 123,
   "metadata": {},
   "outputs": [],
   "source": [
    "# Get rid of invalid values at the pressure levels higher than the surface pressure. \n",
    "flag_validpressurelevels = (LDAPS_P <= LDAPS_P[0])\n",
    "LDAPS_P = LDAPS_P[flag_validpressurelevels]\n",
    "LDAPS_Z = LDAPS_Z[flag_validpressurelevels]\n",
    "LDAPS_T = LDAPS_T[flag_validpressurelevels]\n",
    "LDAPS_RH = LDAPS_RH[flag_validpressurelevels]\n",
    "LDAPS_WaterVMR = LDAPS_WaterVMR[flag_validpressurelevels]"
   ]
  },
  {
   "cell_type": "code",
   "execution_count": null,
   "metadata": {},
   "outputs": [],
   "source": [
    "\n"
   ]
  },
  {
   "cell_type": "code",
   "execution_count": 122,
   "metadata": {},
   "outputs": [
    {
     "data": {
      "image/png": "[encoded data removed]",
      "text/plain": [
       "<Figure size 1440x720 with 3 Axes>"
      ]
     },
     "metadata": {
      "needs_background": "light"
     },
     "output_type": "display_data"
    }
   ],
   "source": [
    "# Hydrometeors: Particle number density for scattering\n",
    "\n",
    "# Find the corresponding atmospheric pressure for etas data from interpolation of pres+unis data. \n",
    "f = sp.interpolate.interp1d(LDAPS_P)\n",
    "\n",
    "# Assume the ice or liquid water density to be 1 kg*m^-3.\n",
    "# Assume the atmospheric density to be equal to its dry air equivalent at the given pressure and temperature. \n",
    "\n",
    "LDAPS_PND_ICE = \n",
    "LDAPS_PND_LIQ = etas_QCL\n",
    "\n",
    "etas_QCL\n",
    "etas_QCF\n",
    "etas_Alt\n",
    "\n",
    "plt.figure\n",
    "plt.subplot(1,3,1)\n",
    "# plt.plot(etas_QCL, etas_Alt, etas_QCF, etas_Alt, etas_RAIN, etas_Alt, etas_GRUPL, etas_Alt)\n",
    "plt.plot(etas_QCL, etas_Alt, etas_QCF, etas_Alt)\n",
    "plt.subplot(1,3,2)\n",
    "plt.plot(etas_DEN, etas_Alt)\n",
    "plt.subplot(1,3,3)\n",
    "plt.plot(etas_EXNPR[0:-1], etas_Alt)\n",
    "plt.gcf().set_size_inches(20,10)"
   ]
  },
  {
   "cell_type": "code",
   "execution_count": null,
   "metadata": {},
   "outputs": [],
   "source": []
  },
  {
   "cell_type": "code",
   "execution_count": null,
   "metadata": {},
   "outputs": [],
   "source": []
  },
  {
   "cell_type": "code",
   "execution_count": null,
   "metadata": {},
   "outputs": [],
   "source": []
  },
  {
   "cell_type": "code",
   "execution_count": null,
   "metadata": {},
   "outputs": [],
   "source": []
  },
  {
   "cell_type": "code",
   "execution_count": null,
   "metadata": {},
   "outputs": [],
   "source": []
  },
  {
   "cell_type": "code",
   "execution_count": 27,
   "metadata": {},
   "outputs": [
    {
     "data": {
      "image/png": "[encoded data removed]",
      "text/plain": [
       "<Figure size 1152x720 with 2 Axes>"
      ]
     },
     "metadata": {
      "needs_background": "light"
     },
     "output_type": "display_data"
    }
   ],
   "source": [
    "# Visualize the LDAPS and radiosondes data. \n",
    "plt.figure()\n",
    "\n",
    "plt.subplot(1,2,1)\n",
    "plt.plot(radsnd_T, radsnd_HGT, LDAPS_T, LDAPS_Z)\n",
    "plt.xlabel('Temperature (K)')\n",
    "plt.ylabel('Altitude (m)')\n",
    "#plt.ylabel('Pressure (Pa)')\n",
    "#plt.gca().invert_yaxis()\n",
    "plt.legend(['Radiosonde Temperature', 'LDAPS Temperature'])\n",
    "\n",
    "plt.subplot(1,2,2)\n",
    "plt.plot(radsnd_WaterVMR, radsnd_HGT, LDAPS_WaterVMR, LDAPS_Z)\n",
    "plt.xlabel('Volume mixing ratio')\n",
    "plt.ylabel('Altitude (m)')\n",
    "#plt.ylabel('Pressure (Pa)')\n",
    "#plt.gca().invert_yaxis()\n",
    "plt.legend(['Radiosonde Water VMR', 'LDAPS Water VMR'])\n",
    "\n",
    "plt.gcf().set_size_inches(16,10)\n",
    "\n",
    "# Save the figure.\n",
    "# plt.savefig('./Data_forARTS/' + TimeOfInterest.strftime('%Y%m%d_%H%M%S_') + 'T&WaterVMR' + '.png')"
   ]
  },
  {
   "cell_type": "code",
   "execution_count": null,
   "metadata": {},
   "outputs": [],
   "source": []
  },
  {
   "cell_type": "code",
   "execution_count": null,
   "metadata": {},
   "outputs": [],
   "source": []
  },
  {
   "cell_type": "code",
   "execution_count": null,
   "metadata": {},
   "outputs": [],
   "source": []
  },
  {
   "cell_type": "code",
   "execution_count": null,
   "metadata": {},
   "outputs": [],
   "source": []
  },
  {
   "cell_type": "code",
   "execution_count": null,
   "metadata": {},
   "outputs": [],
   "source": []
  },
  {
   "cell_type": "code",
   "execution_count": 28,
   "metadata": {},
   "outputs": [],
   "source": [
    "# ARTS forward model with the radiosonde data.\n",
    "# Save the radiosonde variables as the input atmopsheric profiles. \n",
    "\n",
    "# Save pressure grid as .xml files.\n",
    "tp.arts.xml.save(radsnd_P, './1D_p_grid.xml')\n",
    "\n",
    "# Save z_field as GriddedField3 xml file. \n",
    "radsnd_z_field_GF3 = tp.arts.griddedfield.GriddedField3()\n",
    "radsnd_z_field_GF3.data = np.reshape(radsnd_HGT,(len(radsnd_P),1,1))\n",
    "radsnd_z_field_GF3.grids = [radsnd_P, np.array([0]), np.array([0])]\n",
    "radsnd_z_field_GF3.gridnames = ['Pressure', 'Latitude', 'Longitude']\n",
    "tp.arts.xml.save(radsnd_z_field_GF3, './1D.z.xml')\n",
    "\n",
    "# Save t_field as GriddedField3 xml file. \n",
    "# Remove temperature values greater than 300 K, due to partition functions error in ARTS. \n",
    "# radsnd_T[radsnd_T > 300] = 300\n",
    "radsnd_t_field_GF3 = tp.arts.griddedfield.GriddedField3()\n",
    "radsnd_t_field_GF3.data = np.reshape(radsnd_T,(len(radsnd_P),1,1))\n",
    "radsnd_t_field_GF3.grids = [radsnd_P, np.array([0]), np.array([0])]\n",
    "radsnd_t_field_GF3.gridnames = ['Pressure', 'Latitude', 'Longitude']\n",
    "tp.arts.xml.save(radsnd_t_field_GF3, './1D.t.xml')\n",
    "\n",
    "# Save Water VMR as GriddedField3 xml file. \n",
    "radsnd_VMR_H2O_GF3 = tp.arts.griddedfield.GriddedField3()\n",
    "radsnd_VMR_H2O_GF3.data = np.reshape(radsnd_WaterVMR,(len(radsnd_P),1,1))\n",
    "radsnd_VMR_H2O_GF3.grids = [radsnd_P, np.array([0]), np.array([0])]\n",
    "radsnd_VMR_H2O_GF3.gridnames = ['Pressure', 'Latitude', 'Longitude']\n",
    "tp.arts.xml.save(radsnd_VMR_H2O_GF3, './1D.H2O.xml')\n",
    "\n",
    "# Run ARTS. \n",
    "tp.arts.run_arts(controlfile='./ClearSky_1D_ARTSvdev.arts');\n",
    "\n",
    "# ARTS forward model results. \n",
    "Tb_radsnd = tp.arts.xml.load(\"./ClearSky_1D_Tb.xml\")"
   ]
  },
  {
   "cell_type": "code",
   "execution_count": 67,
   "metadata": {},
   "outputs": [],
   "source": [
    "# ARTS forward model with the LDAPS data.\n",
    "# Save the LDAPS variables as the input atmopsheric profiles. \n",
    "\n",
    "# Save pressure grid as .xml files.\n",
    "tp.arts.xml.save(LDAPS_P, './1D_p_grid.xml')\n",
    "\n",
    "# Save z_field as GriddedField3 xml file. \n",
    "LDAPS_z_field_GF3 = tp.arts.griddedfield.GriddedField3()\n",
    "LDAPS_z_field_GF3.data = np.reshape(LDAPS_Z,(len(LDAPS_P),1,1))\n",
    "LDAPS_z_field_GF3.grids = [LDAPS_P, np.array([0]), np.array([0])]\n",
    "LDAPS_z_field_GF3.gridnames = ['Pressure', 'Latitude', 'Longitude']\n",
    "tp.arts.xml.save(LDAPS_z_field_GF3, './1D.z.xml')\n",
    "\n",
    "# Save t_field as GriddedField3 xml file. \n",
    "# Remove temperature values greater than 300 K, due to partition functions error in ARTS. \n",
    "# LDAPS_t[LDAPS_t > 300] = 300\n",
    "LDAPS_t_field_GF3 = tp.arts.griddedfield.GriddedField3()\n",
    "LDAPS_t_field_GF3.data = np.reshape(LDAPS_T,(len(LDAPS_P),1,1))\n",
    "LDAPS_t_field_GF3.grids = [LDAPS_P, np.array([0]), np.array([0])]\n",
    "LDAPS_t_field_GF3.gridnames = ['Pressure', 'Latitude', 'Longitude']\n",
    "tp.arts.xml.save(LDAPS_t_field_GF3, './1D.t.xml')\n",
    "\n",
    "# Save Water VMR as GriddedField3 xml file. \n",
    "LDAPS_VMR_H2O_GF3 = tp.arts.griddedfield.GriddedField3()\n",
    "LDAPS_VMR_H2O_GF3.data = np.reshape(LDAPS_WaterVMR,(len(LDAPS_P),1,1))\n",
    "LDAPS_VMR_H2O_GF3.grids = [LDAPS_P, np.array([0]), np.array([0])]\n",
    "LDAPS_VMR_H2O_GF3.gridnames = ['Pressure', 'Latitude', 'Longitude']\n",
    "tp.arts.xml.save(LDAPS_VMR_H2O_GF3, './1D.H2O.xml')\n",
    "\n",
    "# Run ARTS for clear sky. \n",
    "tp.arts.run_arts(controlfile='./ClearSky_1D_ARTSvdev.arts');\n",
    "\n",
    "# Run ARTS for cloudy sky. \n",
    "tp.arts.run_arts(controlfile='./CloudySky_DOIT_1D_ARTSvdev.arts');\n",
    "\n",
    "# ARTS forward model results. \n",
    "Tb_LDAPS = tp.arts.xml.load(\"./ClearSky_1D_Tb.xml\")\n",
    "Tb_LDAPS_DOIT = tp.arts.xml.load(\"./CloudySky_DOIT_1D_Tb.xml\")"
   ]
  },
  {
   "cell_type": "code",
   "execution_count": 68,
   "metadata": {},
   "outputs": [
    {
     "data": {
      "text/plain": [
       "array([ 82.85708194,  83.44179147,  79.66552694,  68.82850269,\n",
       "        54.10723359,  44.04373062,  36.76240816,  33.74511001,\n",
       "       126.0382286 , 144.17460632, 168.78711292, 200.23444112,\n",
       "       235.41679484, 264.69993571, 283.74622336, 291.18964589,\n",
       "       293.89781923, 295.10436413, 295.9720647 , 296.47209477,\n",
       "       296.79239404, 296.99066227])"
      ]
     },
     "execution_count": 68,
     "metadata": {},
     "output_type": "execute_result"
    }
   ],
   "source": [
    "Tb_LDAPS_DOIT"
   ]
  },
  {
   "cell_type": "code",
   "execution_count": 69,
   "metadata": {},
   "outputs": [
    {
     "data": {
      "image/png": "[encoded data removed]",
      "text/plain": [
       "<Figure size 1080x864 with 2 Axes>"
      ]
     },
     "metadata": {
      "needs_background": "light"
     },
     "output_type": "display_data"
    }
   ],
   "source": [
    "# Compare brightness temperatures between the radiometer observations, the LDAPS simulations, and the radiosonde simulations. \n",
    "plt.figure()\n",
    "\n",
    "plt.subplot(2,1,1)\n",
    "plt.plot(radmtr_channels, Tb_radmtr, 'ro', \n",
    "         radmtr_channels, Tb_radsnd, 'gd', \n",
    "         radmtr_channels, Tb_LDAPS, 'bs', \n",
    "         radmtr_channels, Tb_LDAPS_DOIT, 'ms')\n",
    "plt.title('Brightness Temperature')\n",
    "plt.xlabel('Frequency (Hz)')\n",
    "plt.ylabel('Brightness Temperature (K)')\n",
    "plt.legend(['Radiometer L1', 'Radiosonde forward model', 'LDAPS forward model', 'LDAPS forward model with DOIT for clouds'])\n",
    "\n",
    "plt.subplot(2,1,2)\n",
    "plt.plot(radmtr_channels, np.zeros(radmtr_channels.shape),'k--', \n",
    "        radmtr_channels, Tb_radsnd - Tb_radmtr, 'gd', \n",
    "        radmtr_channels, Tb_LDAPS - Tb_radmtr, 'bs', \n",
    "        radmtr_channels, Tb_LDAPS_DOIT - Tb_radmtr, 'ms')\n",
    "plt.title('Brightness temperature minus radiometer L1')\n",
    "plt.xlabel('Frequency (Hz)')\n",
    "plt.ylabel('Brightness Temperature (K)')\n",
    "plt.legend(['Zero line (radiometer L1)', 'Radiosonde FM', 'LDAPS FM', 'LDAPS FM DOIT'])\n",
    "\n",
    "plt.gcf().set_size_inches(15,12)\n",
    "\n",
    "# Save the figure.\n",
    "# plt.savefig('./Data_forARTS/' + TimeOfInterest.strftime('%Y%m%d_%H%M%S_') + 'ForwardModels_v_Observations' + '.png')"
   ]
  },
  {
   "cell_type": "code",
   "execution_count": null,
   "metadata": {},
   "outputs": [],
   "source": []
  },
  {
   "cell_type": "code",
   "execution_count": null,
   "metadata": {},
   "outputs": [],
   "source": []
  },
  {
   "cell_type": "code",
   "execution_count": null,
   "metadata": {},
   "outputs": [],
   "source": []
  },
  {
   "cell_type": "code",
   "execution_count": null,
   "metadata": {},
   "outputs": [],
   "source": []
  },
  {
   "cell_type": "code",
   "execution_count": null,
   "metadata": {},
   "outputs": [],
   "source": []
  },
  {
   "cell_type": "code",
   "execution_count": null,
   "metadata": {},
   "outputs": [],
   "source": []
  },
  {
   "cell_type": "code",
   "execution_count": null,
   "metadata": {},
   "outputs": [],
   "source": [
    "plt.close('all')"
   ]
  },
  {
   "cell_type": "code",
   "execution_count": null,
   "metadata": {},
   "outputs": [],
   "source": [
    "# Save the input, output, and comparison files in names with the corresponding time.\n",
    "\n",
    "# LDAPS inputs\n",
    "tp.arts.xml.save(LDAPS_P, './Data_forARTS/' + TimeOfInterest.strftime('%Y%m%d_%H%M%S_') + 'LDAPS' + '_p_grid.xml')\n",
    "tp.arts.xml.save(LDAPS_z_field_GF3, './Data_forARTS/' + TimeOfInterest.strftime('%Y%m%d_%H%M%S_') + 'LDAPS' + '.z.xml')\n",
    "tp.arts.xml.save(LDAPS_t_field_GF3, './Data_forARTS/' + TimeOfInterest.strftime('%Y%m%d_%H%M%S_') + 'LDAPS' + '.t.xml')\n",
    "tp.arts.xml.save(LDAPS_VMR_H2O_GF3, './Data_forARTS/' + TimeOfInterest.strftime('%Y%m%d_%H%M%S_') + 'LDAPS' + '.H2O.xml')\n",
    "\n",
    "# Radiosonde inputs\n",
    "tp.arts.xml.save(radsnd_P, './Data_forARTS/' + TimeOfInterest.strftime('%Y%m%d_%H%M%S_') + 'radsnd' + '_p_grid.xml')\n",
    "tp.arts.xml.save(radsnd_z_field_GF3, './Data_forARTS/' + TimeOfInterest.strftime('%Y%m%d_%H%M%S_') + 'radsnd' + '.z.xml')\n",
    "tp.arts.xml.save(radsnd_t_field_GF3, './Data_forARTS/' + TimeOfInterest.strftime('%Y%m%d_%H%M%S_') + 'radsnd' + '.t.xml')\n",
    "tp.arts.xml.save(radsnd_VMR_H2O_GF3, './Data_forARTS/' + TimeOfInterest.strftime('%Y%m%d_%H%M%S_') + 'radsnd' + '.H2O.xml')\n",
    "\n",
    "# Radiometer retrievals for comparisons \n",
    "tp.arts.xml.save(radmtr_retrievedAlt, './Data_forARTS/' + TimeOfInterest.strftime('%Y%m%d_%H%M%S_') + 'radmtr' + '_retrievedAlt.xml')\n",
    "tp.arts.xml.save(radmtr_retrievedT, './Data_forARTS/' + TimeOfInterest.strftime('%Y%m%d_%H%M%S_') + 'radmtr' + '_retrievedT.xml')\n",
    "tp.arts.xml.save(radmtr_retrievedRH, './Data_forARTS/' + TimeOfInterest.strftime('%Y%m%d_%H%M%S_') + 'radmtr' + '_retrievedRH.xml')\n",
    "\n",
    "# Save LDAPS and radiosonde RH variables for use in Atmlab.\n",
    "# Save LDAPS RH as GriddedField3 xml file. \n",
    "LDAPS_RH_GF3 = tp.arts.griddedfield.GriddedField3()\n",
    "LDAPS_RH_GF3.data = np.reshape(LDAPS_RH,(len(LDAPS_P),1,1))\n",
    "LDAPS_RH_GF3.grids = [LDAPS_P, np.array([0]), np.array([0])]\n",
    "LDAPS_RH_GF3.gridnames = ['Pressure', 'Latitude', 'Longitude']\n",
    "tp.arts.xml.save(LDAPS_RH_GF3, './Data_forARTS/' + TimeOfInterest.strftime('%Y%m%d_%H%M%S_') + 'LDAPS' + '_RH.xml')\n",
    "# Save radiosonde RH as GriddedField3 xml file. \n",
    "radsnd_RH_GF3 = tp.arts.griddedfield.GriddedField3()\n",
    "radsnd_RH_GF3.data = np.reshape(radsnd_RH,(len(radsnd_P),1,1))\n",
    "radsnd_RH_GF3.grids = [radsnd_P, np.array([0]), np.array([0])]\n",
    "radsnd_RH_GF3.gridnames = ['Pressure', 'Latitude', 'Longitude']\n",
    "tp.arts.xml.save(radsnd_RH_GF3, './Data_forARTS/' + TimeOfInterest.strftime('%Y%m%d_%H%M%S_') + 'radsnd' + '_RH.xml')"
   ]
  },
  {
   "cell_type": "code",
   "execution_count": null,
   "metadata": {},
   "outputs": [],
   "source": [
    "# Brightness temperatures: radiometer observations, LDAPS and radiosonde simulations\n",
    "tp.arts.xml.save(Tb_radmtr, './Data_forARTS/' + TimeOfInterest.strftime('%Y%m%d_%H%M%S_') + 'radmtr' + '_Tb.xml')\n",
    "tp.arts.xml.save(Tb_LDAPS, './Data_forARTS/' + TimeOfInterest.strftime('%Y%m%d_%H%M%S_') + 'LDAPS' + '_Tb.xml')\n",
    "tp.arts.xml.save(Tb_radsnd, './Data_forARTS/' + TimeOfInterest.strftime('%Y%m%d_%H%M%S_') + 'radsnd' + '_Tb.xml')"
   ]
  },
  {
   "cell_type": "code",
   "execution_count": null,
   "metadata": {},
   "outputs": [],
   "source": []
  },
  {
   "cell_type": "code",
   "execution_count": null,
   "metadata": {},
   "outputs": [],
   "source": []
  },
  {
   "cell_type": "code",
   "execution_count": null,
   "metadata": {},
   "outputs": [],
   "source": []
  },
  {
   "cell_type": "code",
   "execution_count": null,
   "metadata": {},
   "outputs": [],
   "source": []
  },
  {
   "cell_type": "code",
   "execution_count": null,
   "metadata": {},
   "outputs": [],
   "source": []
  },
  {
   "cell_type": "code",
   "execution_count": null,
   "metadata": {},
   "outputs": [],
   "source": [
    "# Extend the LDAPS data in the upper layers to match the maximum altitude of the radiosonde data. \n",
    "\n",
    "if radsnd_HGT[-1] > LDAPS_Z[-1]:\n",
    "    Z_extadd = np.linspace(LDAPS_Z[-1], radsnd_HGT[-1], 5)\n",
    "    f = sp.interpolate.interp1d(np.array([LDAPS_Z[-1], radsnd_HGT[-1]]), np.array([LDAPS_P[-1], radsnd_P[-1]]))\n",
    "    P_extadd = f(Z_extadd) \n",
    "    f = sp.interpolate.interp1d(np.array([LDAPS_Z[-1], radsnd_HGT[-1]]), np.array([LDAPS_T[-1], radsnd_T[-1]]))\n",
    "    T_extadd = f(Z_extadd)\n",
    "    f = sp.interpolate.interp1d(np.array([LDAPS_Z[-1], radsnd_HGT[-1]]), np.array([LDAPS_WaterVMR[-1], radsnd_WaterVMR[-1]]))\n",
    "    WaterVMR_extadd = f(Z_extadd) \n",
    "    RH_extadd = tp.physics.vmr2relative_humidity(WaterVMR_extadd, P_extadd, T_extadd) * 100\n",
    "\n",
    "    LDAPS_Z_ext = np.append(LDAPS_Z, Z_extadd[1:])\n",
    "    LDAPS_P_ext = np.append(LDAPS_P, P_extadd[1:])\n",
    "    LDAPS_T_ext = np.append(LDAPS_T, T_extadd[1:])\n",
    "    LDAPS_RH_ext = np.append(LDAPS_RH, RH_extadd[1:])\n",
    "    LDAPS_WaterVMR_ext = np.append(LDAPS_WaterVMR, WaterVMR_extadd[1:])"
   ]
  },
  {
   "cell_type": "code",
   "execution_count": null,
   "metadata": {},
   "outputs": [],
   "source": [
    "# Visualize the LDAPS extended and radiosondes data. \n",
    "if radsnd_HGT[-1] > LDAPS_Z[-1]:\n",
    "    plt.figure()\n",
    "\n",
    "    plt.subplot(1,2,1)\n",
    "    plt.plot(radsnd_T, radsnd_HGT, LDAPS_T_ext, LDAPS_Z_ext)\n",
    "    plt.xlabel('Temperature (K)')\n",
    "    plt.ylabel('Altitude (m)')\n",
    "    #plt.ylabel('Pressure (Pa)')\n",
    "    #plt.gca().invert_yaxis()\n",
    "    plt.legend(['Radiosonde Temperature', 'LDAPS + extension Temperature'])\n",
    "\n",
    "    plt.subplot(1,2,2)\n",
    "    plt.plot(radsnd_WaterVMR, radsnd_HGT, LDAPS_WaterVMR_ext, LDAPS_Z_ext)\n",
    "    plt.xlabel('Volume mixing ratio')\n",
    "    plt.ylabel('Altitude (m)')\n",
    "    #plt.ylabel('Pressure (Pa)')\n",
    "    #plt.gca().invert_yaxis()\n",
    "    plt.legend(['Radiosonde Water VMR', 'LDAPS + extension Water VMR'])\n",
    "\n",
    "    plt.gcf().set_size_inches(16,10)\n",
    "    \n",
    "    # Save the figure.\n",
    "    # plt.savefig('./Data_forARTS/' + TimeOfInterest.strftime('%Y%m%d_%H%M%S_') + 'T&WaterVMR_LDAPSextended' + '.png')"
   ]
  },
  {
   "cell_type": "code",
   "execution_count": null,
   "metadata": {},
   "outputs": [],
   "source": [
    "# ARTS forward model with the LDAPS extended data.\n",
    "# Save the LDAPS extended variables as the input atmopsheric profiles. \n",
    "\n",
    "if radsnd_HGT[-1] > LDAPS_Z[-1]:\n",
    "    # Save pressure grid as .xml files.\n",
    "    tp.arts.xml.save(LDAPS_P_ext, './1D_p_grid.xml')\n",
    "\n",
    "    # Save z_field as GriddedField3 xml file. \n",
    "    LDAPS_z_field_GF3 = tp.arts.griddedfield.GriddedField3()\n",
    "    LDAPS_z_field_GF3.data = np.reshape(LDAPS_Z_ext,(len(LDAPS_P_ext),1,1))\n",
    "    LDAPS_z_field_GF3.grids = [LDAPS_P_ext, np.array([0]), np.array([0])]\n",
    "    LDAPS_z_field_GF3.gridnames = ['Pressure', 'Latitude', 'Longitude']\n",
    "    tp.arts.xml.save(LDAPS_z_field_GF3, './1D.z.xml')\n",
    "\n",
    "    # Save t_field as GriddedField3 xml file. \n",
    "    # Remove temperature values greater than 300 K, due to partition functions error in ARTS. \n",
    "    # LDAPS_t[LDAPS_t > 300] = 300\n",
    "    LDAPS_t_field_GF3 = tp.arts.griddedfield.GriddedField3()\n",
    "    LDAPS_t_field_GF3.data = np.reshape(LDAPS_T_ext,(len(LDAPS_P_ext),1,1))\n",
    "    LDAPS_t_field_GF3.grids = [LDAPS_P_ext, np.array([0]), np.array([0])]\n",
    "    LDAPS_t_field_GF3.gridnames = ['Pressure', 'Latitude', 'Longitude']\n",
    "    tp.arts.xml.save(LDAPS_t_field_GF3, './1D.t.xml')\n",
    "\n",
    "    # Save Water VMR as GriddedField3 xml file. \n",
    "    LDAPS_VMR_H2O_GF3 = tp.arts.griddedfield.GriddedField3()\n",
    "    LDAPS_VMR_H2O_GF3.data = np.reshape(LDAPS_WaterVMR_ext,(len(LDAPS_P_ext),1,1))\n",
    "    LDAPS_VMR_H2O_GF3.grids = [LDAPS_P_ext, np.array([0]), np.array([0])]\n",
    "    LDAPS_VMR_H2O_GF3.gridnames = ['Pressure', 'Latitude', 'Longitude']\n",
    "    tp.arts.xml.save(LDAPS_VMR_H2O_GF3, './1D.H2O.xml')\n",
    "\n",
    "    # Run ARTS. \n",
    "    tp.arts.run_arts(controlfile='./ClearSky_1D_ARTSvdev.arts');\n",
    "\n",
    "    # ARTS forward model results. \n",
    "    Tb_LDAPS_ext = tp.arts.xml.load(\"./ClearSky_1D_Tb.xml\")"
   ]
  },
  {
   "cell_type": "code",
   "execution_count": null,
   "metadata": {},
   "outputs": [],
   "source": [
    "# Compare brightness temperatures between the radiometer observations, the LDAPS simulations, and the radiosonde simulations. \n",
    "if radsnd_HGT[-1] > LDAPS_Z[-1]:\n",
    "    plt.figure()\n",
    "\n",
    "    plt.subplot(2,1,1)\n",
    "    plt.plot(radmtr_channels, Tb_radmtr, 'ro', \n",
    "             radmtr_channels, Tb_LDAPS_ext, 'g^', \n",
    "             radmtr_channels, Tb_radsnd, 'bs')\n",
    "    plt.xlabel('Frequency (Hz)')\n",
    "    plt.ylabel('Brightness Temperature (K)')\n",
    "    plt.legend(['Radiometer observations', 'LDAPS + extension simulations', 'Radiosonde simulations'])\n",
    "\n",
    "    plt.subplot(2,1,2)\n",
    "    plt.plot(radmtr_channels, np.zeros(radmtr_channels.shape),'k--', \n",
    "            radmtr_channels, Tb_LDAPS_ext - Tb_radmtr, 'gd', \n",
    "            radmtr_channels, Tb_radsnd - Tb_radmtr, 'bd')\n",
    "    plt.xlabel('Frequency (Hz)')\n",
    "    plt.ylabel('Brightness Temperature (K)')\n",
    "    plt.legend(['Zero line', 'LDAPS + extension simulations minus radiometer observations', 'Radiosonde simulations minus radiometer observations'])\n",
    "\n",
    "    plt.gcf().set_size_inches(15,12)\n",
    "\n",
    "    # Save the figure.\n",
    "    # plt.savefig('./Data_forARTS/' + TimeOfInterest.strftime('%Y%m%d_%H%M%S_') + 'ForwardModels_v_Observations_LDAPSextended' + '.png')"
   ]
  },
  {
   "cell_type": "code",
   "execution_count": null,
   "metadata": {},
   "outputs": [],
   "source": []
  },
  {
   "cell_type": "code",
   "execution_count": null,
   "metadata": {},
   "outputs": [],
   "source": []
  },
  {
   "cell_type": "code",
   "execution_count": null,
   "metadata": {},
   "outputs": [],
   "source": []
  },
  {
   "cell_type": "code",
   "execution_count": null,
   "metadata": {},
   "outputs": [],
   "source": []
  },
  {
   "cell_type": "code",
   "execution_count": null,
   "metadata": {},
   "outputs": [],
   "source": []
  },
  {
   "cell_type": "code",
   "execution_count": null,
   "metadata": {},
   "outputs": [],
   "source": [
    "# ARTS forward model and retrieval with OEM in development version: \n",
    "\n",
    "# Save the radiosonde variables as the input atmopsheric profiles. \n",
    "#\n",
    "# Save pressure grid as .xml files.\n",
    "tp.arts.xml.save(radsnd_P, './1D_p_grid.xml')\n",
    "#\n",
    "# Save z_field as GriddedField3 xml file. \n",
    "radsnd_z_field_GF3 = tp.arts.griddedfield.GriddedField3()\n",
    "radsnd_z_field_GF3.data = np.reshape(radsnd_HGT,(len(radsnd_P),1,1))\n",
    "radsnd_z_field_GF3.grids = [radsnd_P, np.array([0]), np.array([0])]\n",
    "radsnd_z_field_GF3.gridnames = ['Pressure', 'Latitude', 'Longitude']\n",
    "tp.arts.xml.save(radsnd_z_field_GF3, './1D.z.xml')\n",
    "#\n",
    "# Save t_field as GriddedField3 xml file. \n",
    "# Remove temperature values greater than 300 K, due to partition functions error in ARTS. \n",
    "# radsnd_T[radsnd_T > 300] = 300\n",
    "radsnd_t_field_GF3 = tp.arts.griddedfield.GriddedField3()\n",
    "radsnd_t_field_GF3.data = np.reshape(radsnd_T,(len(radsnd_P),1,1))\n",
    "radsnd_t_field_GF3.grids = [radsnd_P, np.array([0]), np.array([0])]\n",
    "radsnd_t_field_GF3.gridnames = ['Pressure', 'Latitude', 'Longitude']\n",
    "tp.arts.xml.save(radsnd_t_field_GF3, './1D.t.xml')\n",
    "#\n",
    "# Save Water VMR as GriddedField3 xml file. \n",
    "radsnd_VMR_H2O_GF3 = tp.arts.griddedfield.GriddedField3()\n",
    "radsnd_VMR_H2O_GF3.data = np.reshape(radsnd_WaterVMR,(len(radsnd_P),1,1))\n",
    "radsnd_VMR_H2O_GF3.grids = [radsnd_P, np.array([0]), np.array([0])]\n",
    "radsnd_VMR_H2O_GF3.gridnames = ['Pressure', 'Latitude', 'Longitude']\n",
    "tp.arts.xml.save(radsnd_VMR_H2O_GF3, './1D.H2O.xml')\n",
    "#\n",
    "# Save radiometer L1 brightness temperatures. \n",
    "tp.arts.xml.save(Tb_radmtr, './Tb_radmtrL1.xml')\n",
    "#\n",
    "# Save a priori covariance matrices (SX) for the retrieval quanitities (temperature and water VMR).\n",
    "CovMat_radsnd_WaterVMR = af.covmat1d_from_cfun( radsnd_P, np.array([ radsnd_P, 0.5 * radsnd_WaterVMR ]).T, 'lin', 0.5, 0, np.log10 );\n",
    "CovMat_radsnd_T = af.covmat1d_from_cfun( radsnd_P, 4, 'lin', 0.5, 0, np.log10 );\n",
    "tp.arts.xml.save(CovMat_radsnd_T, './SX_T.xml')\n",
    "tp.arts.xml.save(CovMat_radsnd_WaterVMR, './SX_WaterVMR.xml')\n",
    "\n",
    "# Run ARTS. \n",
    "tp.arts.run_arts(controlfile='./ClearSky_1D_OEM_ARTSvdev.arts')\n",
    "\n",
    "# ARTS forward model results. \n",
    "Tb_radsnd = tp.arts.xml.load(\"./ClearSky_1D_OEM_Tb.xml\")"
   ]
  },
  {
   "cell_type": "code",
   "execution_count": null,
   "metadata": {},
   "outputs": [],
   "source": [
    "# Compare brightness temperatures from the simulation with the observations. \n",
    "plt.figure()\n",
    "\n",
    "plt.subplot(2,1,1)\n",
    "plt.plot(radmtr_channels, Tb_radmtr, 'ro', radmtr_channels, Tb_radsnd, 'bs')\n",
    "plt.xlabel('Frequency (Hz)')\n",
    "plt.ylabel('Brightness Temperature (K)')\n",
    "plt.legend(['Radiometer L1', 'Radiosonde FM'])\n",
    "\n",
    "plt.subplot(2,1,2)\n",
    "plt.plot(radmtr_channels, np.zeros(radmtr_channels.shape),'k--',\n",
    "         radmtr_channels, Tb_radsnd - Tb_radmtr, 'gd')\n",
    "plt.xlabel('Frequency (Hz)')\n",
    "plt.ylabel('Brightness Temperature (K)')\n",
    "plt.legend(['Zero line','Radiosonde FM minus Radiometer L1'])\n",
    "\n",
    "plt.gcf().set_size_inches(15,10)"
   ]
  },
  {
   "cell_type": "code",
   "execution_count": null,
   "metadata": {},
   "outputs": [],
   "source": [
    "# Retrieval results\n",
    "Retrieval = tp.arts.xml.load(\"./ClearSky_1D_OEM_retrieval_results.xml\")\n",
    "# Pressure grid for retrieval\n",
    "p_ret_grid = tp.arts.xml.load('./ClearSky_1D_OEM_retrieval_p_grid.xml')\n",
    "nRet = p_ret_grid.shape[0]\n",
    "# Convert the retrieval pressure grid to altitude grid. \n",
    "f = sp.interpolate.interp1d(radsnd_P, radsnd_HGT)\n",
    "z_ret_grid = f(p_ret_grid)"
   ]
  },
  {
   "cell_type": "code",
   "execution_count": null,
   "metadata": {},
   "outputs": [],
   "source": [
    "# Plotting the retrieval results \n",
    "plt.figure()\n",
    "\n",
    "plt.subplot(1,2,1)\n",
    "plt.plot(Retrieval[0:nRet], z_ret_grid, 'ro', radsnd_T, radsnd_HGT, 'bs')\n",
    "plt.xlabel('Temperature (K)')\n",
    "plt.ylabel('Altitude (m)')\n",
    "# plt.ylabel('Pressure (Pa)')\n",
    "# plt.gca().invert_yaxis()\n",
    "plt.legend(['OEM Retrieval', 'Korean LDAPS'])\n",
    "\n",
    "plt.subplot(1,2,2)\n",
    "plt.plot(Retrieval[nRet:], z_ret_grid, 'ro', radsnd_WaterVMR, radsnd_HGT, 'bs')\n",
    "plt.xlabel('Volume mixing ratio')\n",
    "plt.ylabel('Altitude (m)')\n",
    "# plt.ylabel('Pressure (Pa)')\n",
    "# plt.gca().invert_yaxis()\n",
    "plt.legend(['OEM Retrieval', 'Korean LDAPS'])\n",
    "# plt.gcf().set_size_inches(5,10)\n",
    "\n",
    "plt.tight_layout()\n",
    "plt.gcf().set_size_inches(15,15)"
   ]
  },
  {
   "cell_type": "code",
   "execution_count": null,
   "metadata": {},
   "outputs": [],
   "source": []
  },
  {
   "cell_type": "code",
   "execution_count": null,
   "metadata": {},
   "outputs": [],
   "source": []
  },
  {
   "cell_type": "code",
   "execution_count": null,
   "metadata": {},
   "outputs": [],
   "source": []
  },
  {
   "cell_type": "code",
   "execution_count": null,
   "metadata": {},
   "outputs": [],
   "source": []
  },
  {
   "cell_type": "code",
   "execution_count": null,
   "metadata": {},
   "outputs": [],
   "source": []
  },
  {
   "cell_type": "code",
   "execution_count": null,
   "metadata": {},
   "outputs": [],
   "source": []
  },
  {
   "cell_type": "code",
   "execution_count": null,
   "metadata": {},
   "outputs": [],
   "source": []
  },
  {
   "cell_type": "code",
   "execution_count": null,
   "metadata": {},
   "outputs": [],
   "source": []
  },
  {
   "cell_type": "code",
   "execution_count": null,
   "metadata": {},
   "outputs": [],
   "source": []
  },
  {
   "cell_type": "code",
   "execution_count": null,
   "metadata": {},
   "outputs": [],
   "source": []
  },
  {
   "cell_type": "code",
   "execution_count": null,
   "metadata": {},
   "outputs": [],
   "source": []
  },
  {
   "cell_type": "code",
   "execution_count": null,
   "metadata": {},
   "outputs": [],
   "source": []
  },
  {
   "cell_type": "code",
   "execution_count": null,
   "metadata": {},
   "outputs": [],
   "source": []
  }
 ],
 "metadata": {
  "kernelspec": {
   "display_name": "Python 3",
   "language": "python",
   "name": "python3"
  },
  "language_info": {
   "codemirror_mode": {
    "name": "ipython",
    "version": 3
   },
   "file_extension": ".py",
   "mimetype": "text/x-python",
   "name": "python",
   "nbconvert_exporter": "python",
   "pygments_lexer": "ipython3",
   "version": "3.6.6"
  }
 },
 "nbformat": 4,
 "nbformat_minor": 2
}
