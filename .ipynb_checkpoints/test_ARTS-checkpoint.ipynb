{
 "cells": [
  {
   "cell_type": "code",
   "execution_count": 332,
   "metadata": {},
   "outputs": [],
   "source": [
    "import math\n",
    "import numpy as np\n",
    "from scipy import io as sio\n",
    "import matplotlib as mpl\n",
    "import os"
   ]
  },
  {
   "cell_type": "code",
   "execution_count": 333,
   "metadata": {},
   "outputs": [],
   "source": [
    "import typhon as tp"
   ]
  },
  {
   "cell_type": "code",
   "execution_count": 341,
   "metadata": {},
   "outputs": [],
   "source": [
    "# Load surface and atmosphere datasets from netCDF input files. \n",
    "surface_dataset = sio.netcdf.netcdf_file('../l015v070erlounish000.2017093000.rec.nc',mmap=False)\n",
    "atmosphere_dataset = sio.netcdf.netcdf_file('../l015v070erlopresh000.2017093000.rec.nc',mmap=False)"
   ]
  },
  {
   "cell_type": "code",
   "execution_count": 334,
   "metadata": {},
   "outputs": [
    {
     "data": {
      "text/plain": [
       "array([5334.194   ,   34.511312,  127.224312])"
      ]
     },
     "execution_count": 334,
     "metadata": {},
     "output_type": "execute_result"
    }
   ],
   "source": [
    "# Load sensor viewing angles and position. \n",
    "sensor_los = tp.arts.xml.load(\"./test_ClearSky/test_sensor_los.xml\")\n",
    "sensor_pos = tp.arts.xml.load(\"./test_ClearSky/test_sensor_pos.xml\")\n",
    "sensor_pos[0]"
   ]
  },
  {
   "cell_type": "code",
   "execution_count": 335,
   "metadata": {},
   "outputs": [],
   "source": [
    "# Find the geolocation of the pixel that is closest to the geolocation of the sensor's line-of-sight (LOS). "
   ]
  },
  {
   "cell_type": "code",
   "execution_count": 336,
   "metadata": {},
   "outputs": [
    {
     "data": {
      "text/plain": [
       "6356752.314245179"
      ]
     },
     "execution_count": 336,
     "metadata": {},
     "output_type": "execute_result"
    }
   ],
   "source": [
    "# Assume WGS 1984.\n",
    "R_eq = 6378137 # Earth's equatorial radius, in meters\n",
    "iFlttn = 298.257223563 # Inverse flattening\n",
    "R_polar = R_eq * (1-1/iFlttn) # Earth's polar radius\n",
    "R_polar"
   ]
  },
  {
   "cell_type": "code",
   "execution_count": 337,
   "metadata": {},
   "outputs": [
    {
     "data": {
      "text/plain": [
       "array([-3182012.3296025 ,  4188454.76413651,  3604560.57400677])"
      ]
     },
     "execution_count": 337,
     "metadata": {},
     "output_type": "execute_result"
    }
   ],
   "source": [
    "# Convert the sensor's position from polar to Cartesian coordinates.\n",
    "sensor_pos_alt = sensor_pos[0][0]\n",
    "sensor_pos_lat = sensor_pos[0][1]\n",
    "sensor_pos_lon = sensor_pos[0][2]\n",
    "sensor_pos_cart = np.array([ (R_eq+sensor_pos_alt) * np.cos(sensor_pos_lat * np.pi/180) * np.cos(sensor_pos_lon * np.pi/180), \n",
    "    (R_eq+sensor_pos_alt) * np.cos(sensor_pos_lat * np.pi/180) * np.sin(sensor_pos_lon * np.pi/180), \n",
    "    (R_polar+sensor_pos_alt) * np.sin(sensor_pos_lat * np.pi/180) ]) # Cartesian coordinates of the sensor's position\n",
    "sensor_pos_cart"
   ]
  },
  {
   "cell_type": "code",
   "execution_count": 338,
   "metadata": {},
   "outputs": [],
   "source": [
    "# Find the local reference vectors for the sensor's zenith and azimuth. \n",
    "sensor_los_localZ = -np.array([sensor_pos_cart[0]/((R_eq+sensor_pos_alt)**2), \n",
    "                               sensor_pos_cart[1]/((R_eq+sensor_pos_alt)**2), \n",
    "                               sensor_pos_cart[2]/((R_polar+sensor_pos_alt)**2)])\n",
    "sensor_pos2NorthPole = np.array([0, 0, R_polar]) - sensor_pos_cart\n",
    "sensor_pos2North = sensor_pos2NorthPole - ((np.dot(sensor_pos2NorthPole,sensor_los_localZ) / np.dot(sensor_los_localZ,sensor_los_localZ)) * sensor_los_localZ)\n",
    "sensor_los_localX = sensor_pos2North\n",
    "sensor_los_localY = np.cross(sensor_los_localZ,sensor_los_localX)\n",
    "\n",
    "# Normalize the local axes for sensor_los.\n",
    "sensor_los_localZ = sensor_los_localZ / np.linalg.norm(sensor_los_localZ)\n",
    "sensor_los_localY = sensor_los_localY / np.linalg.norm(sensor_los_localY)\n",
    "sensor_los_localX = sensor_los_localX / np.linalg.norm(sensor_los_localX)"
   ]
  },
  {
   "cell_type": "code",
   "execution_count": 339,
   "metadata": {},
   "outputs": [
    {
     "data": {
      "text/plain": [
       "array([ 0.36770831, -0.74173009, -0.56091628])"
      ]
     },
     "execution_count": 339,
     "metadata": {},
     "output_type": "execute_result"
    }
   ],
   "source": [
    "# Calculate the sensor's LOS vector in reference to the Earth.\n",
    "sensor_los_theta = (sensor_los[0][0] - 90) * np.pi/180\n",
    "sensor_los_phi = (sensor_los[0][1]) * np.pi/180\n",
    "sensor_los_vec = np.array([np.cos(sensor_los_theta) * np.cos(sensor_los_phi), \n",
    "                                np.cos(sensor_los_theta) * np.sin(sensor_los_phi), \n",
    "                                np.sin(sensor_los_theta) ])\n",
    "sensor_los_vec_global = (sensor_los_vec[0]*sensor_los_localX + sensor_los_vec[1]*sensor_los_localY + sensor_los_vec[2]*sensor_los_localZ)\n",
    "sensor_los_vec_global"
   ]
  },
  {
   "cell_type": "code",
   "execution_count": 340,
   "metadata": {},
   "outputs": [
    {
     "data": {
      "text/plain": [
       "array([-3180026.60321795,  4184449.21682478,  3601531.47121292])"
      ]
     },
     "execution_count": 340,
     "metadata": {},
     "output_type": "execute_result"
    }
   ],
   "source": [
    "# Calculate the intersection between the Earth's ellipsoid and the sensor's LOS. \n",
    "a = (R_polar**2) * (sensor_los_vec_global[0]**2 + sensor_los_vec_global[1]**2) + (R_eq**2) * (sensor_los_vec_global[2]**2)\n",
    "b = 2 * ((R_polar**2) * (sensor_los_vec_global[0]*sensor_pos_cart[0] + sensor_los_vec_global[1]*sensor_pos_cart[1]) + (R_eq**2) * sensor_los_vec_global[2]*sensor_pos_cart[2])\n",
    "c = (R_polar**2) * (sensor_pos_cart[0]**2 + sensor_pos_cart[1]**2) + (R_eq**2) * (sensor_pos_cart[2]**2) - (R_polar**2)*(R_eq**2)\n",
    "t = np.array([(-b + (b**2 - 4*a*c)**0.5)/(2*a), (-b - (b**2 - 4*a*c)**0.5)/(2*a)])\n",
    "\n",
    "sensor_los_gpos_cand = sensor_pos_cart + np.matrix(t).T*np.matrix(sensor_los_vec_global)\n",
    "sensor_los_gpos_cand_dist = np.linalg.norm(sensor_pos_cart - sensor_los_gpos_cand,axis=1)\n",
    "sensor_los_gpos_cand_dist_which = sensor_los_gpos_cand_dist < np.mean(sensor_los_gpos_cand_dist)\n",
    "sensor_los_gpos = sensor_los_gpos_cand[sensor_los_gpos_cand_dist_which,:]\n",
    "sensor_los_gpos = np.array(sensor_los_gpos)[0]\n",
    "sensor_los_gpos"
   ]
  },
  {
   "cell_type": "code",
   "execution_count": 342,
   "metadata": {},
   "outputs": [],
   "source": [
    "# Extract variables for latitude and longitude. \n",
    "surface_lat = surface_dataset.variables['lat'][:]\n",
    "surface_lon = surface_dataset.variables['lon'][:]\n",
    "\n",
    "# Variables sizes\n",
    "surface_lat_size = len(surface_lat)\n",
    "surface_lon_size = len(surface_lon)"
   ]
  },
  {
   "cell_type": "code",
   "execution_count": 343,
   "metadata": {},
   "outputs": [],
   "source": [
    "# Calculate the Cartesian coordinates of the surface pixels. \n",
    "surface_lat_ext = np.array(np.tile(np.matrix(surface_lat).T,(1,surface_lon_size)))\n",
    "surface_lon_ext = np.array(np.tile(np.matrix(surface_lon),(surface_lat_size,1)))\n",
    "\n",
    "surface_pixel_cart = np.array([R_eq*np.cos(surface_lat_ext*np.pi/180)*np.cos(surface_lon_ext*np.pi/180),\n",
    "                               R_eq*np.cos(surface_lat_ext*np.pi/180)*np.sin(surface_lon_ext*np.pi/180),\n",
    "                               R_polar*np.sin(surface_lat_ext*np.pi/180)])"
   ]
  },
  {
   "cell_type": "code",
   "execution_count": 344,
   "metadata": {},
   "outputs": [
    {
     "data": {
      "text/plain": [
       "(153, 128)"
      ]
     },
     "execution_count": 344,
     "metadata": {},
     "output_type": "execute_result"
    }
   ],
   "source": [
    "# Find the indices of the pixel closest to the sensor_los ground location. \n",
    "surface_pixel_cart_diff = surface_pixel_cart - np.expand_dims((np.expand_dims(sensor_los_gpos,axis=1)),axis=1)\n",
    "surface_pixel_cart_dist = np.zeros((surface_lat_size,surface_lon_size))\n",
    "\n",
    "for i in range(surface_lat_size):\n",
    "    for j in range(surface_lon_size):\n",
    "        surface_pixel_cart_dist[i,j] = np.linalg.norm(surface_pixel_cart_diff[:,i,j])\n",
    "\n",
    "sensor_los_indices = np.unravel_index(np.argmin(surface_pixel_cart_dist),(surface_lat_size,surface_lon_size))\n",
    "sensor_los_indices"
   ]
  },
  {
   "cell_type": "code",
   "execution_count": 354,
   "metadata": {},
   "outputs": [
    {
     "data": {
      "text/plain": [
       "array([[[102167.14 , 102167.21 , 102167.04 , ..., 102209.76 ,\n",
       "         102210.61 , 102211.36 ],\n",
       "        [102166.71 , 102166.58 , 102166.27 , ..., 102210.34 ,\n",
       "         102211.07 , 102211.88 ],\n",
       "        [102166.04 , 102165.555, 102165.02 , ..., 102210.95 ,\n",
       "         102211.53 , 102212.375],\n",
       "        ...,\n",
       "        [102318.31 , 102319.516, 102320.22 , ..., 102166.68 ,\n",
       "         101757.055, 101319.   ],\n",
       "        [102318.04 , 102319.07 , 102319.914, ..., 102243.086,\n",
       "         101732.29 , 101085.77 ],\n",
       "        [102317.83 , 102318.625, 102319.43 , ..., 101979.07 ,\n",
       "         101375.72 , 100647.195]]], dtype=float32)"
      ]
     },
     "execution_count": 354,
     "metadata": {},
     "output_type": "execute_result"
    }
   ],
   "source": [
    "# Find the surface pressure value at the geolocation of the sensor's LOS. \n",
    "surface_pressure = surface_dataset.variables['sp'][:]\n",
    "surface_pressure_select = surface_pressure[0,sensor_los_indices[0],sensor_los_indices[1]]\n",
    "surface_pressure"
   ]
  },
  {
   "cell_type": "code",
   "execution_count": 363,
   "metadata": {},
   "outputs": [],
   "source": [
    "# Load variables from the atmospheric dataset.\n",
    "pressure = atmosphere_dataset.variables['lev'][:]\n",
    "temperature = atmosphere_dataset.variables['t'][:]  \n",
    "geopotentialHeight = atmosphere_dataset.variables['gh'][:]  \n",
    "RHwrtWater = atmosphere_dataset.variables['r'][:]  \n",
    "RHwrtIce = atmosphere_dataset.variables['param194.1.0'][:]  "
   ]
  },
  {
   "cell_type": "code",
   "execution_count": 365,
   "metadata": {},
   "outputs": [
    {
     "name": "stderr",
     "output_type": "stream",
     "text": [
      "/home/user/anaconda3/lib/python3.6/site-packages/typhon/arts/utils.py:32: FutureWarning: Conversion of the second argument of issubdtype from `complex` to `np.complexfloating` is deprecated. In future, it will be treated as `np.complex128 == np.dtype(complex).type`.\n",
      "  if np.issubdtype(var.dtype, np.complex):\n",
      "/home/user/anaconda3/lib/python3.6/site-packages/typhon/arts/xml/write.py:185: FutureWarning: Conversion of the second argument of issubdtype from `complex` to `np.complexfloating` is deprecated. In future, it will be treated as `np.complex128 == np.dtype(complex).type`.\n",
      "  if np.issubdtype(var.dtype, np.complex):\n",
      "/home/user/anaconda3/lib/python3.6/site-packages/typhon/arts/xml/write.py:197: FutureWarning: Conversion of the second argument of issubdtype from `complex` to `np.complexfloating` is deprecated. In future, it will be treated as `np.complex128 == np.dtype(complex).type`.\n",
      "  if np.issubdtype(var.dtype, np.complex):\n"
     ]
    }
   ],
   "source": [
    "# Save variablse as ARTS xml files.\n",
    "tp.arts.xml.save(pressure, './test_ClearSky/test_p_grid.xml')\n"
   ]
  },
  {
   "cell_type": "code",
   "execution_count": null,
   "metadata": {},
   "outputs": [],
   "source": []
  }
 ],
 "metadata": {
  "kernelspec": {
   "display_name": "Python 3",
   "language": "python",
   "name": "python3"
  },
  "language_info": {
   "codemirror_mode": {
    "name": "ipython",
    "version": 3
   },
   "file_extension": ".py",
   "mimetype": "text/x-python",
   "name": "python",
   "nbconvert_exporter": "python",
   "pygments_lexer": "ipython3",
   "version": "3.6.5"
  }
 },
 "nbformat": 4,
 "nbformat_minor": 2
}
