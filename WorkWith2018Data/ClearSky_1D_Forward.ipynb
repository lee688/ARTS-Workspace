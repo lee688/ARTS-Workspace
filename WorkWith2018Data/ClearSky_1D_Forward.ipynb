{
 "cells": [
  {
   "cell_type": "code",
   "execution_count": 61,
   "metadata": {},
   "outputs": [],
   "source": [
    "import os, re, sys, glob\n",
    "import pandas as pd\n",
    "import numpy as np\n",
    "from scipy import io as sio\n",
    "from matplotlib import pyplot as plt\n",
    "import inspect"
   ]
  },
  {
   "cell_type": "code",
   "execution_count": 62,
   "metadata": {},
   "outputs": [],
   "source": [
    "# Define a function to see the source code of a function. \n",
    "def showfunc(functiontoshow):\n",
    "    print(inspect.getsource(functiontoshow))"
   ]
  },
  {
   "cell_type": "code",
   "execution_count": 63,
   "metadata": {},
   "outputs": [],
   "source": [
    "import typhon as tp"
   ]
  },
  {
   "cell_type": "code",
   "execution_count": 64,
   "metadata": {},
   "outputs": [],
   "source": [
    "# Assume WGS 1984 for the reference Ellipsoid.\n",
    "R_eq = 6378137 # Earth's equatorial radius, in meters\n",
    "iFlttn = 298.257223563 # Inverse flattening\n",
    "R_polar = R_eq * (1-1/iFlttn) # Earth's polar radius\n",
    "eccnty = (2/iFlttn - (1/iFlttn)**2)**0.5 # Eccentricity of the ellipsoid "
   ]
  },
  {
   "cell_type": "code",
   "execution_count": 113,
   "metadata": {},
   "outputs": [],
   "source": [
    "# Files location\n",
    "dain = \"/Users/BLee/Desktop/ARTS/ARTS-Workspace/WorkWith2018Data/07-07/\"\n",
    "\n",
    "# Observation/simulation time\n",
    "TimeOfInterest = pd.Timestamp('2018-07-07 15:00:00+0000',tz='UTC')"
   ]
  },
  {
   "cell_type": "code",
   "execution_count": null,
   "metadata": {},
   "outputs": [],
   "source": []
  },
  {
   "cell_type": "code",
   "execution_count": null,
   "metadata": {},
   "outputs": [],
   "source": []
  },
  {
   "cell_type": "code",
   "execution_count": null,
   "metadata": {},
   "outputs": [],
   "source": []
  },
  {
   "cell_type": "code",
   "execution_count": null,
   "metadata": {},
   "outputs": [],
   "source": []
  },
  {
   "cell_type": "code",
   "execution_count": null,
   "metadata": {},
   "outputs": [],
   "source": []
  },
  {
   "cell_type": "code",
   "execution_count": 99,
   "metadata": {},
   "outputs": [],
   "source": [
    "# Read in LDAPS data. \n",
    "\n",
    "# Pressure (pres) data\n",
    "fn_pres = \"ldps_v070_erlo_pres_h000.\" + TimeOfInterest.strftime('%Y%m%d%H') + \".txt\"\n",
    "f_pres = os.path.join(dain,fn_pres)\n",
    "df_pres = pd.read_csv(f_pres, skiprows=0, \n",
    "                 names=['Index', '?1', 'Type', 'Pressure', 'Longitude', 'Latitude', 'Value'], \n",
    "                 sep=':|:| mb:lon=|,lat=|,val=', \n",
    "                 engine='python')\n",
    "\n",
    "# Surface (unis) data\n",
    "#fn_unis = \"ldps_v070_erlo_unis_h000.2018070715.txt\"\n",
    "#f_unis = os.path.join(dain,fn_unis)\n",
    "#df_unis = pd.read_csv(f_unis, skiprows=0, \n",
    "#                 names=['Index', '?1', 'Type', 'Pressure', 'Longitude', 'Latitude', 'Value'], \n",
    "#                 sep=':|:| mb:lon=|,lat=|,val=', \n",
    "#                 engine='python')\n",
    "\n",
    "pres_P = df_pres.loc[df_pres.Type=='HGT'].Pressure.values * 100\n",
    "pres_GH = df_pres.loc[df_pres.Type=='HGT'].Value.values\n",
    "pres_T = df_pres.loc[df_pres.Type=='TMP'].Value.values\n",
    "pres_RH = df_pres.loc[df_pres.Type=='RH'].Value.values"
   ]
  },
  {
   "cell_type": "code",
   "execution_count": null,
   "metadata": {},
   "outputs": [],
   "source": []
  },
  {
   "cell_type": "code",
   "execution_count": null,
   "metadata": {},
   "outputs": [],
   "source": []
  },
  {
   "cell_type": "code",
   "execution_count": null,
   "metadata": {},
   "outputs": [],
   "source": []
  },
  {
   "cell_type": "code",
   "execution_count": null,
   "metadata": {},
   "outputs": [],
   "source": []
  },
  {
   "cell_type": "code",
   "execution_count": null,
   "metadata": {},
   "outputs": [],
   "source": []
  },
  {
   "cell_type": "code",
   "execution_count": 100,
   "metadata": {},
   "outputs": [],
   "source": [
    "# Read in radimeters data. "
   ]
  },
  {
   "cell_type": "code",
   "execution_count": 101,
   "metadata": {},
   "outputs": [],
   "source": [
    "# Functions for reading in radiometers data. Written by Dr. Choi. \n",
    "class radiometrics:\n",
    "    def read_lv0_data(self,f, *args):\n",
    "\n",
    "        if not f:\n",
    "            print(\"Missing argument FN, Please provide input filename.\")\n",
    "        if len(args) == 0:\n",
    "            tmp_dir = os.path.dirname(f)\n",
    "            dat_idx = '15'\n",
    "        else:\n",
    "            if len(args) == 1:\n",
    "                dat_idx = args[0]\n",
    "                tmp_dir = os.path.dirname(f)\n",
    "            else:\n",
    "                dat_idx = args[0]\n",
    "                tmp_dir = args[1]\n",
    "\n",
    "        dain = os.path.dirname(f)\n",
    "        fn = os.path.basename(f)\n",
    "\n",
    "        fn_sep = re.split('[. _]', fn)\n",
    "        if fn_sep[2] != 'lv0':\n",
    "            print(\"=============================================================================\")\n",
    "            print(\" Given file is not Level2 data. Please try again with lv0 file. Returning...\")\n",
    "            print(\"=============================================================================\")\n",
    "            return -1\n",
    "\n",
    "        f1 = \"_\".join(fn_sep[:len(fn_sep)-1]) + \"_{0}\".format( dat_idx ) + \".csv\"\n",
    "        file_exists = os.path.isfile( os.path.join(dain, f1) )\n",
    "        print(file_exists) \n",
    "        if not file_exists:\n",
    "            bsmwr = radiometrics()\n",
    "            bsmwr.prepare_original(f)\n",
    "\n",
    "        fin = os.path.join(dain, f1)\n",
    "\n",
    "        delimiters = (\"+\", \"-\", \"%\", \"/\", '|', \":\", \" \", \"(\", \")\")\n",
    "        # Get headers (column titles)\n",
    "        regexPattern = '|'.join(map(re.escape, delimiters))\n",
    "        with open( fin, 'r' ) as d:\n",
    "                line = d.readline()     # Read the first line in file\n",
    "                h0 = re.split(',|\\n', line)\n",
    "        d.close()\n",
    "        # Read data\n",
    "        df = pd.read_csv(fin, skiprows=1,names=h0)\n",
    "\n",
    "        # Make time understood in Pandas\n",
    "        df[\"DateTime\"] = pd.to_datetime(df[\"DateTime\"], format='%d/%m/%Y %H:%M:%S', utc=True)\n",
    "\n",
    "        self.df = df\n",
    "        return df\n",
    "\n",
    "    def read_lv1_data(self,f, *args):\n",
    "\n",
    "        if not f:\n",
    "            print(\"Missing argument FN, Please provide input filename.\")\n",
    "        if len(args) == 0:\n",
    "            tmp_dir = os.path.dirname(f)\n",
    "            dat_idx = '50'\n",
    "        else:\n",
    "            if len(args) == 1:\n",
    "                dat_idx = args[0]\n",
    "                tmp_dir = os.path.dirname(f)\n",
    "            else:\n",
    "                dat_idx = args[0]\n",
    "                tmp_dir = args[1]\n",
    "\n",
    "        dain = os.path.dirname(f)\n",
    "        fn = os.path.basename(f)\n",
    "\n",
    "        fn_sep = re.split('[. _]', fn)\n",
    "        if fn_sep[2] != 'lv1':\n",
    "            print(\"=============================================================================\")\n",
    "            print(\" Given file is not Level2 data. Please try again with lv1 file. Returning...\")\n",
    "            print(\"=============================================================================\")\n",
    "            return -1\n",
    "\n",
    "        f1 = \"_\".join(fn_sep[:len(fn_sep)-1]) + \"_{0}\".format( dat_idx ) + \".csv\"\n",
    "        file_exists = os.path.isfile( os.path.join(dain, f1) )\n",
    "        print(file_exists) \n",
    "        if not file_exists:\n",
    "            bsmwr = radiometrics()\n",
    "            bsmwr.prepare_original(f)\n",
    "\n",
    "        fin = os.path.join(dain, f1)\n",
    "\n",
    "        delimiters = (\"+\", \"-\", \"%\", \"/\", '|', \":\", \" \", \"(\", \")\")\n",
    "        # Get headers (column titles)\n",
    "        regexPattern = '|'.join(map(re.escape, delimiters))\n",
    "        with open( fin, 'r' ) as d:\n",
    "                line = d.readline()     # Read the first line in file\n",
    "                h0 = re.split(',|\\n', line)\n",
    "        d.close()\n",
    "        # Read data\n",
    "        df = pd.read_csv(fin, skiprows=1,names=h0)\n",
    "\n",
    "        # Make time understood in Pandas\n",
    "        df[\"DateTime\"] = pd.to_datetime(df[\"DateTime\"], format='%d/%m/%y %H:%M:%S', utc=True)\n",
    "\n",
    "        self.df = df\n",
    "        return df\n",
    "\n",
    "    def read_lv2_data(self,f,*args):\n",
    "\n",
    "        if not f:\n",
    "            print(\"Missing argument FN, Please provide input filename.\")\n",
    "        if len(args) == 0:\n",
    "            tmp_dir = os.path.dirname(f)\n",
    "            dat_idx = '400'\n",
    "        else:\n",
    "            if len(args) == 1:\n",
    "                dat_idx = args[0]\n",
    "                tmp_dir = os.path.dirname(f)\n",
    "            else:\n",
    "                dat_idx = args[0]\n",
    "                tmp_dir = args[1]\n",
    "\n",
    "        dain = os.path.dirname(f)\n",
    "        fn = os.path.basename(f)\n",
    "\n",
    "        fn_sep = re.split('[. _]', fn)\n",
    "        if fn_sep[2] != 'lv2':\n",
    "            print(\"=============================================================================\")\n",
    "            print(\" Given file is not Level2 data. Please try again with lv2 file. Returning...\")\n",
    "            print(\"=============================================================================\")\n",
    "            return -1\n",
    "\n",
    "        f1 = \"_\".join(fn_sep[:len(fn_sep)-1]) + \"_{0}\".format( dat_idx ) + \".csv\"\n",
    "        file_exists = os.path.isfile( os.path.join(dain, f1) )\n",
    "        print(file_exists) \n",
    "        if not file_exists:\n",
    "            bsmwr = radiometrics()\n",
    "            bsmwr.prepare_original(f)\n",
    "\n",
    "        fin = os.path.join(dain, f1)\n",
    "\n",
    "        delimiters = (\"+\", \"-\", \"%\", \"/\", '|', \":\", \" \", \"(\", \")\")\n",
    "        # Get headers (column titles)\n",
    "        regexPattern = '|'.join(map(re.escape, delimiters))\n",
    "        with open( fin, 'r' ) as d:\n",
    "                line = d.readline()     # Read the first line in file\n",
    "                h0 = re.split(',|\\n', line)\n",
    "        d.close()\n",
    "        # Read data\n",
    "        df = pd.read_csv(fin, skiprows=1,names=h0)\n",
    "\n",
    "        # Make time understood in Pandas\n",
    "        df[\"DateTime\"] = pd.to_datetime(df[\"DateTime\"], format='%d/%m/%y %H:%M:%S', utc=True)\n",
    "\n",
    "        self.df = df\n",
    "        return df\n",
    "    \n",
    "    def prepare_original(self, fn, *args):\n",
    "\n",
    "        if not fn:\n",
    "            print(\"Missing argument FN, Please provide input filename.\")\n",
    "        if len(args) == 0:\n",
    "            tmp_dir = os.path.dirname(fn)\n",
    "        else:\n",
    "            tmp_dir = args[0]\n",
    "        fn_sep = fn.split(\".\")\n",
    "\n",
    "        dataidx = []\n",
    "        datanum = []\n",
    "        delimiters = (\"+\", \"-\", \"%\", \"/\", '|', \":\", \" \", \"(\", \")\")\n",
    "        regexPattern = '|'.join(map(re.escape, delimiters))\n",
    "        with open( fn, 'r' ) as d:\n",
    "            while True:\n",
    "                line = d.readline()     # Read the first line in file\n",
    "                if not line: \n",
    "                    self.dataidx = [0]\n",
    "                    return dataidx\n",
    "                    break\n",
    "                h0 = re.split(',|\\n', line)\n",
    "                nh = len( h0 ) - 1      # Number of headers. Ignore last header since it's '/n'\n",
    "                # \n",
    "                # Remove inappropriate letters for BIN filename\n",
    "                # \n",
    "                h1 = [ \"\".join( re.split(regexPattern, h0[i]) ) for i in range(0,nh) ]\n",
    "                                        #---------------------------\n",
    "                if h1[0] == \"Record\":   # Header for each data type\n",
    "                                        #---------------------------\n",
    "                    dataidx.append( h1[2] )\n",
    "                    datanum.append(1)\n",
    "\n",
    "                    foun = \".\".join(fn_sep[:len(fn_sep)-1]) + \"_{0}\".format( h1[2] ) + '.csv'\n",
    "                    fou = open( os.path.join(tmp_dir, foun), 'w' )                     # Open input file\n",
    "                    fou.write( \",\".join(h1) + \"\\n\" )                                # Write data (Add \\n for new line\n",
    "                    fou.close()                                                     # Close input file\n",
    "                                        #-------------------------\n",
    "                else:                   # Data for each data type\n",
    "                                        #-------------------------\n",
    "                    if h1[2] == '99':\n",
    "                        if dataidx.count('99') == 0:\n",
    "                            dataidx.append( h1[2] )\n",
    "                            datanum.append(1)\n",
    "                            file_op_index = 'w'\n",
    "                        else:\n",
    "                            datanum[dataidx.index('99')] = datanum[dataidx.index('99')] + 1\n",
    "                            file_op_index = 'a'\n",
    "\n",
    "                            foun = \".\".join(fn_sep[:len(fn_sep)-1]) + \"_{0}\".format( \"99\" ) + '.csv'\n",
    "                            fou = open( os.path.join(tmp_dir, foun), file_op_index )   # Open input file\n",
    "                            fou.write( line )                                       # Write data\n",
    "                            fou.close()                                             # Close input file\n",
    "                    else:\n",
    "                        for i in range( 0, len(dataidx) ):\n",
    "                            line_index = int(h1[2])\n",
    "                            data_index = int(dataidx[i])\n",
    "                            if (line_index > data_index and line_index <= data_index + 5):\n",
    "                                #\n",
    "                                # There are types of data line ends with comma(,), which Python code recognise\n",
    "                                # as null('') at re.split. In this case, comma separated array shows one more\n",
    "                                # elements than it should. If last element of comma separated array contains\n",
    "                                # null(''), it should drop as bellow. \n",
    "                                #\n",
    "                                h1len = len(h1)\n",
    "                                if h1[h1len-1] == '':\n",
    "                                    h1 = h1[0:h1len-1]\n",
    "                                    nh = nh - 1\n",
    "\n",
    "                                datanum[dataidx.index(dataidx[i])] = datanum[dataidx.index(dataidx[i])] + 1\n",
    "\n",
    "                                foun = \".\".join(fn_sep[:len(fn_sep)-1]) + \"_{0}\".format( dataidx[i] ) + '.csv'\n",
    "                                fou = open( os.path.join(tmp_dir, foun), 'a' )         # Open input file\n",
    "                                fou.write( line )                                   # Write data\n",
    "                                fou.close()                                         # Close input file\n",
    "\n",
    "        d.close()\n",
    "        self.dataidx = dataidx\n",
    "        return dataidx"
   ]
  },
  {
   "cell_type": "code",
   "execution_count": 102,
   "metadata": {},
   "outputs": [
    {
     "name": "stdout",
     "output_type": "stream",
     "text": [
      "True\n"
     ]
    }
   ],
   "source": [
    "# Read in brightness temperature data, contained in Level1 data.\n",
    "fn_radmtr_lv1 = \"2018-07-07_00-04-14_lv1.csv\"\n",
    "f_radmtr_lv1 = os.path.join(dain,fn_radmtr_lv1)\n",
    "df_radmtr_lv1 = radiometrics()\n",
    "df_radmtr_lv1.read_lv1_data(f_radmtr_lv1)\n",
    "\n",
    "# Radiometer channels\n",
    "radmtr_channels = df_radmtr_lv1.df.loc[:,'Ch22.000':'Ch58.800'].dropna(axis=1).columns.str.replace('Ch','')\n",
    "radmtr_channels = radmtr_channels.values.astype(np.float64) * 1e9"
   ]
  },
  {
   "cell_type": "code",
   "execution_count": 103,
   "metadata": {},
   "outputs": [
    {
     "name": "stdout",
     "output_type": "stream",
     "text": [
      "2018-07-07 14:59:00+00:00\n"
     ]
    }
   ],
   "source": [
    "# Radiometer observations (brightness temperatures) for the specific time \n",
    "BosungObs_radmtr = df_radmtr_lv1.df.loc[(df_radmtr_lv1.df.DateTime - TimeOfInterest).abs().idxmin()]\n",
    "print(BosungObs_radmtr.DateTime)\n",
    "BosungObs_radmtr = BosungObs_radmtr.loc['Ch22.000':'Ch58.800'].dropna().values.flatten()"
   ]
  },
  {
   "cell_type": "code",
   "execution_count": 104,
   "metadata": {},
   "outputs": [],
   "source": [
    "# Save as .xml files. \n",
    "tp.arts.xml.save(radmtr_channels, './ClearSky_1D_f_grid.xml')\n",
    "tp.arts.xml.save(BosungObs_radmtr, './BosungObservations.xml')"
   ]
  },
  {
   "cell_type": "code",
   "execution_count": null,
   "metadata": {},
   "outputs": [],
   "source": []
  },
  {
   "cell_type": "code",
   "execution_count": null,
   "metadata": {},
   "outputs": [],
   "source": []
  },
  {
   "cell_type": "code",
   "execution_count": null,
   "metadata": {},
   "outputs": [],
   "source": []
  },
  {
   "cell_type": "code",
   "execution_count": null,
   "metadata": {},
   "outputs": [],
   "source": []
  },
  {
   "cell_type": "code",
   "execution_count": null,
   "metadata": {},
   "outputs": [],
   "source": []
  },
  {
   "cell_type": "code",
   "execution_count": 105,
   "metadata": {},
   "outputs": [],
   "source": [
    "# Read in radiosondes data. \n",
    "fn_radsnd = \"UPP_LV2_RS92-SGP_47258_\" + TimeOfInterest.strftime('%Y%m%d%H%M') + \".txt\"\n",
    "f_radsnd = os.path.join(dain,fn_radsnd)\n",
    "df_radsnd = pd.read_csv(f_radsnd, sep=\",\")\n",
    "#print(*df_radsnd.time.values, sep='\\n') # Print all values.\n",
    "#print(df_radsnd.columns) % Data types. \n",
    "#print(df_radsnd.loc[1865:1868]) # Pressure duplicates\n",
    "\n",
    "# Solicit useful variables. \n",
    "df_radsnd_useful = df_radsnd[['HGT', 'time', 'P', 'Temp', 'RH', 'MixR', 'Lon', 'Lat', 'Alt']]\n",
    "df_radsnd_useful = df_radsnd_useful.dropna().reset_index().drop('index',axis=1)\n",
    "df_radsnd_useful.loc[1:,] = df_radsnd_useful.loc[1:,].astype(float).values \n",
    "df_radsnd_useful_size = len(df_radsnd_useful.loc[:,'P'])"
   ]
  },
  {
   "cell_type": "code",
   "execution_count": 106,
   "metadata": {},
   "outputs": [],
   "source": [
    "# Interpolate the data to fewer vertical grids. Use the nearest neighbor interpolation.\n",
    "df_radsnd_useful_interp_size = 50;\n",
    "df_radsnd_useful_interp = pd.DataFrame( \n",
    "    {'P' : \n",
    "     np.linspace(df_radsnd_useful.loc[1,'P'], df_radsnd_useful.loc[df_radsnd_useful_size-1,'P'], df_radsnd_useful_interp_size)} )\n",
    "df_radsnd_useful_interp = df_radsnd_useful_interp.reindex(df_radsnd_useful.columns, axis=1)\n",
    "\n",
    "# Interpolation\n",
    "for i in range(df_radsnd_useful_interp_size):\n",
    "    nearneigindex = (df_radsnd_useful.loc[1:,'P'] - df_radsnd_useful_interp.loc[i,'P']).astype(float).abs().idxmin()\n",
    "    df_radsnd_useful_interp.loc[i,] = df_radsnd_useful.loc[nearneigindex,].astype('float')\n",
    "\n",
    "# Unit changes\n",
    "df_radsnd_useful_interp.loc[:,'P'] = df_radsnd_useful_interp.loc[:,'P'] * 100\n",
    "df_radsnd_useful_interp.loc[:,'Temp'] = df_radsnd_useful_interp.loc[:,'Temp'] + 273.15\n",
    "df_radsnd_useful_interp.loc[:,'MixR'] = df_radsnd_useful_interp.loc[:,'MixR'] * 1e-3"
   ]
  },
  {
   "cell_type": "code",
   "execution_count": 107,
   "metadata": {},
   "outputs": [
    {
     "data": {
      "image/png": "[encoded data removed]",
      "text/plain": [
       "<Figure size 1152x720 with 2 Axes>"
      ]
     },
     "metadata": {},
     "output_type": "display_data"
    }
   ],
   "source": [
    "# Visualize the radiosondes data. \n",
    "plt.figure()\n",
    "\n",
    "plt.subplot(1,2,1)\n",
    "plt.plot(df_radsnd_useful_interp.loc[:,'Temp'], df_radsnd_useful_interp.loc[:,'Alt'])\n",
    "plt.xlabel('Temperature (K)')\n",
    "plt.ylabel('Altitude (m)')\n",
    "#plt.ylabel('Pressure (Pa)')\n",
    "#plt.gca().invert_yaxis()\n",
    "plt.legend(['Radiosonde Temperature'])\n",
    "\n",
    "plt.subplot(1,2,2)\n",
    "plt.plot(df_radsnd_useful_interp.loc[:,'MixR'], df_radsnd_useful_interp.loc[:,'Alt'])\n",
    "plt.xlabel('Volume mixing ratio')\n",
    "plt.ylabel('Altitude (m)')\n",
    "#plt.ylabel('Pressure (Pa)')\n",
    "#plt.gca().invert_yaxis()\n",
    "plt.legend(['Radiosonde Water VMR'])\n",
    "\n",
    "plt.gcf().set_size_inches(16,10)\n",
    "\n",
    "# Save the figure.\n",
    "plt.savefig(TimeOfInterest.strftime('%Y_%m_%d_%H-%M-%S_') + 'T&WaterVMR' + '.png')"
   ]
  },
  {
   "cell_type": "code",
   "execution_count": 108,
   "metadata": {},
   "outputs": [],
   "source": [
    "# Necessary variables for ARTS simulations \n",
    "radsnd_P = df_radsnd_useful_interp.loc[:,'P'].values\n",
    "radsnd_T = df_radsnd_useful_interp.loc[:,'Temp'].values\n",
    "radsnd_WaterVMR = df_radsnd_useful_interp.loc[:,'MixR'].values\n",
    "radsnd_Alt = df_radsnd_useful_interp.loc[:,'Alt'].values\n",
    "\n",
    "# Save as .xml files.\n",
    "tp.arts.xml.save(radsnd_P, './ClearSky_1D_p_grid.xml')\n",
    "\n",
    "# Save z_field as GriddedField3 xml file. \n",
    "z_field_GF3 = tp.arts.griddedfield.GriddedField3()\n",
    "z_field_GF3.data = np.reshape(radsnd_Alt,(len(radsnd_P),1,1))\n",
    "z_field_GF3.grids = [radsnd_P, np.array([0]), np.array([0])]\n",
    "z_field_GF3.gridnames = ['Pressure', 'Latitude', 'Longitude']\n",
    "tp.arts.xml.save(z_field_GF3, './ClearSky_1D.z.xml')\n",
    "\n",
    "# Save t_field as GriddedField3 xml file. \n",
    "t_field_GF3 = tp.arts.griddedfield.GriddedField3()\n",
    "t_field_GF3.data = np.reshape(radsnd_T,(len(radsnd_P),1,1))\n",
    "t_field_GF3.grids = [radsnd_P, np.array([0]), np.array([0])]\n",
    "t_field_GF3.gridnames = ['Pressure', 'Latitude', 'Longitude']\n",
    "tp.arts.xml.save(t_field_GF3, './ClearSky_1D.t.xml')\n",
    "\n",
    "# Save Water VMR as GriddedField3 xml file. \n",
    "VMR_H2O_GF3 = tp.arts.griddedfield.GriddedField3()\n",
    "VMR_H2O_GF3.data = np.reshape(radsnd_WaterVMR,(len(radsnd_P),1,1))\n",
    "VMR_H2O_GF3.grids = [radsnd_P, np.array([0]), np.array([0])]\n",
    "VMR_H2O_GF3.gridnames = ['Pressure', 'Latitude', 'Longitude']\n",
    "tp.arts.xml.save(VMR_H2O_GF3, './ClearSky_1D.H2O.xml')"
   ]
  },
  {
   "cell_type": "code",
   "execution_count": null,
   "metadata": {},
   "outputs": [],
   "source": []
  },
  {
   "cell_type": "code",
   "execution_count": null,
   "metadata": {},
   "outputs": [],
   "source": []
  },
  {
   "cell_type": "code",
   "execution_count": null,
   "metadata": {},
   "outputs": [],
   "source": []
  },
  {
   "cell_type": "code",
   "execution_count": null,
   "metadata": {},
   "outputs": [],
   "source": []
  },
  {
   "cell_type": "code",
   "execution_count": null,
   "metadata": {},
   "outputs": [],
   "source": []
  },
  {
   "cell_type": "code",
   "execution_count": 109,
   "metadata": {},
   "outputs": [],
   "source": [
    "# Sensor LOS and geolocation \n",
    "tp.arts.xml.save(np.array([[0]]), './ClearSky_1D_sensor_los.xml')\n",
    "tp.arts.xml.save(np.array([[0]]), './ClearSky_1D_sensor_pos.xml')"
   ]
  },
  {
   "cell_type": "code",
   "execution_count": 110,
   "metadata": {},
   "outputs": [],
   "source": [
    "# ARTS forward model: \n",
    "tp.arts.run_arts(controlfile='./ClearSky_1D_ARTSvdev.arts');\n",
    "\n",
    "# ARTS forward model results. \n",
    "Tb_ARTS_ClearSky = tp.arts.xml.load(\"./ClearSky_1D_Tb.xml\")"
   ]
  },
  {
   "cell_type": "code",
   "execution_count": 111,
   "metadata": {},
   "outputs": [
    {
     "data": {
      "image/png": "[encoded data removed]",
      "text/plain": [
       "<Figure size 1080x360 with 1 Axes>"
      ]
     },
     "metadata": {},
     "output_type": "display_data"
    }
   ],
   "source": [
    "# Compare brightness temperatures from the simulation with the observations. \n",
    "plt.plot(radmtr_channels, Tb_ARTS_ClearSky, 'ro', radmtr_channels, BosungObs_radmtr, 'bs')\n",
    "plt.xlabel('Frequency (Hz)')\n",
    "plt.ylabel('Brightness Temperature (K)')\n",
    "plt.legend(['Simulated','Bosung Observations'])\n",
    "plt.gcf().set_size_inches(15,5)\n",
    "\n",
    "# Save the figure.\n",
    "plt.savefig(TimeOfInterest.strftime('%Y_%m_%d_%H-%M-%S_') + 'ForwardModelvObservations' + '.png')"
   ]
  },
  {
   "cell_type": "code",
   "execution_count": 112,
   "metadata": {},
   "outputs": [
    {
     "data": {
      "image/png": "[encoded data removed]",
      "text/plain": [
       "<Figure size 1080x360 with 1 Axes>"
      ]
     },
     "metadata": {},
     "output_type": "display_data"
    }
   ],
   "source": [
    "# Plot the difference between the two. \n",
    "plt.plot(radmtr_channels, Tb_ARTS_ClearSky - BosungObs_radmtr, 'gd', \n",
    "         radmtr_channels, np.zeros(radmtr_channels.shape),'k--')\n",
    "plt.xlabel('Frequency (Hz)')\n",
    "plt.ylabel('Brightness Temperature (K)')\n",
    "plt.legend(['Simulated minus Observations'])\n",
    "plt.gcf().set_size_inches(15,5)\n",
    "\n",
    "# Save the figure.\n",
    "plt.savefig(TimeOfInterest.strftime('%Y_%m_%d_%H-%M-%S_') + 'ForwardModelvObservationsDiff' + '.png')"
   ]
  },
  {
   "cell_type": "code",
   "execution_count": null,
   "metadata": {},
   "outputs": [],
   "source": []
  },
  {
   "cell_type": "code",
   "execution_count": null,
   "metadata": {},
   "outputs": [],
   "source": []
  },
  {
   "cell_type": "code",
   "execution_count": null,
   "metadata": {},
   "outputs": [],
   "source": []
  },
  {
   "cell_type": "code",
   "execution_count": null,
   "metadata": {},
   "outputs": [],
   "source": []
  },
  {
   "cell_type": "code",
   "execution_count": null,
   "metadata": {},
   "outputs": [],
   "source": []
  },
  {
   "cell_type": "code",
   "execution_count": null,
   "metadata": {},
   "outputs": [],
   "source": []
  },
  {
   "cell_type": "code",
   "execution_count": null,
   "metadata": {},
   "outputs": [],
   "source": []
  }
 ],
 "metadata": {
  "kernelspec": {
   "display_name": "Python 3",
   "language": "python",
   "name": "python3"
  },
  "language_info": {
   "codemirror_mode": {
    "name": "ipython",
    "version": 3
   },
   "file_extension": ".py",
   "mimetype": "text/x-python",
   "name": "python",
   "nbconvert_exporter": "python",
   "pygments_lexer": "ipython3",
   "version": "3.6.5"
  }
 },
 "nbformat": 4,
 "nbformat_minor": 2
}
